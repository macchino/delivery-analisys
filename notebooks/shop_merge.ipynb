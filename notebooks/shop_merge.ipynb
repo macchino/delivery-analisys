{
 "cells": [
  {
   "cell_type": "markdown",
   "metadata": {},
   "source": [
    "# データ変換用"
   ]
  },
  {
   "cell_type": "markdown",
   "metadata": {},
   "source": [
    "整理がだいたいできたらスクリプト化する。"
   ]
  },
  {
   "cell_type": "code",
   "execution_count": 20,
   "metadata": {},
   "outputs": [],
   "source": [
    "import pandas as pd"
   ]
  },
  {
   "cell_type": "code",
   "execution_count": 21,
   "metadata": {},
   "outputs": [],
   "source": [
    "master = pd.read_csv(\"./../data/shop_master.csv\", index_col=\"id\")"
   ]
  },
  {
   "cell_type": "code",
   "execution_count": 22,
   "metadata": {},
   "outputs": [
    {
     "data": {
      "text/html": [
       "<div>\n",
       "<style scoped>\n",
       "    .dataframe tbody tr th:only-of-type {\n",
       "        vertical-align: middle;\n",
       "    }\n",
       "\n",
       "    .dataframe tbody tr th {\n",
       "        vertical-align: top;\n",
       "    }\n",
       "\n",
       "    .dataframe thead th {\n",
       "        text-align: right;\n",
       "    }\n",
       "</style>\n",
       "<table border=\"1\" class=\"dataframe\">\n",
       "  <thead>\n",
       "    <tr style=\"text-align: right;\">\n",
       "      <th></th>\n",
       "      <th>address</th>\n",
       "      <th>latitude</th>\n",
       "      <th>longitude</th>\n",
       "      <th>name</th>\n",
       "      <th>point</th>\n",
       "      <th>postal_code</th>\n",
       "      <th>reviews</th>\n",
       "      <th>url</th>\n",
       "    </tr>\n",
       "    <tr>\n",
       "      <th>id</th>\n",
       "      <th></th>\n",
       "      <th></th>\n",
       "      <th></th>\n",
       "      <th></th>\n",
       "      <th></th>\n",
       "      <th></th>\n",
       "      <th></th>\n",
       "      <th></th>\n",
       "    </tr>\n",
       "  </thead>\n",
       "  <tbody>\n",
       "    <tr>\n",
       "      <th>nWVRj3lxR-GgHArpgXaG-A</th>\n",
       "      <td>神奈川県横浜市港北区日吉本町1-16-20 Kanagawa</td>\n",
       "      <td>35.553888</td>\n",
       "      <td>139.644080</td>\n",
       "      <td>キッチン オリジン 日吉中央通り Kitchen Origin Hiyoshichuodori</td>\n",
       "      <td>4.2</td>\n",
       "      <td>223-0062</td>\n",
       "      <td>26.0</td>\n",
       "      <td>https://www.ubereats.com/jp/yokohama/food-deli...</td>\n",
       "    </tr>\n",
       "    <tr>\n",
       "      <th>kRn0KFEVR5CKiFlocLwC_g</th>\n",
       "      <td>神奈川県 川崎市 高津区 千年 665 Kawasaki</td>\n",
       "      <td>35.577274</td>\n",
       "      <td>139.628568</td>\n",
       "      <td>とんかつ後藤 Tonkatsu Goto</td>\n",
       "      <td>NaN</td>\n",
       "      <td>213-0022</td>\n",
       "      <td>NaN</td>\n",
       "      <td>https://www.ubereats.com/jp/yokohama/food-deli...</td>\n",
       "    </tr>\n",
       "    <tr>\n",
       "      <th>tpjELe1oTbCMLur0jjNhyw</th>\n",
       "      <td>神奈川県川崎市高津区二子4-1-5 Kanagawa</td>\n",
       "      <td>35.602926</td>\n",
       "      <td>139.617100</td>\n",
       "      <td>キッチン オリジン 高津 Kitchen Origin Takatsu</td>\n",
       "      <td>4.3</td>\n",
       "      <td>213-0002</td>\n",
       "      <td>49.0</td>\n",
       "      <td>https://www.ubereats.com/jp/yokohama/food-deli...</td>\n",
       "    </tr>\n",
       "  </tbody>\n",
       "</table>\n",
       "</div>"
      ],
      "text/plain": [
       "                                               address   latitude   longitude  \\\n",
       "id                                                                              \n",
       "nWVRj3lxR-GgHArpgXaG-A  神奈川県横浜市港北区日吉本町1-16-20 Kanagawa  35.553888  139.644080   \n",
       "kRn0KFEVR5CKiFlocLwC_g    神奈川県 川崎市 高津区 千年 665 Kawasaki  35.577274  139.628568   \n",
       "tpjELe1oTbCMLur0jjNhyw      神奈川県川崎市高津区二子4-1-5 Kanagawa  35.602926  139.617100   \n",
       "\n",
       "                                                                   name  \\\n",
       "id                                                                        \n",
       "nWVRj3lxR-GgHArpgXaG-A  キッチン オリジン 日吉中央通り Kitchen Origin Hiyoshichuodori   \n",
       "kRn0KFEVR5CKiFlocLwC_g                             とんかつ後藤 Tonkatsu Goto   \n",
       "tpjELe1oTbCMLur0jjNhyw              キッチン オリジン 高津 Kitchen Origin Takatsu   \n",
       "\n",
       "                        point postal_code  reviews  \\\n",
       "id                                                   \n",
       "nWVRj3lxR-GgHArpgXaG-A    4.2    223-0062     26.0   \n",
       "kRn0KFEVR5CKiFlocLwC_g    NaN    213-0022      NaN   \n",
       "tpjELe1oTbCMLur0jjNhyw    4.3    213-0002     49.0   \n",
       "\n",
       "                                                                      url  \n",
       "id                                                                         \n",
       "nWVRj3lxR-GgHArpgXaG-A  https://www.ubereats.com/jp/yokohama/food-deli...  \n",
       "kRn0KFEVR5CKiFlocLwC_g  https://www.ubereats.com/jp/yokohama/food-deli...  \n",
       "tpjELe1oTbCMLur0jjNhyw  https://www.ubereats.com/jp/yokohama/food-deli...  "
      ]
     },
     "execution_count": 22,
     "metadata": {},
     "output_type": "execute_result"
    }
   ],
   "source": [
    "master.head(3)"
   ]
  },
  {
   "cell_type": "code",
   "execution_count": 23,
   "metadata": {
    "scrolled": true
   },
   "outputs": [
    {
     "data": {
      "text/plain": [
       "575"
      ]
     },
     "execution_count": 23,
     "metadata": {},
     "output_type": "execute_result"
    }
   ],
   "source": [
    "len(master)"
   ]
  },
  {
   "cell_type": "code",
   "execution_count": 24,
   "metadata": {},
   "outputs": [],
   "source": [
    "# df = pd.read_csv(\"./../rawdata/shops/200322_all_stations.csv\", index_col=\"id\")\n",
    "df = pd.read_csv(\"./../rawdata/shops/200412_musashimizonokuchi.csv\", index_col=\"id\")"
   ]
  },
  {
   "cell_type": "code",
   "execution_count": 25,
   "metadata": {},
   "outputs": [
    {
     "data": {
      "text/plain": [
       "98"
      ]
     },
     "execution_count": 25,
     "metadata": {},
     "output_type": "execute_result"
    }
   ],
   "source": [
    "len(df)"
   ]
  },
  {
   "cell_type": "code",
   "execution_count": 31,
   "metadata": {},
   "outputs": [],
   "source": [
    "data = pd.concat([master, df], sort=False).drop_duplicates(subset=\"url\", keep=\"last\")"
   ]
  },
  {
   "cell_type": "code",
   "execution_count": 32,
   "metadata": {},
   "outputs": [
    {
     "data": {
      "text/plain": [
       "575"
      ]
     },
     "execution_count": 32,
     "metadata": {},
     "output_type": "execute_result"
    }
   ],
   "source": [
    "len(data)"
   ]
  },
  {
   "cell_type": "code",
   "execution_count": 18,
   "metadata": {},
   "outputs": [
    {
     "data": {
      "text/html": [
       "<div>\n",
       "<style scoped>\n",
       "    .dataframe tbody tr th:only-of-type {\n",
       "        vertical-align: middle;\n",
       "    }\n",
       "\n",
       "    .dataframe tbody tr th {\n",
       "        vertical-align: top;\n",
       "    }\n",
       "\n",
       "    .dataframe thead th {\n",
       "        text-align: right;\n",
       "    }\n",
       "</style>\n",
       "<table border=\"1\" class=\"dataframe\">\n",
       "  <thead>\n",
       "    <tr style=\"text-align: right;\">\n",
       "      <th></th>\n",
       "      <th>address</th>\n",
       "      <th>latitude</th>\n",
       "      <th>longitude</th>\n",
       "      <th>name</th>\n",
       "      <th>point</th>\n",
       "      <th>postal_code</th>\n",
       "      <th>reviews</th>\n",
       "      <th>url</th>\n",
       "    </tr>\n",
       "    <tr>\n",
       "      <th>id</th>\n",
       "      <th></th>\n",
       "      <th></th>\n",
       "      <th></th>\n",
       "      <th></th>\n",
       "      <th></th>\n",
       "      <th></th>\n",
       "      <th></th>\n",
       "      <th></th>\n",
       "    </tr>\n",
       "  </thead>\n",
       "  <tbody>\n",
       "  </tbody>\n",
       "</table>\n",
       "</div>"
      ],
      "text/plain": [
       "Empty DataFrame\n",
       "Columns: [address, latitude, longitude, name, point, postal_code, reviews, url]\n",
       "Index: []"
      ]
     },
     "execution_count": 18,
     "metadata": {},
     "output_type": "execute_result"
    }
   ],
   "source": [
    "# 新しく加盟した店\n",
    "new_shops = data[~data['url'].isin(master['url'])]\n",
    "new_shops"
   ]
  },
  {
   "cell_type": "markdown",
   "metadata": {},
   "source": [
    "## 単体マージ"
   ]
  },
  {
   "cell_type": "code",
   "execution_count": null,
   "metadata": {},
   "outputs": [],
   "source": [
    "shop = pd.read_csv(\"./../rawdata/shops/shop.csv\", index_col=\"id\")\n",
    "data = pd.concat([master, shop]).drop_duplicates(subset=\"url\")"
   ]
  },
  {
   "cell_type": "code",
   "execution_count": null,
   "metadata": {},
   "outputs": [],
   "source": [
    "len(data)"
   ]
  },
  {
   "cell_type": "markdown",
   "metadata": {},
   "source": [
    "## Export"
   ]
  },
  {
   "cell_type": "code",
   "execution_count": 33,
   "metadata": {},
   "outputs": [],
   "source": [
    "data.to_csv(\"./../data/shop_master.csv\", index=True)"
   ]
  },
  {
   "cell_type": "code",
   "execution_count": 7,
   "metadata": {},
   "outputs": [],
   "source": [
    "output = pd.DataFrame()"
   ]
  },
  {
   "cell_type": "code",
   "execution_count": 8,
   "metadata": {},
   "outputs": [],
   "source": [
    "output[\"店名\"] = data[\"name\"]\n",
    "output[\"住所\"] = data[\"address\"]\n",
    "output[\"緯度\"] = data[\"latitude\"]\n",
    "output[\"経度\"] = data[\"longitude\"]\n",
    "# output[\"開始\"] = data[\"open_hour\"]\n",
    "# output[\"終了\"] = data[\"close_hour\"]\n",
    "output[\"点数\"] = data[\"point\"]\n",
    "output[\"レビュー数\"] = data[\"reviews\"]\n",
    "output[\"URL\"] = data[\"url\"]"
   ]
  },
  {
   "cell_type": "code",
   "execution_count": 9,
   "metadata": {},
   "outputs": [],
   "source": [
    "output.to_csv(\"./../data/googlemap.csv\", index=False)"
   ]
  },
  {
   "cell_type": "code",
   "execution_count": null,
   "metadata": {},
   "outputs": [],
   "source": []
  }
 ],
 "metadata": {
  "kernelspec": {
   "display_name": "Environment (conda_ubereats)",
   "language": "python",
   "name": "conda_ubereats"
  },
  "language_info": {
   "codemirror_mode": {
    "name": "ipython",
    "version": 3
   },
   "file_extension": ".py",
   "mimetype": "text/x-python",
   "name": "python",
   "nbconvert_exporter": "python",
   "pygments_lexer": "ipython3",
   "version": "3.7.5"
  }
 },
 "nbformat": 4,
 "nbformat_minor": 2
}
