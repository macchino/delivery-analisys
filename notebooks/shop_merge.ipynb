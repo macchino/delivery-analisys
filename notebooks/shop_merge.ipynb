{
 "cells": [
  {
   "cell_type": "markdown",
   "metadata": {},
   "source": [
    "# データ変換用"
   ]
  },
  {
   "cell_type": "markdown",
   "metadata": {},
   "source": [
    "整理がだいたいできたらスクリプト化する。"
   ]
  },
  {
   "cell_type": "code",
   "execution_count": 38,
   "metadata": {},
   "outputs": [],
   "source": [
    "import pandas as pd"
   ]
  },
  {
   "cell_type": "code",
   "execution_count": 39,
   "metadata": {},
   "outputs": [],
   "source": [
    "master = pd.read_csv(\"./../data/shop_master.csv\", index_col=\"id\")"
   ]
  },
  {
   "cell_type": "code",
   "execution_count": 40,
   "metadata": {},
   "outputs": [
    {
     "data": {
      "text/html": [
       "<div>\n",
       "<style scoped>\n",
       "    .dataframe tbody tr th:only-of-type {\n",
       "        vertical-align: middle;\n",
       "    }\n",
       "\n",
       "    .dataframe tbody tr th {\n",
       "        vertical-align: top;\n",
       "    }\n",
       "\n",
       "    .dataframe thead th {\n",
       "        text-align: right;\n",
       "    }\n",
       "</style>\n",
       "<table border=\"1\" class=\"dataframe\">\n",
       "  <thead>\n",
       "    <tr style=\"text-align: right;\">\n",
       "      <th></th>\n",
       "      <th>address</th>\n",
       "      <th>close_hour</th>\n",
       "      <th>latitude</th>\n",
       "      <th>longitude</th>\n",
       "      <th>name</th>\n",
       "      <th>open_hour</th>\n",
       "      <th>point</th>\n",
       "      <th>postal_code</th>\n",
       "      <th>reviews</th>\n",
       "      <th>url</th>\n",
       "    </tr>\n",
       "    <tr>\n",
       "      <th>id</th>\n",
       "      <th></th>\n",
       "      <th></th>\n",
       "      <th></th>\n",
       "      <th></th>\n",
       "      <th></th>\n",
       "      <th></th>\n",
       "      <th></th>\n",
       "      <th></th>\n",
       "      <th></th>\n",
       "      <th></th>\n",
       "    </tr>\n",
       "  </thead>\n",
       "  <tbody>\n",
       "    <tr>\n",
       "      <th>nWVRj3lxR-GgHArpgXaG-A</th>\n",
       "      <td>神奈川県横浜市港北区日吉本町1-16-20 Kanagawa</td>\n",
       "      <td>21:00</td>\n",
       "      <td>35.553888</td>\n",
       "      <td>139.644080</td>\n",
       "      <td>キッチン オリジン 日吉中央通り Kitchen Origin Hiyoshichuodori</td>\n",
       "      <td>10:00</td>\n",
       "      <td>4.2</td>\n",
       "      <td>223-0062</td>\n",
       "      <td>26.0</td>\n",
       "      <td>https://www.ubereats.com/ja-JP/yokohama/food-d...</td>\n",
       "    </tr>\n",
       "    <tr>\n",
       "      <th>NwDRwsDqS7-xf7e3844hsA</th>\n",
       "      <td>神奈川県川崎市高津区溝口２丁目３－１３</td>\n",
       "      <td>22:00</td>\n",
       "      <td>35.599877</td>\n",
       "      <td>139.609638</td>\n",
       "      <td>バーミヤン 溝の口店 Bamiyan Mizonokuchi</td>\n",
       "      <td>10:30</td>\n",
       "      <td>4.5</td>\n",
       "      <td>213-0001</td>\n",
       "      <td>102.0</td>\n",
       "      <td>https://www.ubereats.com/ja-JP/yokohama/food-d...</td>\n",
       "    </tr>\n",
       "    <tr>\n",
       "      <th>kRn0KFEVR5CKiFlocLwC_g</th>\n",
       "      <td>神奈川県 川崎市 高津区 千年 665 Kawasaki</td>\n",
       "      <td>21:00</td>\n",
       "      <td>35.577274</td>\n",
       "      <td>139.628568</td>\n",
       "      <td>とんかつ後藤 Tonkatsu Goto</td>\n",
       "      <td>17:00</td>\n",
       "      <td>NaN</td>\n",
       "      <td>213-0022</td>\n",
       "      <td>NaN</td>\n",
       "      <td>https://www.ubereats.com/ja-JP/yokohama/food-d...</td>\n",
       "    </tr>\n",
       "  </tbody>\n",
       "</table>\n",
       "</div>"
      ],
      "text/plain": [
       "                                               address close_hour   latitude  \\\n",
       "id                                                                             \n",
       "nWVRj3lxR-GgHArpgXaG-A  神奈川県横浜市港北区日吉本町1-16-20 Kanagawa      21:00  35.553888   \n",
       "NwDRwsDqS7-xf7e3844hsA             神奈川県川崎市高津区溝口２丁目３－１３      22:00  35.599877   \n",
       "kRn0KFEVR5CKiFlocLwC_g    神奈川県 川崎市 高津区 千年 665 Kawasaki      21:00  35.577274   \n",
       "\n",
       "                         longitude  \\\n",
       "id                                   \n",
       "nWVRj3lxR-GgHArpgXaG-A  139.644080   \n",
       "NwDRwsDqS7-xf7e3844hsA  139.609638   \n",
       "kRn0KFEVR5CKiFlocLwC_g  139.628568   \n",
       "\n",
       "                                                                   name  \\\n",
       "id                                                                        \n",
       "nWVRj3lxR-GgHArpgXaG-A  キッチン オリジン 日吉中央通り Kitchen Origin Hiyoshichuodori   \n",
       "NwDRwsDqS7-xf7e3844hsA                   バーミヤン 溝の口店 Bamiyan Mizonokuchi   \n",
       "kRn0KFEVR5CKiFlocLwC_g                             とんかつ後藤 Tonkatsu Goto   \n",
       "\n",
       "                       open_hour  point postal_code  reviews  \\\n",
       "id                                                             \n",
       "nWVRj3lxR-GgHArpgXaG-A     10:00    4.2    223-0062     26.0   \n",
       "NwDRwsDqS7-xf7e3844hsA     10:30    4.5    213-0001    102.0   \n",
       "kRn0KFEVR5CKiFlocLwC_g     17:00    NaN    213-0022      NaN   \n",
       "\n",
       "                                                                      url  \n",
       "id                                                                         \n",
       "nWVRj3lxR-GgHArpgXaG-A  https://www.ubereats.com/ja-JP/yokohama/food-d...  \n",
       "NwDRwsDqS7-xf7e3844hsA  https://www.ubereats.com/ja-JP/yokohama/food-d...  \n",
       "kRn0KFEVR5CKiFlocLwC_g  https://www.ubereats.com/ja-JP/yokohama/food-d...  "
      ]
     },
     "execution_count": 40,
     "metadata": {},
     "output_type": "execute_result"
    }
   ],
   "source": [
    "master.head(3)"
   ]
  },
  {
   "cell_type": "code",
   "execution_count": 41,
   "metadata": {
    "scrolled": true
   },
   "outputs": [
    {
     "data": {
      "text/plain": [
       "307"
      ]
     },
     "execution_count": 41,
     "metadata": {},
     "output_type": "execute_result"
    }
   ],
   "source": [
    "len(master)"
   ]
  },
  {
   "cell_type": "code",
   "execution_count": 27,
   "metadata": {},
   "outputs": [],
   "source": [
    "df = pd.read_csv(\"./../rawdata/shops/200122_musashinakahara.csv\", index_col=\"id\")"
   ]
  },
  {
   "cell_type": "code",
   "execution_count": 28,
   "metadata": {},
   "outputs": [
    {
     "data": {
      "text/plain": [
       "218"
      ]
     },
     "execution_count": 28,
     "metadata": {},
     "output_type": "execute_result"
    }
   ],
   "source": [
    "len(df)"
   ]
  },
  {
   "cell_type": "code",
   "execution_count": 29,
   "metadata": {},
   "outputs": [],
   "source": [
    "data = pd.concat([master, df], sort=False).drop_duplicates(subset=\"url\", keep=\"last\")"
   ]
  },
  {
   "cell_type": "code",
   "execution_count": 30,
   "metadata": {},
   "outputs": [
    {
     "data": {
      "text/plain": [
       "307"
      ]
     },
     "execution_count": 30,
     "metadata": {},
     "output_type": "execute_result"
    }
   ],
   "source": [
    "len(data)"
   ]
  },
  {
   "cell_type": "code",
   "execution_count": 31,
   "metadata": {},
   "outputs": [
    {
     "data": {
      "text/html": [
       "<div>\n",
       "<style scoped>\n",
       "    .dataframe tbody tr th:only-of-type {\n",
       "        vertical-align: middle;\n",
       "    }\n",
       "\n",
       "    .dataframe tbody tr th {\n",
       "        vertical-align: top;\n",
       "    }\n",
       "\n",
       "    .dataframe thead th {\n",
       "        text-align: right;\n",
       "    }\n",
       "</style>\n",
       "<table border=\"1\" class=\"dataframe\">\n",
       "  <thead>\n",
       "    <tr style=\"text-align: right;\">\n",
       "      <th></th>\n",
       "      <th>address</th>\n",
       "      <th>close_hour</th>\n",
       "      <th>latitude</th>\n",
       "      <th>longitude</th>\n",
       "      <th>name</th>\n",
       "      <th>open_hour</th>\n",
       "      <th>point</th>\n",
       "      <th>postal_code</th>\n",
       "      <th>reviews</th>\n",
       "      <th>url</th>\n",
       "    </tr>\n",
       "    <tr>\n",
       "      <th>id</th>\n",
       "      <th></th>\n",
       "      <th></th>\n",
       "      <th></th>\n",
       "      <th></th>\n",
       "      <th></th>\n",
       "      <th></th>\n",
       "      <th></th>\n",
       "      <th></th>\n",
       "      <th></th>\n",
       "      <th></th>\n",
       "    </tr>\n",
       "  </thead>\n",
       "  <tbody>\n",
       "    <tr>\n",
       "      <th>52lOZ9Y3REqRRaR98muOWQ</th>\n",
       "      <td>2 Chome-19-12 Takatanishi Kōhoku-Ku Yokohama-S...</td>\n",
       "      <td>15:00</td>\n",
       "      <td>35.551201</td>\n",
       "      <td>139.616597</td>\n",
       "      <td>yabin 高田店 yabin Takataten</td>\n",
       "      <td>17:00</td>\n",
       "      <td>4.6</td>\n",
       "      <td>223-0066</td>\n",
       "      <td>36.0</td>\n",
       "      <td>https://www.ubereats.com/ja-JP/yokohama/food-d...</td>\n",
       "    </tr>\n",
       "    <tr>\n",
       "      <th>ZIPaNyYjRS2Q3j6b4F4FJw</th>\n",
       "      <td>2 Chome-1-1 Kizuki Nakahara-Ku 川崎市中原区 Kanagawa...</td>\n",
       "      <td>18:00</td>\n",
       "      <td>35.565528</td>\n",
       "      <td>139.654871</td>\n",
       "      <td>ベトナムサンドウィッチ タオズ Vietnamese Sandwich Thao's</td>\n",
       "      <td>11:00</td>\n",
       "      <td>4.8</td>\n",
       "      <td>211-0025</td>\n",
       "      <td>199.0</td>\n",
       "      <td>https://www.ubereats.com/ja-JP/yokohama/food-d...</td>\n",
       "    </tr>\n",
       "    <tr>\n",
       "      <th>Z0uV-pl0QZe7r8IHy8yXPA</th>\n",
       "      <td>神奈川県川崎市中原区木月2-5-14 KMGビルB画 Tokyo</td>\n",
       "      <td>21:30</td>\n",
       "      <td>35.564574</td>\n",
       "      <td>139.654809</td>\n",
       "      <td>CONA元住吉店 CONA MOTOSUMIYOSHI</td>\n",
       "      <td>11:30</td>\n",
       "      <td>NaN</td>\n",
       "      <td>211-0025</td>\n",
       "      <td>NaN</td>\n",
       "      <td>https://www.ubereats.com/ja-JP/yokohama/food-d...</td>\n",
       "    </tr>\n",
       "    <tr>\n",
       "      <th>o6QwO0EHRXCsY9zlK8uHbQ</th>\n",
       "      <td>川崎市中原区 木月3-10-20  永塚ビル1F Kawasaki</td>\n",
       "      <td>18:30</td>\n",
       "      <td>35.565563</td>\n",
       "      <td>139.647959</td>\n",
       "      <td>リップル Ripple</td>\n",
       "      <td>10:00</td>\n",
       "      <td>4.6</td>\n",
       "      <td>211-0025</td>\n",
       "      <td>16.0</td>\n",
       "      <td>https://www.ubereats.com/ja-JP/yokohama/food-d...</td>\n",
       "    </tr>\n",
       "    <tr>\n",
       "      <th>TH8Pq_FeQ2icwFoUkJVtIw</th>\n",
       "      <td>5 Chome-4-12 Tsunashimanishi Kōhoku-Ku Yokoham...</td>\n",
       "      <td>21:00</td>\n",
       "      <td>35.545763</td>\n",
       "      <td>139.627305</td>\n",
       "      <td>てっぱん。 Teppan.</td>\n",
       "      <td>11:30</td>\n",
       "      <td>4.4</td>\n",
       "      <td>223-0053</td>\n",
       "      <td>48.0</td>\n",
       "      <td>https://www.ubereats.com/ja-JP/yokohama/food-d...</td>\n",
       "    </tr>\n",
       "    <tr>\n",
       "      <th>jP3eqNmcSHar8R1IeXEvnw</th>\n",
       "      <td>神奈川県川崎市中原区新城3-1-16 Kanagawa</td>\n",
       "      <td>23:15</td>\n",
       "      <td>35.586630</td>\n",
       "      <td>139.630556</td>\n",
       "      <td>串カツ田中 武蔵新城店 Kushikatsu Tanaka Musashishinjo</td>\n",
       "      <td>12:00</td>\n",
       "      <td>4.4</td>\n",
       "      <td>211-0044</td>\n",
       "      <td>62.0</td>\n",
       "      <td>https://www.ubereats.com/ja-JP/yokohama/food-d...</td>\n",
       "    </tr>\n",
       "  </tbody>\n",
       "</table>\n",
       "</div>"
      ],
      "text/plain": [
       "                                                                  address  \\\n",
       "id                                                                          \n",
       "52lOZ9Y3REqRRaR98muOWQ  2 Chome-19-12 Takatanishi Kōhoku-Ku Yokohama-S...   \n",
       "ZIPaNyYjRS2Q3j6b4F4FJw  2 Chome-1-1 Kizuki Nakahara-Ku 川崎市中原区 Kanagawa...   \n",
       "Z0uV-pl0QZe7r8IHy8yXPA                   神奈川県川崎市中原区木月2-5-14 KMGビルB画 Tokyo   \n",
       "o6QwO0EHRXCsY9zlK8uHbQ                  川崎市中原区 木月3-10-20  永塚ビル1F Kawasaki   \n",
       "TH8Pq_FeQ2icwFoUkJVtIw  5 Chome-4-12 Tsunashimanishi Kōhoku-Ku Yokoham...   \n",
       "jP3eqNmcSHar8R1IeXEvnw                        神奈川県川崎市中原区新城3-1-16 Kanagawa   \n",
       "\n",
       "                       close_hour   latitude   longitude  \\\n",
       "id                                                         \n",
       "52lOZ9Y3REqRRaR98muOWQ      15:00  35.551201  139.616597   \n",
       "ZIPaNyYjRS2Q3j6b4F4FJw      18:00  35.565528  139.654871   \n",
       "Z0uV-pl0QZe7r8IHy8yXPA      21:30  35.564574  139.654809   \n",
       "o6QwO0EHRXCsY9zlK8uHbQ      18:30  35.565563  139.647959   \n",
       "TH8Pq_FeQ2icwFoUkJVtIw      21:00  35.545763  139.627305   \n",
       "jP3eqNmcSHar8R1IeXEvnw      23:15  35.586630  139.630556   \n",
       "\n",
       "                                                               name open_hour  \\\n",
       "id                                                                              \n",
       "52lOZ9Y3REqRRaR98muOWQ                    yabin 高田店 yabin Takataten     17:00   \n",
       "ZIPaNyYjRS2Q3j6b4F4FJw   ベトナムサンドウィッチ タオズ Vietnamese Sandwich Thao's     11:00   \n",
       "Z0uV-pl0QZe7r8IHy8yXPA                  CONA元住吉店 CONA MOTOSUMIYOSHI     11:30   \n",
       "o6QwO0EHRXCsY9zlK8uHbQ                                  リップル Ripple     10:00   \n",
       "TH8Pq_FeQ2icwFoUkJVtIw                                てっぱん。 Teppan.     11:30   \n",
       "jP3eqNmcSHar8R1IeXEvnw  串カツ田中 武蔵新城店 Kushikatsu Tanaka Musashishinjo     12:00   \n",
       "\n",
       "                        point postal_code  reviews  \\\n",
       "id                                                   \n",
       "52lOZ9Y3REqRRaR98muOWQ    4.6    223-0066     36.0   \n",
       "ZIPaNyYjRS2Q3j6b4F4FJw    4.8    211-0025    199.0   \n",
       "Z0uV-pl0QZe7r8IHy8yXPA    NaN    211-0025      NaN   \n",
       "o6QwO0EHRXCsY9zlK8uHbQ    4.6    211-0025     16.0   \n",
       "TH8Pq_FeQ2icwFoUkJVtIw    4.4    223-0053     48.0   \n",
       "jP3eqNmcSHar8R1IeXEvnw    4.4    211-0044     62.0   \n",
       "\n",
       "                                                                      url  \n",
       "id                                                                         \n",
       "52lOZ9Y3REqRRaR98muOWQ  https://www.ubereats.com/ja-JP/yokohama/food-d...  \n",
       "ZIPaNyYjRS2Q3j6b4F4FJw  https://www.ubereats.com/ja-JP/yokohama/food-d...  \n",
       "Z0uV-pl0QZe7r8IHy8yXPA  https://www.ubereats.com/ja-JP/yokohama/food-d...  \n",
       "o6QwO0EHRXCsY9zlK8uHbQ  https://www.ubereats.com/ja-JP/yokohama/food-d...  \n",
       "TH8Pq_FeQ2icwFoUkJVtIw  https://www.ubereats.com/ja-JP/yokohama/food-d...  \n",
       "jP3eqNmcSHar8R1IeXEvnw  https://www.ubereats.com/ja-JP/yokohama/food-d...  "
      ]
     },
     "execution_count": 31,
     "metadata": {},
     "output_type": "execute_result"
    }
   ],
   "source": [
    "# 新しく加盟した店\n",
    "data[~data['url'].isin(master['url'])]"
   ]
  },
  {
   "cell_type": "markdown",
   "metadata": {},
   "source": [
    "## 単体マージ"
   ]
  },
  {
   "cell_type": "code",
   "execution_count": 42,
   "metadata": {},
   "outputs": [],
   "source": [
    "shop = pd.read_csv(\"./../rawdata/shops/shop.csv\", index_col=\"id\")\n",
    "data = pd.concat([master, shop]).drop_duplicates(subset=\"url\")"
   ]
  },
  {
   "cell_type": "code",
   "execution_count": 43,
   "metadata": {},
   "outputs": [
    {
     "data": {
      "text/plain": [
       "308"
      ]
     },
     "execution_count": 43,
     "metadata": {},
     "output_type": "execute_result"
    }
   ],
   "source": [
    "len(data)"
   ]
  },
  {
   "cell_type": "markdown",
   "metadata": {},
   "source": [
    "## Export"
   ]
  },
  {
   "cell_type": "code",
   "execution_count": 44,
   "metadata": {},
   "outputs": [],
   "source": [
    "data.to_csv(\"./../data/shop_master.csv\", index=True)"
   ]
  },
  {
   "cell_type": "code",
   "execution_count": 45,
   "metadata": {},
   "outputs": [],
   "source": [
    "output = pd.DataFrame()"
   ]
  },
  {
   "cell_type": "code",
   "execution_count": 46,
   "metadata": {},
   "outputs": [],
   "source": [
    "output[\"店名\"] = data[\"name\"]\n",
    "output[\"住所\"] = data[\"address\"]\n",
    "output[\"緯度\"] = data[\"latitude\"]\n",
    "output[\"経度\"] = data[\"longitude\"]\n",
    "output[\"開始\"] = data[\"open_hour\"]\n",
    "output[\"終了\"] = data[\"close_hour\"]\n",
    "output[\"点数\"] = data[\"point\"]\n",
    "output[\"レビュー数\"] = data[\"reviews\"]\n",
    "output[\"URL\"] = data[\"url\"]"
   ]
  },
  {
   "cell_type": "code",
   "execution_count": 47,
   "metadata": {},
   "outputs": [],
   "source": [
    "output.to_csv(\"./../data/googlemap.csv\", index=False)"
   ]
  },
  {
   "cell_type": "code",
   "execution_count": null,
   "metadata": {},
   "outputs": [],
   "source": []
  }
 ],
 "metadata": {
  "kernelspec": {
   "display_name": "Environment (conda_ubereats)",
   "language": "python",
   "name": "conda_ubereats"
  },
  "language_info": {
   "codemirror_mode": {
    "name": "ipython",
    "version": 3
   },
   "file_extension": ".py",
   "mimetype": "text/x-python",
   "name": "python",
   "nbconvert_exporter": "python",
   "pygments_lexer": "ipython3",
   "version": "3.7.5"
  }
 },
 "nbformat": 4,
 "nbformat_minor": 2
}
