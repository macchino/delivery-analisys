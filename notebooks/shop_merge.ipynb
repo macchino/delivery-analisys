{
 "cells": [
  {
   "cell_type": "markdown",
   "metadata": {},
   "source": [
    "# データ変換用"
   ]
  },
  {
   "cell_type": "markdown",
   "metadata": {},
   "source": [
    "整理がだいたいできたらスクリプト化する。"
   ]
  },
  {
   "cell_type": "code",
   "execution_count": 1,
   "metadata": {},
   "outputs": [],
   "source": [
    "import pandas as pd"
   ]
  },
  {
   "cell_type": "code",
   "execution_count": 2,
   "metadata": {},
   "outputs": [],
   "source": [
    "master = pd.read_csv(\"./../data/shop_master.csv\", index_col=\"id\")"
   ]
  },
  {
   "cell_type": "code",
   "execution_count": 3,
   "metadata": {},
   "outputs": [
    {
     "data": {
      "text/html": [
       "<div>\n",
       "<style scoped>\n",
       "    .dataframe tbody tr th:only-of-type {\n",
       "        vertical-align: middle;\n",
       "    }\n",
       "\n",
       "    .dataframe tbody tr th {\n",
       "        vertical-align: top;\n",
       "    }\n",
       "\n",
       "    .dataframe thead th {\n",
       "        text-align: right;\n",
       "    }\n",
       "</style>\n",
       "<table border=\"1\" class=\"dataframe\">\n",
       "  <thead>\n",
       "    <tr style=\"text-align: right;\">\n",
       "      <th></th>\n",
       "      <th>address</th>\n",
       "      <th>close_hour</th>\n",
       "      <th>latitude</th>\n",
       "      <th>longitude</th>\n",
       "      <th>name</th>\n",
       "      <th>open_hour</th>\n",
       "      <th>point</th>\n",
       "      <th>postal_code</th>\n",
       "      <th>reviews</th>\n",
       "      <th>url</th>\n",
       "    </tr>\n",
       "    <tr>\n",
       "      <th>id</th>\n",
       "      <th></th>\n",
       "      <th></th>\n",
       "      <th></th>\n",
       "      <th></th>\n",
       "      <th></th>\n",
       "      <th></th>\n",
       "      <th></th>\n",
       "      <th></th>\n",
       "      <th></th>\n",
       "      <th></th>\n",
       "    </tr>\n",
       "  </thead>\n",
       "  <tbody>\n",
       "    <tr>\n",
       "      <th>nWVRj3lxR-GgHArpgXaG-A</th>\n",
       "      <td>神奈川県横浜市港北区日吉本町1-16-20 Kanagawa</td>\n",
       "      <td>21:00</td>\n",
       "      <td>35.55388770000001</td>\n",
       "      <td>139.6440797</td>\n",
       "      <td>キッチン オリジン 日吉中央通り Kitchen Origin Hiyoshichuodori</td>\n",
       "      <td>10:00</td>\n",
       "      <td>4.2</td>\n",
       "      <td>223-0062</td>\n",
       "      <td>26.0</td>\n",
       "      <td>https://www.ubereats.com/ja-JP/yokohama/food-d...</td>\n",
       "    </tr>\n",
       "    <tr>\n",
       "      <th>NwDRwsDqS7-xf7e3844hsA</th>\n",
       "      <td>神奈川県川崎市高津区溝口２丁目３－１３</td>\n",
       "      <td>22:00</td>\n",
       "      <td>35.5998771</td>\n",
       "      <td>139.6096381</td>\n",
       "      <td>バーミヤン 溝の口店 Bamiyan Mizonokuchi</td>\n",
       "      <td>10:30</td>\n",
       "      <td>4.5</td>\n",
       "      <td>213-0001</td>\n",
       "      <td>102.0</td>\n",
       "      <td>https://www.ubereats.com/ja-JP/yokohama/food-d...</td>\n",
       "    </tr>\n",
       "    <tr>\n",
       "      <th>kRn0KFEVR5CKiFlocLwC_g</th>\n",
       "      <td>神奈川県 川崎市 高津区 千年 665 Kawasaki</td>\n",
       "      <td>21:00</td>\n",
       "      <td>35.5772743</td>\n",
       "      <td>139.6285682</td>\n",
       "      <td>とんかつ後藤 Tonkatsu Goto</td>\n",
       "      <td>17:00</td>\n",
       "      <td>NaN</td>\n",
       "      <td>213-0022</td>\n",
       "      <td>NaN</td>\n",
       "      <td>https://www.ubereats.com/ja-JP/yokohama/food-d...</td>\n",
       "    </tr>\n",
       "  </tbody>\n",
       "</table>\n",
       "</div>"
      ],
      "text/plain": [
       "                                               address close_hour  \\\n",
       "id                                                                  \n",
       "nWVRj3lxR-GgHArpgXaG-A  神奈川県横浜市港北区日吉本町1-16-20 Kanagawa      21:00   \n",
       "NwDRwsDqS7-xf7e3844hsA             神奈川県川崎市高津区溝口２丁目３－１３      22:00   \n",
       "kRn0KFEVR5CKiFlocLwC_g    神奈川県 川崎市 高津区 千年 665 Kawasaki      21:00   \n",
       "\n",
       "                                 latitude    longitude  \\\n",
       "id                                                       \n",
       "nWVRj3lxR-GgHArpgXaG-A  35.55388770000001  139.6440797   \n",
       "NwDRwsDqS7-xf7e3844hsA         35.5998771  139.6096381   \n",
       "kRn0KFEVR5CKiFlocLwC_g         35.5772743  139.6285682   \n",
       "\n",
       "                                                                   name  \\\n",
       "id                                                                        \n",
       "nWVRj3lxR-GgHArpgXaG-A  キッチン オリジン 日吉中央通り Kitchen Origin Hiyoshichuodori   \n",
       "NwDRwsDqS7-xf7e3844hsA                   バーミヤン 溝の口店 Bamiyan Mizonokuchi   \n",
       "kRn0KFEVR5CKiFlocLwC_g                             とんかつ後藤 Tonkatsu Goto   \n",
       "\n",
       "                       open_hour point postal_code reviews  \\\n",
       "id                                                           \n",
       "nWVRj3lxR-GgHArpgXaG-A     10:00   4.2    223-0062    26.0   \n",
       "NwDRwsDqS7-xf7e3844hsA     10:30   4.5    213-0001   102.0   \n",
       "kRn0KFEVR5CKiFlocLwC_g     17:00   NaN    213-0022     NaN   \n",
       "\n",
       "                                                                      url  \n",
       "id                                                                         \n",
       "nWVRj3lxR-GgHArpgXaG-A  https://www.ubereats.com/ja-JP/yokohama/food-d...  \n",
       "NwDRwsDqS7-xf7e3844hsA  https://www.ubereats.com/ja-JP/yokohama/food-d...  \n",
       "kRn0KFEVR5CKiFlocLwC_g  https://www.ubereats.com/ja-JP/yokohama/food-d...  "
      ]
     },
     "execution_count": 3,
     "metadata": {},
     "output_type": "execute_result"
    }
   ],
   "source": [
    "master.head(3)"
   ]
  },
  {
   "cell_type": "code",
   "execution_count": 4,
   "metadata": {
    "scrolled": true
   },
   "outputs": [
    {
     "data": {
      "text/plain": [
       "522"
      ]
     },
     "execution_count": 4,
     "metadata": {},
     "output_type": "execute_result"
    }
   ],
   "source": [
    "len(master)"
   ]
  },
  {
   "cell_type": "code",
   "execution_count": 7,
   "metadata": {},
   "outputs": [],
   "source": [
    "df = pd.read_csv(\"./../rawdata/shops/200302_all_stations.csv\", index_col=\"id\")"
   ]
  },
  {
   "cell_type": "code",
   "execution_count": 8,
   "metadata": {},
   "outputs": [
    {
     "data": {
      "text/plain": [
       "133"
      ]
     },
     "execution_count": 8,
     "metadata": {},
     "output_type": "execute_result"
    }
   ],
   "source": [
    "len(df)"
   ]
  },
  {
   "cell_type": "code",
   "execution_count": 9,
   "metadata": {},
   "outputs": [],
   "source": [
    "data = pd.concat([master, df], sort=False).drop_duplicates(subset=\"url\", keep=\"last\")"
   ]
  },
  {
   "cell_type": "code",
   "execution_count": 10,
   "metadata": {},
   "outputs": [
    {
     "data": {
      "text/plain": [
       "529"
      ]
     },
     "execution_count": 10,
     "metadata": {},
     "output_type": "execute_result"
    }
   ],
   "source": [
    "len(data)"
   ]
  },
  {
   "cell_type": "code",
   "execution_count": 11,
   "metadata": {},
   "outputs": [
    {
     "data": {
      "text/html": [
       "<div>\n",
       "<style scoped>\n",
       "    .dataframe tbody tr th:only-of-type {\n",
       "        vertical-align: middle;\n",
       "    }\n",
       "\n",
       "    .dataframe tbody tr th {\n",
       "        vertical-align: top;\n",
       "    }\n",
       "\n",
       "    .dataframe thead th {\n",
       "        text-align: right;\n",
       "    }\n",
       "</style>\n",
       "<table border=\"1\" class=\"dataframe\">\n",
       "  <thead>\n",
       "    <tr style=\"text-align: right;\">\n",
       "      <th></th>\n",
       "      <th>address</th>\n",
       "      <th>close_hour</th>\n",
       "      <th>latitude</th>\n",
       "      <th>longitude</th>\n",
       "      <th>name</th>\n",
       "      <th>open_hour</th>\n",
       "      <th>point</th>\n",
       "      <th>postal_code</th>\n",
       "      <th>reviews</th>\n",
       "      <th>url</th>\n",
       "    </tr>\n",
       "    <tr>\n",
       "      <th>id</th>\n",
       "      <th></th>\n",
       "      <th></th>\n",
       "      <th></th>\n",
       "      <th></th>\n",
       "      <th></th>\n",
       "      <th></th>\n",
       "      <th></th>\n",
       "      <th></th>\n",
       "      <th></th>\n",
       "      <th></th>\n",
       "    </tr>\n",
       "  </thead>\n",
       "  <tbody>\n",
       "    <tr>\n",
       "      <th>f04inyWhQQqpHmxltqF1QQ</th>\n",
       "      <td>1 Chome-11-22 Tsunashimanishi Kōhoku-Ku Yokoha...</td>\n",
       "      <td>22:00</td>\n",
       "      <td>35.5369</td>\n",
       "      <td>139.634</td>\n",
       "      <td>野郎ラーメン綱島店 Yaro Ramen Tsunashima</td>\n",
       "      <td>11:00</td>\n",
       "      <td>NaN</td>\n",
       "      <td>223-0053</td>\n",
       "      <td>NaN</td>\n",
       "      <td>https://www.ubereats.com/ja-JP/yokohama/food-d...</td>\n",
       "    </tr>\n",
       "    <tr>\n",
       "      <th>FzORnzC7TkGU-X_Xc6uIyw</th>\n",
       "      <td>神奈川県川崎市中原区小杉町3-430-22 コパンビル5F Kanagawa</td>\n",
       "      <td>23:00</td>\n",
       "      <td>35.5745</td>\n",
       "      <td>139.659</td>\n",
       "      <td>格之進GR 武蔵小杉店 KakunoshinGR MUSASHIKOSUGI</td>\n",
       "      <td>12:00</td>\n",
       "      <td>NaN</td>\n",
       "      <td>211-0063</td>\n",
       "      <td>NaN</td>\n",
       "      <td>https://www.ubereats.com/ja-JP/yokohama/food-d...</td>\n",
       "    </tr>\n",
       "    <tr>\n",
       "      <th>pA4CAnY9QSysuUOum5estg</th>\n",
       "      <td>日本、〒 神奈川県川崎市中原区上平間１３４０ 高橋ハイツ101</td>\n",
       "      <td>21:00</td>\n",
       "      <td>35.5576</td>\n",
       "      <td>139.677</td>\n",
       "      <td>宅配どんぶり専門店 「シンプルis丼」 Simple is Don</td>\n",
       "      <td>11:00</td>\n",
       "      <td>NaN</td>\n",
       "      <td>211-0013</td>\n",
       "      <td>NaN</td>\n",
       "      <td>https://www.ubereats.com/ja-JP/yokohama/food-d...</td>\n",
       "    </tr>\n",
       "    <tr>\n",
       "      <th>UT7RGfGhRzS1kHgAcA0dfA</th>\n",
       "      <td>神奈川県横浜市港北区箕輪町２丁目５－２５ プレイヤー日吉２Ｆ</td>\n",
       "      <td>22:00</td>\n",
       "      <td>35.5446</td>\n",
       "      <td>139.643</td>\n",
       "      <td>ジョナサン 綱島店 Jonathan's Tsunashima</td>\n",
       "      <td>10:30</td>\n",
       "      <td>4.5</td>\n",
       "      <td>223-0051</td>\n",
       "      <td>34</td>\n",
       "      <td>https://www.ubereats.com/ja-JP/yokohama/food-d...</td>\n",
       "    </tr>\n",
       "    <tr>\n",
       "      <th>kn6ybF3sQB6z7fUbu-0iKw</th>\n",
       "      <td>4 Chome-7-10 Shimodachō Kōhoku-Ku 久保寺ハイツ1階 B号 ...</td>\n",
       "      <td>17:00</td>\n",
       "      <td>35.5587</td>\n",
       "      <td>139.631</td>\n",
       "      <td>ひととき Hitotoki</td>\n",
       "      <td>11:45</td>\n",
       "      <td>5</td>\n",
       "      <td>223-0064</td>\n",
       "      <td>14</td>\n",
       "      <td>https://www.ubereats.com/ja-JP/yokohama/food-d...</td>\n",
       "    </tr>\n",
       "    <tr>\n",
       "      <th>WPDqDs5vT8uh3Qh1ZkpSQA</th>\n",
       "      <td>川崎市中原区木月3-17-16 アライビル1F Kanagawa</td>\n",
       "      <td>22:00</td>\n",
       "      <td>35.5653</td>\n",
       "      <td>139.651</td>\n",
       "      <td>太陽のトマト麺 元住吉支店 Taiyo no Tomatomen Motosumiyoshi</td>\n",
       "      <td>11:00</td>\n",
       "      <td>NaN</td>\n",
       "      <td>211-0025</td>\n",
       "      <td>NaN</td>\n",
       "      <td>https://www.ubereats.com/ja-JP/yokohama/food-d...</td>\n",
       "    </tr>\n",
       "    <tr>\n",
       "      <th>AUQbQv6WRBOTc5PXwSoRIw</th>\n",
       "      <td>神奈川県川崎市中原区田尻町21-1 Kanagawa</td>\n",
       "      <td>22:00</td>\n",
       "      <td>35.5608</td>\n",
       "      <td>139.671</td>\n",
       "      <td>キッチンオリジン 平間 Kitchen Origin Hirama</td>\n",
       "      <td>10:00</td>\n",
       "      <td>4.5</td>\n",
       "      <td>211-0014</td>\n",
       "      <td>24</td>\n",
       "      <td>https://www.ubereats.com/ja-JP/yokohama/food-d...</td>\n",
       "    </tr>\n",
       "  </tbody>\n",
       "</table>\n",
       "</div>"
      ],
      "text/plain": [
       "                                                                  address  \\\n",
       "id                                                                          \n",
       "f04inyWhQQqpHmxltqF1QQ  1 Chome-11-22 Tsunashimanishi Kōhoku-Ku Yokoha...   \n",
       "FzORnzC7TkGU-X_Xc6uIyw             神奈川県川崎市中原区小杉町3-430-22 コパンビル5F Kanagawa   \n",
       "pA4CAnY9QSysuUOum5estg                    日本、〒 神奈川県川崎市中原区上平間１３４０ 高橋ハイツ101   \n",
       "UT7RGfGhRzS1kHgAcA0dfA                     神奈川県横浜市港北区箕輪町２丁目５－２５ プレイヤー日吉２Ｆ   \n",
       "kn6ybF3sQB6z7fUbu-0iKw  4 Chome-7-10 Shimodachō Kōhoku-Ku 久保寺ハイツ1階 B号 ...   \n",
       "WPDqDs5vT8uh3Qh1ZkpSQA                   川崎市中原区木月3-17-16 アライビル1F Kanagawa   \n",
       "AUQbQv6WRBOTc5PXwSoRIw                         神奈川県川崎市中原区田尻町21-1 Kanagawa   \n",
       "\n",
       "                       close_hour latitude longitude  \\\n",
       "id                                                     \n",
       "f04inyWhQQqpHmxltqF1QQ      22:00  35.5369   139.634   \n",
       "FzORnzC7TkGU-X_Xc6uIyw      23:00  35.5745   139.659   \n",
       "pA4CAnY9QSysuUOum5estg      21:00  35.5576   139.677   \n",
       "UT7RGfGhRzS1kHgAcA0dfA      22:00  35.5446   139.643   \n",
       "kn6ybF3sQB6z7fUbu-0iKw      17:00  35.5587   139.631   \n",
       "WPDqDs5vT8uh3Qh1ZkpSQA      22:00  35.5653   139.651   \n",
       "AUQbQv6WRBOTc5PXwSoRIw      22:00  35.5608   139.671   \n",
       "\n",
       "                                                                  name  \\\n",
       "id                                                                       \n",
       "f04inyWhQQqpHmxltqF1QQ                 野郎ラーメン綱島店 Yaro Ramen Tsunashima   \n",
       "FzORnzC7TkGU-X_Xc6uIyw          格之進GR 武蔵小杉店 KakunoshinGR MUSASHIKOSUGI   \n",
       "pA4CAnY9QSysuUOum5estg               宅配どんぶり専門店 「シンプルis丼」 Simple is Don   \n",
       "UT7RGfGhRzS1kHgAcA0dfA                 ジョナサン 綱島店 Jonathan's Tsunashima   \n",
       "kn6ybF3sQB6z7fUbu-0iKw                                   ひととき Hitotoki   \n",
       "WPDqDs5vT8uh3Qh1ZkpSQA  太陽のトマト麺 元住吉支店 Taiyo no Tomatomen Motosumiyoshi   \n",
       "AUQbQv6WRBOTc5PXwSoRIw               キッチンオリジン 平間 Kitchen Origin Hirama   \n",
       "\n",
       "                       open_hour point postal_code reviews  \\\n",
       "id                                                           \n",
       "f04inyWhQQqpHmxltqF1QQ     11:00   NaN    223-0053     NaN   \n",
       "FzORnzC7TkGU-X_Xc6uIyw     12:00   NaN    211-0063     NaN   \n",
       "pA4CAnY9QSysuUOum5estg     11:00   NaN    211-0013     NaN   \n",
       "UT7RGfGhRzS1kHgAcA0dfA     10:30   4.5    223-0051      34   \n",
       "kn6ybF3sQB6z7fUbu-0iKw     11:45     5    223-0064      14   \n",
       "WPDqDs5vT8uh3Qh1ZkpSQA     11:00   NaN    211-0025     NaN   \n",
       "AUQbQv6WRBOTc5PXwSoRIw     10:00   4.5    211-0014      24   \n",
       "\n",
       "                                                                      url  \n",
       "id                                                                         \n",
       "f04inyWhQQqpHmxltqF1QQ  https://www.ubereats.com/ja-JP/yokohama/food-d...  \n",
       "FzORnzC7TkGU-X_Xc6uIyw  https://www.ubereats.com/ja-JP/yokohama/food-d...  \n",
       "pA4CAnY9QSysuUOum5estg  https://www.ubereats.com/ja-JP/yokohama/food-d...  \n",
       "UT7RGfGhRzS1kHgAcA0dfA  https://www.ubereats.com/ja-JP/yokohama/food-d...  \n",
       "kn6ybF3sQB6z7fUbu-0iKw  https://www.ubereats.com/ja-JP/yokohama/food-d...  \n",
       "WPDqDs5vT8uh3Qh1ZkpSQA  https://www.ubereats.com/ja-JP/yokohama/food-d...  \n",
       "AUQbQv6WRBOTc5PXwSoRIw  https://www.ubereats.com/ja-JP/yokohama/food-d...  "
      ]
     },
     "execution_count": 11,
     "metadata": {},
     "output_type": "execute_result"
    }
   ],
   "source": [
    "# 新しく加盟した店\n",
    "data[~data['url'].isin(master['url'])]"
   ]
  },
  {
   "cell_type": "markdown",
   "metadata": {},
   "source": [
    "## 単体マージ"
   ]
  },
  {
   "cell_type": "code",
   "execution_count": 42,
   "metadata": {},
   "outputs": [],
   "source": [
    "shop = pd.read_csv(\"./../rawdata/shops/shop.csv\", index_col=\"id\")\n",
    "data = pd.concat([master, shop]).drop_duplicates(subset=\"url\")"
   ]
  },
  {
   "cell_type": "code",
   "execution_count": 43,
   "metadata": {},
   "outputs": [
    {
     "data": {
      "text/plain": [
       "308"
      ]
     },
     "execution_count": 43,
     "metadata": {},
     "output_type": "execute_result"
    }
   ],
   "source": [
    "len(data)"
   ]
  },
  {
   "cell_type": "markdown",
   "metadata": {},
   "source": [
    "## Export"
   ]
  },
  {
   "cell_type": "code",
   "execution_count": 71,
   "metadata": {},
   "outputs": [],
   "source": [
    "data.to_csv(\"./../data/shop_master.csv\", index=True)"
   ]
  },
  {
   "cell_type": "code",
   "execution_count": 72,
   "metadata": {},
   "outputs": [],
   "source": [
    "output = pd.DataFrame()"
   ]
  },
  {
   "cell_type": "code",
   "execution_count": 73,
   "metadata": {},
   "outputs": [],
   "source": [
    "output[\"店名\"] = data[\"name\"]\n",
    "output[\"住所\"] = data[\"address\"]\n",
    "output[\"緯度\"] = data[\"latitude\"]\n",
    "output[\"経度\"] = data[\"longitude\"]\n",
    "output[\"開始\"] = data[\"open_hour\"]\n",
    "output[\"終了\"] = data[\"close_hour\"]\n",
    "output[\"点数\"] = data[\"point\"]\n",
    "output[\"レビュー数\"] = data[\"reviews\"]\n",
    "output[\"URL\"] = data[\"url\"]"
   ]
  },
  {
   "cell_type": "code",
   "execution_count": 74,
   "metadata": {},
   "outputs": [],
   "source": [
    "output.to_csv(\"./../data/googlemap.csv\", index=False)"
   ]
  },
  {
   "cell_type": "code",
   "execution_count": null,
   "metadata": {},
   "outputs": [],
   "source": []
  }
 ],
 "metadata": {
  "kernelspec": {
   "display_name": "Environment (conda_ubereats)",
   "language": "python",
   "name": "conda_ubereats"
  },
  "language_info": {
   "codemirror_mode": {
    "name": "ipython",
    "version": 3
   },
   "file_extension": ".py",
   "mimetype": "text/x-python",
   "name": "python",
   "nbconvert_exporter": "python",
   "pygments_lexer": "ipython3",
   "version": "3.7.5"
  }
 },
 "nbformat": 4,
 "nbformat_minor": 2
}
