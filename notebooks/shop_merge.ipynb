{
 "cells": [
  {
   "cell_type": "markdown",
   "metadata": {},
   "source": [
    "# データ変換用"
   ]
  },
  {
   "cell_type": "markdown",
   "metadata": {},
   "source": [
    "整理がだいたいできたらスクリプト化する。"
   ]
  },
  {
   "cell_type": "code",
   "execution_count": 68,
   "metadata": {},
   "outputs": [],
   "source": [
    "import pandas as pd"
   ]
  },
  {
   "cell_type": "code",
   "execution_count": 69,
   "metadata": {},
   "outputs": [],
   "source": [
    "master = pd.read_csv(\"./../data/shop_master.csv\", index_col=\"id\")"
   ]
  },
  {
   "cell_type": "code",
   "execution_count": 70,
   "metadata": {},
   "outputs": [
    {
     "data": {
      "text/html": [
       "<div>\n",
       "<style scoped>\n",
       "    .dataframe tbody tr th:only-of-type {\n",
       "        vertical-align: middle;\n",
       "    }\n",
       "\n",
       "    .dataframe tbody tr th {\n",
       "        vertical-align: top;\n",
       "    }\n",
       "\n",
       "    .dataframe thead th {\n",
       "        text-align: right;\n",
       "    }\n",
       "</style>\n",
       "<table border=\"1\" class=\"dataframe\">\n",
       "  <thead>\n",
       "    <tr style=\"text-align: right;\">\n",
       "      <th></th>\n",
       "      <th>address</th>\n",
       "      <th>close_hour</th>\n",
       "      <th>latitude</th>\n",
       "      <th>longitude</th>\n",
       "      <th>name</th>\n",
       "      <th>open_hour</th>\n",
       "      <th>point</th>\n",
       "      <th>postal_code</th>\n",
       "      <th>reviews</th>\n",
       "      <th>url</th>\n",
       "    </tr>\n",
       "    <tr>\n",
       "      <th>id</th>\n",
       "      <th></th>\n",
       "      <th></th>\n",
       "      <th></th>\n",
       "      <th></th>\n",
       "      <th></th>\n",
       "      <th></th>\n",
       "      <th></th>\n",
       "      <th></th>\n",
       "      <th></th>\n",
       "      <th></th>\n",
       "    </tr>\n",
       "  </thead>\n",
       "  <tbody>\n",
       "    <tr>\n",
       "      <th>nWVRj3lxR-GgHArpgXaG-A</th>\n",
       "      <td>神奈川県横浜市港北区日吉本町1-16-20 Kanagawa</td>\n",
       "      <td>21:00</td>\n",
       "      <td>35.553888</td>\n",
       "      <td>139.644080</td>\n",
       "      <td>キッチン オリジン 日吉中央通り Kitchen Origin Hiyoshichuodori</td>\n",
       "      <td>10:00</td>\n",
       "      <td>4.2</td>\n",
       "      <td>223-0062</td>\n",
       "      <td>26.0</td>\n",
       "      <td>https://www.ubereats.com/jp/yokohama/food-deli...</td>\n",
       "    </tr>\n",
       "    <tr>\n",
       "      <th>NwDRwsDqS7-xf7e3844hsA</th>\n",
       "      <td>神奈川県川崎市高津区溝口２丁目３－１３</td>\n",
       "      <td>22:00</td>\n",
       "      <td>35.599877</td>\n",
       "      <td>139.609638</td>\n",
       "      <td>バーミヤン 溝の口店 Bamiyan Mizonokuchi</td>\n",
       "      <td>10:30</td>\n",
       "      <td>4.5</td>\n",
       "      <td>213-0001</td>\n",
       "      <td>102.0</td>\n",
       "      <td>https://www.ubereats.com/jp/yokohama/food-deli...</td>\n",
       "    </tr>\n",
       "    <tr>\n",
       "      <th>kRn0KFEVR5CKiFlocLwC_g</th>\n",
       "      <td>神奈川県 川崎市 高津区 千年 665 Kawasaki</td>\n",
       "      <td>21:00</td>\n",
       "      <td>35.577274</td>\n",
       "      <td>139.628568</td>\n",
       "      <td>とんかつ後藤 Tonkatsu Goto</td>\n",
       "      <td>17:00</td>\n",
       "      <td>NaN</td>\n",
       "      <td>213-0022</td>\n",
       "      <td>NaN</td>\n",
       "      <td>https://www.ubereats.com/jp/yokohama/food-deli...</td>\n",
       "    </tr>\n",
       "  </tbody>\n",
       "</table>\n",
       "</div>"
      ],
      "text/plain": [
       "                                               address close_hour   latitude  \\\n",
       "id                                                                             \n",
       "nWVRj3lxR-GgHArpgXaG-A  神奈川県横浜市港北区日吉本町1-16-20 Kanagawa      21:00  35.553888   \n",
       "NwDRwsDqS7-xf7e3844hsA             神奈川県川崎市高津区溝口２丁目３－１３      22:00  35.599877   \n",
       "kRn0KFEVR5CKiFlocLwC_g    神奈川県 川崎市 高津区 千年 665 Kawasaki      21:00  35.577274   \n",
       "\n",
       "                         longitude  \\\n",
       "id                                   \n",
       "nWVRj3lxR-GgHArpgXaG-A  139.644080   \n",
       "NwDRwsDqS7-xf7e3844hsA  139.609638   \n",
       "kRn0KFEVR5CKiFlocLwC_g  139.628568   \n",
       "\n",
       "                                                                   name  \\\n",
       "id                                                                        \n",
       "nWVRj3lxR-GgHArpgXaG-A  キッチン オリジン 日吉中央通り Kitchen Origin Hiyoshichuodori   \n",
       "NwDRwsDqS7-xf7e3844hsA                   バーミヤン 溝の口店 Bamiyan Mizonokuchi   \n",
       "kRn0KFEVR5CKiFlocLwC_g                             とんかつ後藤 Tonkatsu Goto   \n",
       "\n",
       "                       open_hour  point postal_code  reviews  \\\n",
       "id                                                             \n",
       "nWVRj3lxR-GgHArpgXaG-A     10:00    4.2    223-0062     26.0   \n",
       "NwDRwsDqS7-xf7e3844hsA     10:30    4.5    213-0001    102.0   \n",
       "kRn0KFEVR5CKiFlocLwC_g     17:00    NaN    213-0022      NaN   \n",
       "\n",
       "                                                                      url  \n",
       "id                                                                         \n",
       "nWVRj3lxR-GgHArpgXaG-A  https://www.ubereats.com/jp/yokohama/food-deli...  \n",
       "NwDRwsDqS7-xf7e3844hsA  https://www.ubereats.com/jp/yokohama/food-deli...  \n",
       "kRn0KFEVR5CKiFlocLwC_g  https://www.ubereats.com/jp/yokohama/food-deli...  "
      ]
     },
     "execution_count": 70,
     "metadata": {},
     "output_type": "execute_result"
    }
   ],
   "source": [
    "master.head(3)"
   ]
  },
  {
   "cell_type": "code",
   "execution_count": 71,
   "metadata": {
    "scrolled": true
   },
   "outputs": [
    {
     "data": {
      "text/plain": [
       "531"
      ]
     },
     "execution_count": 71,
     "metadata": {},
     "output_type": "execute_result"
    }
   ],
   "source": [
    "len(master)"
   ]
  },
  {
   "cell_type": "code",
   "execution_count": 72,
   "metadata": {},
   "outputs": [],
   "source": [
    "# df = pd.read_csv(\"./../rawdata/shops/200322_all_stations.csv\", index_col=\"id\")\n",
    "df = pd.read_csv(\"./../rawdata/shops/200322_musashimizonokuchi.csv\", index_col=\"id\")"
   ]
  },
  {
   "cell_type": "code",
   "execution_count": 73,
   "metadata": {},
   "outputs": [
    {
     "data": {
      "text/plain": [
       "69"
      ]
     },
     "execution_count": 73,
     "metadata": {},
     "output_type": "execute_result"
    }
   ],
   "source": [
    "len(df)"
   ]
  },
  {
   "cell_type": "code",
   "execution_count": 74,
   "metadata": {},
   "outputs": [],
   "source": [
    "data = pd.concat([master, df], sort=False).drop_duplicates(subset=\"url\", keep=\"last\")"
   ]
  },
  {
   "cell_type": "code",
   "execution_count": 75,
   "metadata": {},
   "outputs": [
    {
     "data": {
      "text/plain": [
       "541"
      ]
     },
     "execution_count": 75,
     "metadata": {},
     "output_type": "execute_result"
    }
   ],
   "source": [
    "len(data)"
   ]
  },
  {
   "cell_type": "code",
   "execution_count": 76,
   "metadata": {},
   "outputs": [
    {
     "data": {
      "text/html": [
       "<div>\n",
       "<style scoped>\n",
       "    .dataframe tbody tr th:only-of-type {\n",
       "        vertical-align: middle;\n",
       "    }\n",
       "\n",
       "    .dataframe tbody tr th {\n",
       "        vertical-align: top;\n",
       "    }\n",
       "\n",
       "    .dataframe thead th {\n",
       "        text-align: right;\n",
       "    }\n",
       "</style>\n",
       "<table border=\"1\" class=\"dataframe\">\n",
       "  <thead>\n",
       "    <tr style=\"text-align: right;\">\n",
       "      <th></th>\n",
       "      <th>address</th>\n",
       "      <th>close_hour</th>\n",
       "      <th>latitude</th>\n",
       "      <th>longitude</th>\n",
       "      <th>name</th>\n",
       "      <th>open_hour</th>\n",
       "      <th>point</th>\n",
       "      <th>postal_code</th>\n",
       "      <th>reviews</th>\n",
       "      <th>url</th>\n",
       "    </tr>\n",
       "    <tr>\n",
       "      <th>id</th>\n",
       "      <th></th>\n",
       "      <th></th>\n",
       "      <th></th>\n",
       "      <th></th>\n",
       "      <th></th>\n",
       "      <th></th>\n",
       "      <th></th>\n",
       "      <th></th>\n",
       "      <th></th>\n",
       "      <th></th>\n",
       "    </tr>\n",
       "  </thead>\n",
       "  <tbody>\n",
       "    <tr>\n",
       "      <th>%E6%A0%BC%E4%B9%8B%E9%80%B2gr-%E6%BA%9D%E3%81%AE%E5%8F%A3%E5%BA%97-kakunoshingr-mizonokuchi</th>\n",
       "      <td>神奈川県川崎市高津区ﾆ子5-9-6 Kanagawa</td>\n",
       "      <td>22:00</td>\n",
       "      <td>35.601381</td>\n",
       "      <td>139.616028</td>\n",
       "      <td>格之進GR 溝の口店 KakunoshinGR MIZONOKUCHI</td>\n",
       "      <td>17:00</td>\n",
       "      <td>NaN</td>\n",
       "      <td>213-0002</td>\n",
       "      <td>NaN</td>\n",
       "      <td>https://www.ubereats.com/jp/yokohama/food-deli...</td>\n",
       "    </tr>\n",
       "    <tr>\n",
       "      <th>%E3%83%95%E3%82%B7%E3%83%9E%E3%83%AB%E3%82%B5%E3%82%A4%E3%82%B3%E3%83%B3%E3%83%95%E3%83%AD%E3%83%8F%E3%82%AB%E3%83%B3%E3%82%BF-fujimarusaigompuropaganda</th>\n",
       "      <td>神奈川県川崎市高津区久本2-1-9 Kanagawa</td>\n",
       "      <td>22:00</td>\n",
       "      <td>35.596537</td>\n",
       "      <td>139.613148</td>\n",
       "      <td>フジマルサイゴンプロパガンダ Fujimarusaigompuropaganda</td>\n",
       "      <td>11:30</td>\n",
       "      <td>NaN</td>\n",
       "      <td>213-0011</td>\n",
       "      <td>NaN</td>\n",
       "      <td>https://www.ubereats.com/jp/yokohama/food-deli...</td>\n",
       "    </tr>\n",
       "    <tr>\n",
       "      <th>%E3%83%8A%E3%83%9B%E3%83%AA%E3%81%AE%E7%AA%AF-%E6%AD%A6%E8%94%B5%E6%96%B0%E5%9F%8E%E5%BA%97-naporinokama-musashishinjo</th>\n",
       "      <td>神奈川県川崎市高津区新作6-9-41 Kanagawa</td>\n",
       "      <td>22:30</td>\n",
       "      <td>35.586428</td>\n",
       "      <td>139.628203</td>\n",
       "      <td>ナポリの窯 武蔵新城店 Naporinokama Musashishinjo</td>\n",
       "      <td>11:00</td>\n",
       "      <td>NaN</td>\n",
       "      <td>213-0014</td>\n",
       "      <td>NaN</td>\n",
       "      <td>https://www.ubereats.com/jp/yokohama/food-deli...</td>\n",
       "    </tr>\n",
       "    <tr>\n",
       "      <th>%E5%B9%B8%E5%B3%B6-koujima</th>\n",
       "      <td>2 Chome-315-18 Kosugimachi Nakahara-Ku Kawasak...</td>\n",
       "      <td>14:00</td>\n",
       "      <td>35.582128</td>\n",
       "      <td>139.656245</td>\n",
       "      <td>幸島 KOUJIMA</td>\n",
       "      <td>12:30</td>\n",
       "      <td>NaN</td>\n",
       "      <td>211-0063</td>\n",
       "      <td>NaN</td>\n",
       "      <td>https://www.ubereats.com/jp/yokohama/food-deli...</td>\n",
       "    </tr>\n",
       "    <tr>\n",
       "      <th>me-tea%E6%AD%A6%E8%94%B5%E6%96%B0%E5%9F%8E%E5%BA%97</th>\n",
       "      <td>中原区上新城2-8-22 三井ビル１階</td>\n",
       "      <td>22:00</td>\n",
       "      <td>35.587594</td>\n",
       "      <td>139.630537</td>\n",
       "      <td>Me Tea武蔵新城店</td>\n",
       "      <td>11:00</td>\n",
       "      <td>4.6</td>\n",
       "      <td>NaN</td>\n",
       "      <td>200.0</td>\n",
       "      <td>https://www.ubereats.com/jp/yokohama/food-deli...</td>\n",
       "    </tr>\n",
       "    <tr>\n",
       "      <th>%E5%A3%B1%E8%A7%92%E5%AE%B6-%E6%BA%9D%E3%81%AE%E5%8F%A3-ichikakuya-mizonokuchi</th>\n",
       "      <td>神奈川県川崎市高津区溝口2-9-5 トルチェバリ1F Kanagawa</td>\n",
       "      <td>23:00</td>\n",
       "      <td>35.600766</td>\n",
       "      <td>139.611594</td>\n",
       "      <td>壱角家 溝の口 Ichikakuya Mizonokuchi</td>\n",
       "      <td>10:00</td>\n",
       "      <td>NaN</td>\n",
       "      <td>213-0001</td>\n",
       "      <td>NaN</td>\n",
       "      <td>https://www.ubereats.com/jp/yokohama/food-deli...</td>\n",
       "    </tr>\n",
       "    <tr>\n",
       "      <th>%E3%82%8C%E3%82%93%E3%81%91%E9%A3%9F%E5%A0%82-toshu-%E4%BA%8C%E5%AD%90%E6%96%B0%E5%9C%B0%E5%BA%97-renge-shokudo-toshu-futako-shinchi</th>\n",
       "      <td>神奈川県川崎市高津区諏訪1-10-3 Kanagawa</td>\n",
       "      <td>20:00</td>\n",
       "      <td>35.606546</td>\n",
       "      <td>139.622874</td>\n",
       "      <td>れんげ食堂 Toshu 二子新地店 Renge Shokudo Toshu Futako S...</td>\n",
       "      <td>11:30</td>\n",
       "      <td>NaN</td>\n",
       "      <td>213-0004</td>\n",
       "      <td>NaN</td>\n",
       "      <td>https://www.ubereats.com/jp/yokohama/food-deli...</td>\n",
       "    </tr>\n",
       "    <tr>\n",
       "      <th>%E5%9C%9F%E9%96%93%E5%9C%9F%E9%96%93-%E6%AD%A6%E8%94%B5%E6%BA%9D%E3%81%AE%E5%8F%A3%E5%BA%97-domadoma-musashi-mizonokuchi</th>\n",
       "      <td>神奈川県川崎市高津区溝口1-8−7 Kanagawa</td>\n",
       "      <td>23:59</td>\n",
       "      <td>35.599639</td>\n",
       "      <td>139.612967</td>\n",
       "      <td>土間土間 武蔵溝の口店 Domadoma Musashi Mizonokuchi</td>\n",
       "      <td>17:00</td>\n",
       "      <td>NaN</td>\n",
       "      <td>213-0001</td>\n",
       "      <td>NaN</td>\n",
       "      <td>https://www.ubereats.com/jp/yokohama/food-deli...</td>\n",
       "    </tr>\n",
       "    <tr>\n",
       "      <th>%E4%B8%B2%E3%82%AB%E3%83%84%E7%94%B0%E4%B8%AD-%E6%BA%9D%E5%8F%A3%E5%BA%97-kushikatsu-tanaka-mizonokuchi</th>\n",
       "      <td>高津区溝口1-1-2 Kanagawa</td>\n",
       "      <td>23:59</td>\n",
       "      <td>35.598272</td>\n",
       "      <td>139.612351</td>\n",
       "      <td>串カツ田中 溝口店 Kushikatsu Tanaka Mizonokuchi</td>\n",
       "      <td>12:00</td>\n",
       "      <td>NaN</td>\n",
       "      <td>213-0001</td>\n",
       "      <td>NaN</td>\n",
       "      <td>https://www.ubereats.com/jp/yokohama/food-deli...</td>\n",
       "    </tr>\n",
       "    <tr>\n",
       "      <th>%E3%82%AB%E3%82%B9%E3%83%88-%E5%B7%9D%E5%B4%8E%E9%95%B7%E5%B0%BE%E5%BA%97gusto-kawasaki-nagao</th>\n",
       "      <td>神奈川県川崎市宮前区神木本町2丁目16-1 Kanagawa</td>\n",
       "      <td>23:59</td>\n",
       "      <td>35.601829</td>\n",
       "      <td>139.582156</td>\n",
       "      <td>ガスト 川崎長尾店Gusto Kawasaki Nagao</td>\n",
       "      <td>10:30</td>\n",
       "      <td>NaN</td>\n",
       "      <td>216-0031</td>\n",
       "      <td>NaN</td>\n",
       "      <td>https://www.ubereats.com/jp/yokohama/food-deli...</td>\n",
       "    </tr>\n",
       "  </tbody>\n",
       "</table>\n",
       "</div>"
      ],
      "text/plain": [
       "                                                                                              address  \\\n",
       "id                                                                                                      \n",
       "%E6%A0%BC%E4%B9%8B%E9%80%B2gr-%E6%BA%9D%E3%81%A...                         神奈川県川崎市高津区ﾆ子5-9-6 Kanagawa   \n",
       "%E3%83%95%E3%82%B7%E3%83%9E%E3%83%AB%E3%82%B5%E...                         神奈川県川崎市高津区久本2-1-9 Kanagawa   \n",
       "%E3%83%8A%E3%83%9B%E3%83%AA%E3%81%AE%E7%AA%AF-%...                        神奈川県川崎市高津区新作6-9-41 Kanagawa   \n",
       "%E5%B9%B8%E5%B3%B6-koujima                          2 Chome-315-18 Kosugimachi Nakahara-Ku Kawasak...   \n",
       "me-tea%E6%AD%A6%E8%94%B5%E6%96%B0%E5%9F%8E%E5%B...                                中原区上新城2-8-22 三井ビル１階   \n",
       "%E5%A3%B1%E8%A7%92%E5%AE%B6-%E6%BA%9D%E3%81%AE%...                神奈川県川崎市高津区溝口2-9-5 トルチェバリ1F Kanagawa   \n",
       "%E3%82%8C%E3%82%93%E3%81%91%E9%A3%9F%E5%A0%82-t...                        神奈川県川崎市高津区諏訪1-10-3 Kanagawa   \n",
       "%E5%9C%9F%E9%96%93%E5%9C%9F%E9%96%93-%E6%AD%A6%...                         神奈川県川崎市高津区溝口1-8−7 Kanagawa   \n",
       "%E4%B8%B2%E3%82%AB%E3%83%84%E7%94%B0%E4%B8%AD-%...                                高津区溝口1-1-2 Kanagawa   \n",
       "%E3%82%AB%E3%82%B9%E3%83%88-%E5%B7%9D%E5%B4%8E%...                     神奈川県川崎市宮前区神木本町2丁目16-1 Kanagawa   \n",
       "\n",
       "                                                   close_hour   latitude  \\\n",
       "id                                                                         \n",
       "%E6%A0%BC%E4%B9%8B%E9%80%B2gr-%E6%BA%9D%E3%81%A...      22:00  35.601381   \n",
       "%E3%83%95%E3%82%B7%E3%83%9E%E3%83%AB%E3%82%B5%E...      22:00  35.596537   \n",
       "%E3%83%8A%E3%83%9B%E3%83%AA%E3%81%AE%E7%AA%AF-%...      22:30  35.586428   \n",
       "%E5%B9%B8%E5%B3%B6-koujima                              14:00  35.582128   \n",
       "me-tea%E6%AD%A6%E8%94%B5%E6%96%B0%E5%9F%8E%E5%B...      22:00  35.587594   \n",
       "%E5%A3%B1%E8%A7%92%E5%AE%B6-%E6%BA%9D%E3%81%AE%...      23:00  35.600766   \n",
       "%E3%82%8C%E3%82%93%E3%81%91%E9%A3%9F%E5%A0%82-t...      20:00  35.606546   \n",
       "%E5%9C%9F%E9%96%93%E5%9C%9F%E9%96%93-%E6%AD%A6%...      23:59  35.599639   \n",
       "%E4%B8%B2%E3%82%AB%E3%83%84%E7%94%B0%E4%B8%AD-%...      23:59  35.598272   \n",
       "%E3%82%AB%E3%82%B9%E3%83%88-%E5%B7%9D%E5%B4%8E%...      23:59  35.601829   \n",
       "\n",
       "                                                     longitude  \\\n",
       "id                                                               \n",
       "%E6%A0%BC%E4%B9%8B%E9%80%B2gr-%E6%BA%9D%E3%81%A...  139.616028   \n",
       "%E3%83%95%E3%82%B7%E3%83%9E%E3%83%AB%E3%82%B5%E...  139.613148   \n",
       "%E3%83%8A%E3%83%9B%E3%83%AA%E3%81%AE%E7%AA%AF-%...  139.628203   \n",
       "%E5%B9%B8%E5%B3%B6-koujima                          139.656245   \n",
       "me-tea%E6%AD%A6%E8%94%B5%E6%96%B0%E5%9F%8E%E5%B...  139.630537   \n",
       "%E5%A3%B1%E8%A7%92%E5%AE%B6-%E6%BA%9D%E3%81%AE%...  139.611594   \n",
       "%E3%82%8C%E3%82%93%E3%81%91%E9%A3%9F%E5%A0%82-t...  139.622874   \n",
       "%E5%9C%9F%E9%96%93%E5%9C%9F%E9%96%93-%E6%AD%A6%...  139.612967   \n",
       "%E4%B8%B2%E3%82%AB%E3%83%84%E7%94%B0%E4%B8%AD-%...  139.612351   \n",
       "%E3%82%AB%E3%82%B9%E3%83%88-%E5%B7%9D%E5%B4%8E%...  139.582156   \n",
       "\n",
       "                                                                                                 name  \\\n",
       "id                                                                                                      \n",
       "%E6%A0%BC%E4%B9%8B%E9%80%B2gr-%E6%BA%9D%E3%81%A...                格之進GR 溝の口店 KakunoshinGR MIZONOKUCHI   \n",
       "%E3%83%95%E3%82%B7%E3%83%9E%E3%83%AB%E3%82%B5%E...           フジマルサイゴンプロパガンダ Fujimarusaigompuropaganda   \n",
       "%E3%83%8A%E3%83%9B%E3%83%AA%E3%81%AE%E7%AA%AF-%...             ナポリの窯 武蔵新城店 Naporinokama Musashishinjo   \n",
       "%E5%B9%B8%E5%B3%B6-koujima                                                                 幸島 KOUJIMA   \n",
       "me-tea%E6%AD%A6%E8%94%B5%E6%96%B0%E5%9F%8E%E5%B...                                        Me Tea武蔵新城店   \n",
       "%E5%A3%B1%E8%A7%92%E5%AE%B6-%E6%BA%9D%E3%81%AE%...                     壱角家 溝の口 Ichikakuya Mizonokuchi   \n",
       "%E3%82%8C%E3%82%93%E3%81%91%E9%A3%9F%E5%A0%82-t...  れんげ食堂 Toshu 二子新地店 Renge Shokudo Toshu Futako S...   \n",
       "%E5%9C%9F%E9%96%93%E5%9C%9F%E9%96%93-%E6%AD%A6%...           土間土間 武蔵溝の口店 Domadoma Musashi Mizonokuchi   \n",
       "%E4%B8%B2%E3%82%AB%E3%83%84%E7%94%B0%E4%B8%AD-%...            串カツ田中 溝口店 Kushikatsu Tanaka Mizonokuchi   \n",
       "%E3%82%AB%E3%82%B9%E3%83%88-%E5%B7%9D%E5%B4%8E%...                      ガスト 川崎長尾店Gusto Kawasaki Nagao   \n",
       "\n",
       "                                                   open_hour  point  \\\n",
       "id                                                                    \n",
       "%E6%A0%BC%E4%B9%8B%E9%80%B2gr-%E6%BA%9D%E3%81%A...     17:00    NaN   \n",
       "%E3%83%95%E3%82%B7%E3%83%9E%E3%83%AB%E3%82%B5%E...     11:30    NaN   \n",
       "%E3%83%8A%E3%83%9B%E3%83%AA%E3%81%AE%E7%AA%AF-%...     11:00    NaN   \n",
       "%E5%B9%B8%E5%B3%B6-koujima                             12:30    NaN   \n",
       "me-tea%E6%AD%A6%E8%94%B5%E6%96%B0%E5%9F%8E%E5%B...     11:00    4.6   \n",
       "%E5%A3%B1%E8%A7%92%E5%AE%B6-%E6%BA%9D%E3%81%AE%...     10:00    NaN   \n",
       "%E3%82%8C%E3%82%93%E3%81%91%E9%A3%9F%E5%A0%82-t...     11:30    NaN   \n",
       "%E5%9C%9F%E9%96%93%E5%9C%9F%E9%96%93-%E6%AD%A6%...     17:00    NaN   \n",
       "%E4%B8%B2%E3%82%AB%E3%83%84%E7%94%B0%E4%B8%AD-%...     12:00    NaN   \n",
       "%E3%82%AB%E3%82%B9%E3%83%88-%E5%B7%9D%E5%B4%8E%...     10:30    NaN   \n",
       "\n",
       "                                                   postal_code  reviews  \\\n",
       "id                                                                        \n",
       "%E6%A0%BC%E4%B9%8B%E9%80%B2gr-%E6%BA%9D%E3%81%A...    213-0002      NaN   \n",
       "%E3%83%95%E3%82%B7%E3%83%9E%E3%83%AB%E3%82%B5%E...    213-0011      NaN   \n",
       "%E3%83%8A%E3%83%9B%E3%83%AA%E3%81%AE%E7%AA%AF-%...    213-0014      NaN   \n",
       "%E5%B9%B8%E5%B3%B6-koujima                            211-0063      NaN   \n",
       "me-tea%E6%AD%A6%E8%94%B5%E6%96%B0%E5%9F%8E%E5%B...         NaN    200.0   \n",
       "%E5%A3%B1%E8%A7%92%E5%AE%B6-%E6%BA%9D%E3%81%AE%...    213-0001      NaN   \n",
       "%E3%82%8C%E3%82%93%E3%81%91%E9%A3%9F%E5%A0%82-t...    213-0004      NaN   \n",
       "%E5%9C%9F%E9%96%93%E5%9C%9F%E9%96%93-%E6%AD%A6%...    213-0001      NaN   \n",
       "%E4%B8%B2%E3%82%AB%E3%83%84%E7%94%B0%E4%B8%AD-%...    213-0001      NaN   \n",
       "%E3%82%AB%E3%82%B9%E3%83%88-%E5%B7%9D%E5%B4%8E%...    216-0031      NaN   \n",
       "\n",
       "                                                                                                  url  \n",
       "id                                                                                                     \n",
       "%E6%A0%BC%E4%B9%8B%E9%80%B2gr-%E6%BA%9D%E3%81%A...  https://www.ubereats.com/jp/yokohama/food-deli...  \n",
       "%E3%83%95%E3%82%B7%E3%83%9E%E3%83%AB%E3%82%B5%E...  https://www.ubereats.com/jp/yokohama/food-deli...  \n",
       "%E3%83%8A%E3%83%9B%E3%83%AA%E3%81%AE%E7%AA%AF-%...  https://www.ubereats.com/jp/yokohama/food-deli...  \n",
       "%E5%B9%B8%E5%B3%B6-koujima                          https://www.ubereats.com/jp/yokohama/food-deli...  \n",
       "me-tea%E6%AD%A6%E8%94%B5%E6%96%B0%E5%9F%8E%E5%B...  https://www.ubereats.com/jp/yokohama/food-deli...  \n",
       "%E5%A3%B1%E8%A7%92%E5%AE%B6-%E6%BA%9D%E3%81%AE%...  https://www.ubereats.com/jp/yokohama/food-deli...  \n",
       "%E3%82%8C%E3%82%93%E3%81%91%E9%A3%9F%E5%A0%82-t...  https://www.ubereats.com/jp/yokohama/food-deli...  \n",
       "%E5%9C%9F%E9%96%93%E5%9C%9F%E9%96%93-%E6%AD%A6%...  https://www.ubereats.com/jp/yokohama/food-deli...  \n",
       "%E4%B8%B2%E3%82%AB%E3%83%84%E7%94%B0%E4%B8%AD-%...  https://www.ubereats.com/jp/yokohama/food-deli...  \n",
       "%E3%82%AB%E3%82%B9%E3%83%88-%E5%B7%9D%E5%B4%8E%...  https://www.ubereats.com/jp/yokohama/food-deli...  "
      ]
     },
     "execution_count": 76,
     "metadata": {},
     "output_type": "execute_result"
    }
   ],
   "source": [
    "# 新しく加盟した店\n",
    "new_shops = data[~data['url'].isin(master['url'])]\n",
    "new_shops"
   ]
  },
  {
   "cell_type": "markdown",
   "metadata": {},
   "source": [
    "## 単体マージ"
   ]
  },
  {
   "cell_type": "code",
   "execution_count": null,
   "metadata": {},
   "outputs": [],
   "source": [
    "shop = pd.read_csv(\"./../rawdata/shops/shop.csv\", index_col=\"id\")\n",
    "data = pd.concat([master, shop]).drop_duplicates(subset=\"url\")"
   ]
  },
  {
   "cell_type": "code",
   "execution_count": null,
   "metadata": {},
   "outputs": [],
   "source": [
    "len(data)"
   ]
  },
  {
   "cell_type": "markdown",
   "metadata": {},
   "source": [
    "## Export"
   ]
  },
  {
   "cell_type": "code",
   "execution_count": null,
   "metadata": {},
   "outputs": [],
   "source": [
    "data.to_csv(\"./../data/shop_master.csv\", index=True)"
   ]
  },
  {
   "cell_type": "code",
   "execution_count": null,
   "metadata": {},
   "outputs": [],
   "source": [
    "output = pd.DataFrame()"
   ]
  },
  {
   "cell_type": "code",
   "execution_count": null,
   "metadata": {},
   "outputs": [],
   "source": [
    "output[\"店名\"] = data[\"name\"]\n",
    "output[\"住所\"] = data[\"address\"]\n",
    "output[\"緯度\"] = data[\"latitude\"]\n",
    "output[\"経度\"] = data[\"longitude\"]\n",
    "output[\"開始\"] = data[\"open_hour\"]\n",
    "output[\"終了\"] = data[\"close_hour\"]\n",
    "output[\"点数\"] = data[\"point\"]\n",
    "output[\"レビュー数\"] = data[\"reviews\"]\n",
    "output[\"URL\"] = data[\"url\"]"
   ]
  },
  {
   "cell_type": "code",
   "execution_count": null,
   "metadata": {},
   "outputs": [],
   "source": [
    "output.to_csv(\"./../data/googlemap.csv\", index=False)"
   ]
  },
  {
   "cell_type": "code",
   "execution_count": null,
   "metadata": {},
   "outputs": [],
   "source": []
  }
 ],
 "metadata": {
  "kernelspec": {
   "display_name": "Environment (conda_ubereats)",
   "language": "python",
   "name": "conda_ubereats"
  },
  "language_info": {
   "codemirror_mode": {
    "name": "ipython",
    "version": 3
   },
   "file_extension": ".py",
   "mimetype": "text/x-python",
   "name": "python",
   "nbconvert_exporter": "python",
   "pygments_lexer": "ipython3",
   "version": "3.7.5"
  }
 },
 "nbformat": 4,
 "nbformat_minor": 2
}
