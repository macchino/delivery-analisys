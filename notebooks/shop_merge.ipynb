{
 "cells": [
  {
   "cell_type": "markdown",
   "metadata": {},
   "source": [
    "# データ変換用"
   ]
  },
  {
   "cell_type": "markdown",
   "metadata": {},
   "source": [
    "整理がだいたいできたらスクリプト化する。"
   ]
  },
  {
   "cell_type": "code",
   "execution_count": 1,
   "metadata": {},
   "outputs": [],
   "source": [
    "import pandas as pd"
   ]
  },
  {
   "cell_type": "code",
   "execution_count": 2,
   "metadata": {},
   "outputs": [],
   "source": [
    "master = pd.read_csv(\"./../data/shop_master.csv\", index_col=\"id\")"
   ]
  },
  {
   "cell_type": "code",
   "execution_count": 3,
   "metadata": {},
   "outputs": [
    {
     "data": {
      "text/html": [
       "<div>\n",
       "<style scoped>\n",
       "    .dataframe tbody tr th:only-of-type {\n",
       "        vertical-align: middle;\n",
       "    }\n",
       "\n",
       "    .dataframe tbody tr th {\n",
       "        vertical-align: top;\n",
       "    }\n",
       "\n",
       "    .dataframe thead th {\n",
       "        text-align: right;\n",
       "    }\n",
       "</style>\n",
       "<table border=\"1\" class=\"dataframe\">\n",
       "  <thead>\n",
       "    <tr style=\"text-align: right;\">\n",
       "      <th></th>\n",
       "      <th>address</th>\n",
       "      <th>close_hour</th>\n",
       "      <th>latitude</th>\n",
       "      <th>longitude</th>\n",
       "      <th>name</th>\n",
       "      <th>open_hour</th>\n",
       "      <th>point</th>\n",
       "      <th>postal_code</th>\n",
       "      <th>reviews</th>\n",
       "      <th>url</th>\n",
       "    </tr>\n",
       "    <tr>\n",
       "      <th>id</th>\n",
       "      <th></th>\n",
       "      <th></th>\n",
       "      <th></th>\n",
       "      <th></th>\n",
       "      <th></th>\n",
       "      <th></th>\n",
       "      <th></th>\n",
       "      <th></th>\n",
       "      <th></th>\n",
       "      <th></th>\n",
       "    </tr>\n",
       "  </thead>\n",
       "  <tbody>\n",
       "    <tr>\n",
       "      <th>pTRkmFZ4RfSbf2aud8VA4w</th>\n",
       "      <td>神奈川県川崎市中原区新丸子東３丁目１１５６－２</td>\n",
       "      <td>21:00</td>\n",
       "      <td>35.573672</td>\n",
       "      <td>139.661720</td>\n",
       "      <td>藍屋 武蔵小杉店  Aiya Musashi Kosugi</td>\n",
       "      <td>11:00</td>\n",
       "      <td>4.2</td>\n",
       "      <td>211-0004</td>\n",
       "      <td>32.0</td>\n",
       "      <td>https://www.ubereats.com/ja-JP/yokohama/food-d...</td>\n",
       "    </tr>\n",
       "    <tr>\n",
       "      <th>UvJkazYkR-eErvgegDNhCA</th>\n",
       "      <td>川崎市中原区 小杉町2-276-1 E2 Kawasaki</td>\n",
       "      <td>21:00</td>\n",
       "      <td>35.577701</td>\n",
       "      <td>139.656897</td>\n",
       "      <td>トラットリア アッペティート TRATTORIA APPETITO</td>\n",
       "      <td>11:30</td>\n",
       "      <td>4.3</td>\n",
       "      <td>211-0063</td>\n",
       "      <td>30.0</td>\n",
       "      <td>https://www.ubereats.com/ja-JP/yokohama/food-d...</td>\n",
       "    </tr>\n",
       "    <tr>\n",
       "      <th>hT04UgaDRFmBaZuSA8-v4A</th>\n",
       "      <td>神奈川県川崎市中原区宮内4-7-19 Kanagawa</td>\n",
       "      <td>21:00</td>\n",
       "      <td>35.584097</td>\n",
       "      <td>139.646869</td>\n",
       "      <td>和食さと 川崎等々力 Washoku Sato Kawasakitodoroki</td>\n",
       "      <td>11:00</td>\n",
       "      <td>3.9</td>\n",
       "      <td>211-0051</td>\n",
       "      <td>40.0</td>\n",
       "      <td>https://www.ubereats.com/ja-JP/yokohama/food-d...</td>\n",
       "    </tr>\n",
       "  </tbody>\n",
       "</table>\n",
       "</div>"
      ],
      "text/plain": [
       "                                              address close_hour   latitude  \\\n",
       "id                                                                            \n",
       "pTRkmFZ4RfSbf2aud8VA4w        神奈川県川崎市中原区新丸子東３丁目１１５６－２      21:00  35.573672   \n",
       "UvJkazYkR-eErvgegDNhCA  川崎市中原区 小杉町2-276-1 E2 Kawasaki      21:00  35.577701   \n",
       "hT04UgaDRFmBaZuSA8-v4A    神奈川県川崎市中原区宮内4-7-19 Kanagawa      21:00  35.584097   \n",
       "\n",
       "                         longitude                                      name  \\\n",
       "id                                                                             \n",
       "pTRkmFZ4RfSbf2aud8VA4w  139.661720             藍屋 武蔵小杉店  Aiya Musashi Kosugi   \n",
       "UvJkazYkR-eErvgegDNhCA  139.656897         トラットリア アッペティート TRATTORIA APPETITO   \n",
       "hT04UgaDRFmBaZuSA8-v4A  139.646869  和食さと 川崎等々力 Washoku Sato Kawasakitodoroki   \n",
       "\n",
       "                       open_hour  point postal_code  reviews  \\\n",
       "id                                                             \n",
       "pTRkmFZ4RfSbf2aud8VA4w     11:00    4.2    211-0004     32.0   \n",
       "UvJkazYkR-eErvgegDNhCA     11:30    4.3    211-0063     30.0   \n",
       "hT04UgaDRFmBaZuSA8-v4A     11:00    3.9    211-0051     40.0   \n",
       "\n",
       "                                                                      url  \n",
       "id                                                                         \n",
       "pTRkmFZ4RfSbf2aud8VA4w  https://www.ubereats.com/ja-JP/yokohama/food-d...  \n",
       "UvJkazYkR-eErvgegDNhCA  https://www.ubereats.com/ja-JP/yokohama/food-d...  \n",
       "hT04UgaDRFmBaZuSA8-v4A  https://www.ubereats.com/ja-JP/yokohama/food-d...  "
      ]
     },
     "execution_count": 3,
     "metadata": {},
     "output_type": "execute_result"
    }
   ],
   "source": [
    "master.head(3)"
   ]
  },
  {
   "cell_type": "code",
   "execution_count": 4,
   "metadata": {
    "scrolled": true
   },
   "outputs": [
    {
     "data": {
      "text/plain": [
       "277"
      ]
     },
     "execution_count": 4,
     "metadata": {},
     "output_type": "execute_result"
    }
   ],
   "source": [
    "len(master)"
   ]
  },
  {
   "cell_type": "code",
   "execution_count": 5,
   "metadata": {},
   "outputs": [],
   "source": [
    "df = pd.read_csv(\"./../rawdata/shops/191231_all_stations.csv\", index_col=\"id\")"
   ]
  },
  {
   "cell_type": "code",
   "execution_count": 6,
   "metadata": {},
   "outputs": [
    {
     "data": {
      "text/plain": [
       "99"
      ]
     },
     "execution_count": 6,
     "metadata": {},
     "output_type": "execute_result"
    }
   ],
   "source": [
    "len(df)"
   ]
  },
  {
   "cell_type": "code",
   "execution_count": 7,
   "metadata": {},
   "outputs": [],
   "source": [
    "data = pd.concat([master, df], sort=False).drop_duplicates(subset=\"url\", keep=\"last\")"
   ]
  },
  {
   "cell_type": "code",
   "execution_count": 8,
   "metadata": {},
   "outputs": [
    {
     "data": {
      "text/plain": [
       "277"
      ]
     },
     "execution_count": 8,
     "metadata": {},
     "output_type": "execute_result"
    }
   ],
   "source": [
    "len(data)"
   ]
  },
  {
   "cell_type": "markdown",
   "metadata": {},
   "source": [
    "## 単体マージ"
   ]
  },
  {
   "cell_type": "code",
   "execution_count": 9,
   "metadata": {},
   "outputs": [],
   "source": [
    "shop = pd.read_csv(\"./../rawdata/shops/shop.csv\", index_col=\"id\")\n",
    "data = pd.concat([master, shop]).drop_duplicates(subset=\"url\")"
   ]
  },
  {
   "cell_type": "code",
   "execution_count": 10,
   "metadata": {},
   "outputs": [
    {
     "data": {
      "text/plain": [
       "278"
      ]
     },
     "execution_count": 10,
     "metadata": {},
     "output_type": "execute_result"
    }
   ],
   "source": [
    "len(data)"
   ]
  },
  {
   "cell_type": "markdown",
   "metadata": {},
   "source": [
    "## Export"
   ]
  },
  {
   "cell_type": "code",
   "execution_count": 11,
   "metadata": {},
   "outputs": [],
   "source": [
    "data.to_csv(\"./../data/shop_master.csv\", index=True)"
   ]
  },
  {
   "cell_type": "code",
   "execution_count": 12,
   "metadata": {},
   "outputs": [],
   "source": [
    "output = pd.DataFrame()"
   ]
  },
  {
   "cell_type": "code",
   "execution_count": 13,
   "metadata": {},
   "outputs": [],
   "source": [
    "output[\"店名\"] = data[\"name\"]\n",
    "output[\"住所\"] = data[\"address\"]\n",
    "output[\"緯度\"] = data[\"latitude\"]\n",
    "output[\"経度\"] = data[\"longitude\"]\n",
    "output[\"開始\"] = data[\"open_hour\"]\n",
    "output[\"終了\"] = data[\"close_hour\"]\n",
    "output[\"点数\"] = data[\"point\"]\n",
    "output[\"レビュー数\"] = data[\"reviews\"]\n",
    "output[\"URL\"] = data[\"url\"]"
   ]
  },
  {
   "cell_type": "code",
   "execution_count": 14,
   "metadata": {},
   "outputs": [],
   "source": [
    "output.to_csv(\"./../data/googlemap.csv\", index=False)"
   ]
  },
  {
   "cell_type": "code",
   "execution_count": null,
   "metadata": {},
   "outputs": [],
   "source": []
  }
 ],
 "metadata": {
  "kernelspec": {
   "display_name": "Environment (conda_ubereats)",
   "language": "python",
   "name": "conda_ubereats"
  },
  "language_info": {
   "codemirror_mode": {
    "name": "ipython",
    "version": 3
   },
   "file_extension": ".py",
   "mimetype": "text/x-python",
   "name": "python",
   "nbconvert_exporter": "python",
   "pygments_lexer": "ipython3",
   "version": "3.7.5"
  }
 },
 "nbformat": 4,
 "nbformat_minor": 2
}
