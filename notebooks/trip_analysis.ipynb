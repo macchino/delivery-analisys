{
 "cells": [
  {
   "cell_type": "markdown",
   "metadata": {},
   "source": [
    "# UberEats配達データ分析"
   ]
  },
  {
   "cell_type": "code",
   "execution_count": 189,
   "metadata": {},
   "outputs": [],
   "source": [
    "import pandas as pd\n",
    "import datetime\n",
    "import seaborn as sns\n",
    "import matplotlib.pyplot as plt"
   ]
  },
  {
   "cell_type": "code",
   "execution_count": 163,
   "metadata": {},
   "outputs": [],
   "source": [
    "FILE_PATH = './../data/trip_master.csv'\n",
    "master = pd.read_csv(FILE_PATH, index_col='id')"
   ]
  },
  {
   "cell_type": "code",
   "execution_count": 164,
   "metadata": {},
   "outputs": [
    {
     "name": "stdout",
     "output_type": "stream",
     "text": [
      "82\n"
     ]
    }
   ],
   "source": [
    "print(len(master))\n",
    "# master.head(5)"
   ]
  },
  {
   "cell_type": "code",
   "execution_count": 165,
   "metadata": {},
   "outputs": [
    {
     "data": {
      "text/plain": [
       "Index(['date', 'day', 'day_of_week', 'distance', 'drive_time', 'drop_time',\n",
       "       'month', 'pickup_address', 'pickup_latitude', 'pickup_longitude',\n",
       "       'pickup_time', 'price', 'url', 'year'],\n",
       "      dtype='object')"
      ]
     },
     "execution_count": 165,
     "metadata": {},
     "output_type": "execute_result"
    }
   ],
   "source": [
    "master.columns"
   ]
  },
  {
   "cell_type": "code",
   "execution_count": 178,
   "metadata": {},
   "outputs": [],
   "source": [
    "df = master.assign(\n",
    "    pickup_datetime= master.apply(lambda x: datetime.datetime(year=x.year, month=x.month, day=x.day, \n",
    "                                                           hour=int(x.pickup_time.split(':')[0]), minute=int(x.pickup_time.split(':')[1])), axis=1),\n",
    "    drop_datetime= master.apply(lambda x: datetime.datetime(year=x.year, month=x.month, day=x.day, \n",
    "                                                           hour=int(x.drop_time.split(':')[0]), minute=int(x.drop_time.split(':')[1])), axis=1),    \n",
    "    shop_position_id = master.apply(lambda x: str(x.pickup_latitude) + \"-\" + str(x.pickup_longitude), axis=1)\n",
    "                  ) .drop(['date', 'day', 'month', 'year', 'url', 'pickup_latitude', 'pickup_time', 'pickup_longitude', 'pickup_address', \n",
    "                           'day_of_week', 'pickup_time', 'drop_time'], axis=1)"
   ]
  },
  {
   "cell_type": "code",
   "execution_count": 179,
   "metadata": {},
   "outputs": [
    {
     "name": "stdout",
     "output_type": "stream",
     "text": [
      "<class 'pandas.core.frame.DataFrame'>\n",
      "Index: 82 entries, d92f23b6-46a8-48d7-823c-8cadb9182193 to 32a0d360-68c1-436d-ad1d-f8c0f7b94f04\n",
      "Data columns (total 6 columns):\n",
      "distance            82 non-null float64\n",
      "drive_time          82 non-null float64\n",
      "price               82 non-null int64\n",
      "pickup_datetime     82 non-null datetime64[ns]\n",
      "drop_datetime       82 non-null datetime64[ns]\n",
      "shop_position_id    82 non-null object\n",
      "dtypes: datetime64[ns](2), float64(2), int64(1), object(1)\n",
      "memory usage: 4.5+ KB\n"
     ]
    }
   ],
   "source": [
    "df.info()"
   ]
  },
  {
   "cell_type": "code",
   "execution_count": 184,
   "metadata": {},
   "outputs": [],
   "source": [
    "df['day_of_week_num'] = df['pickup_datetime'].dt.dayofweek\n",
    "df['day_of_week'] = df['pickup_datetime'].dt.weekday_name\n",
    "df['month_day_num'] = df['pickup_datetime'].dt.day\n",
    "df[\"hour_of_day\"] = df['pickup_datetime'].dt.hour"
   ]
  },
  {
   "cell_type": "code",
   "execution_count": 185,
   "metadata": {},
   "outputs": [
    {
     "data": {
      "text/html": [
       "<div>\n",
       "<style scoped>\n",
       "    .dataframe tbody tr th:only-of-type {\n",
       "        vertical-align: middle;\n",
       "    }\n",
       "\n",
       "    .dataframe tbody tr th {\n",
       "        vertical-align: top;\n",
       "    }\n",
       "\n",
       "    .dataframe thead th {\n",
       "        text-align: right;\n",
       "    }\n",
       "</style>\n",
       "<table border=\"1\" class=\"dataframe\">\n",
       "  <thead>\n",
       "    <tr style=\"text-align: right;\">\n",
       "      <th></th>\n",
       "      <th>distance</th>\n",
       "      <th>drive_time</th>\n",
       "      <th>price</th>\n",
       "      <th>pickup_datetime</th>\n",
       "      <th>drop_datetime</th>\n",
       "      <th>shop_position_id</th>\n",
       "      <th>day_of_week_num</th>\n",
       "      <th>day_of_week</th>\n",
       "      <th>month_day_num</th>\n",
       "      <th>hour_of_day</th>\n",
       "    </tr>\n",
       "    <tr>\n",
       "      <th>id</th>\n",
       "      <th></th>\n",
       "      <th></th>\n",
       "      <th></th>\n",
       "      <th></th>\n",
       "      <th></th>\n",
       "      <th></th>\n",
       "      <th></th>\n",
       "      <th></th>\n",
       "      <th></th>\n",
       "      <th></th>\n",
       "    </tr>\n",
       "  </thead>\n",
       "  <tbody>\n",
       "    <tr>\n",
       "      <th>d92f23b6-46a8-48d7-823c-8cadb9182193</th>\n",
       "      <td>0.51</td>\n",
       "      <td>7.6</td>\n",
       "      <td>401</td>\n",
       "      <td>2019-12-26 13:52:00</td>\n",
       "      <td>2019-12-26 14:07:00</td>\n",
       "      <td>35.58022689819336-139.66342163085938</td>\n",
       "      <td>3</td>\n",
       "      <td>Thursday</td>\n",
       "      <td>26</td>\n",
       "      <td>13</td>\n",
       "    </tr>\n",
       "    <tr>\n",
       "      <th>d9401bf2-68ed-42ee-8325-1f2698c1e86f</th>\n",
       "      <td>3.59</td>\n",
       "      <td>27.6</td>\n",
       "      <td>584</td>\n",
       "      <td>2019-12-26 17:12:00</td>\n",
       "      <td>2019-12-26 17:42:00</td>\n",
       "      <td>35.565433502197266-139.65289306640622</td>\n",
       "      <td>3</td>\n",
       "      <td>Thursday</td>\n",
       "      <td>26</td>\n",
       "      <td>17</td>\n",
       "    </tr>\n",
       "    <tr>\n",
       "      <th>8cd65eff-a081-47ee-a6e1-82ebc00f066a</th>\n",
       "      <td>2.29</td>\n",
       "      <td>26.1</td>\n",
       "      <td>666</td>\n",
       "      <td>2019-12-26 12:58:00</td>\n",
       "      <td>2019-12-26 13:34:00</td>\n",
       "      <td>35.5733528137207-139.65725708007812</td>\n",
       "      <td>3</td>\n",
       "      <td>Thursday</td>\n",
       "      <td>26</td>\n",
       "      <td>12</td>\n",
       "    </tr>\n",
       "  </tbody>\n",
       "</table>\n",
       "</div>"
      ],
      "text/plain": [
       "                                      distance  drive_time  price  \\\n",
       "id                                                                  \n",
       "d92f23b6-46a8-48d7-823c-8cadb9182193      0.51         7.6    401   \n",
       "d9401bf2-68ed-42ee-8325-1f2698c1e86f      3.59        27.6    584   \n",
       "8cd65eff-a081-47ee-a6e1-82ebc00f066a      2.29        26.1    666   \n",
       "\n",
       "                                         pickup_datetime       drop_datetime  \\\n",
       "id                                                                             \n",
       "d92f23b6-46a8-48d7-823c-8cadb9182193 2019-12-26 13:52:00 2019-12-26 14:07:00   \n",
       "d9401bf2-68ed-42ee-8325-1f2698c1e86f 2019-12-26 17:12:00 2019-12-26 17:42:00   \n",
       "8cd65eff-a081-47ee-a6e1-82ebc00f066a 2019-12-26 12:58:00 2019-12-26 13:34:00   \n",
       "\n",
       "                                                           shop_position_id  \\\n",
       "id                                                                            \n",
       "d92f23b6-46a8-48d7-823c-8cadb9182193   35.58022689819336-139.66342163085938   \n",
       "d9401bf2-68ed-42ee-8325-1f2698c1e86f  35.565433502197266-139.65289306640622   \n",
       "8cd65eff-a081-47ee-a6e1-82ebc00f066a    35.5733528137207-139.65725708007812   \n",
       "\n",
       "                                      day_of_week_num day_of_week  \\\n",
       "id                                                                  \n",
       "d92f23b6-46a8-48d7-823c-8cadb9182193                3    Thursday   \n",
       "d9401bf2-68ed-42ee-8325-1f2698c1e86f                3    Thursday   \n",
       "8cd65eff-a081-47ee-a6e1-82ebc00f066a                3    Thursday   \n",
       "\n",
       "                                      month_day_num  hour_of_day  \n",
       "id                                                                \n",
       "d92f23b6-46a8-48d7-823c-8cadb9182193             26           13  \n",
       "d9401bf2-68ed-42ee-8325-1f2698c1e86f             26           17  \n",
       "8cd65eff-a081-47ee-a6e1-82ebc00f066a             26           12  "
      ]
     },
     "execution_count": 185,
     "metadata": {},
     "output_type": "execute_result"
    }
   ],
   "source": [
    "df.head(3)"
   ]
  },
  {
   "cell_type": "markdown",
   "metadata": {},
   "source": [
    "## 毎日のデータ集計"
   ]
  },
  {
   "cell_type": "code",
   "execution_count": 149,
   "metadata": {},
   "outputs": [],
   "source": [
    "target_day = datetime.datetime(2019, 12, 26)\n",
    "# target_day = datetime.datetime.today\n",
    "df_day = df[df[\"date\"] == target_day]"
   ]
  },
  {
   "cell_type": "code",
   "execution_count": 150,
   "metadata": {},
   "outputs": [
    {
     "data": {
      "text/html": [
       "<div>\n",
       "<style scoped>\n",
       "    .dataframe tbody tr th:only-of-type {\n",
       "        vertical-align: middle;\n",
       "    }\n",
       "\n",
       "    .dataframe tbody tr th {\n",
       "        vertical-align: top;\n",
       "    }\n",
       "\n",
       "    .dataframe thead th {\n",
       "        text-align: right;\n",
       "    }\n",
       "</style>\n",
       "<table border=\"1\" class=\"dataframe\">\n",
       "  <thead>\n",
       "    <tr style=\"text-align: right;\">\n",
       "      <th></th>\n",
       "      <th>date</th>\n",
       "      <th>day_of_week</th>\n",
       "      <th>distance</th>\n",
       "      <th>drive_time</th>\n",
       "      <th>drop_time</th>\n",
       "      <th>pickup_time</th>\n",
       "      <th>price</th>\n",
       "      <th>shop_position_id</th>\n",
       "    </tr>\n",
       "    <tr>\n",
       "      <th>id</th>\n",
       "      <th></th>\n",
       "      <th></th>\n",
       "      <th></th>\n",
       "      <th></th>\n",
       "      <th></th>\n",
       "      <th></th>\n",
       "      <th></th>\n",
       "      <th></th>\n",
       "    </tr>\n",
       "  </thead>\n",
       "  <tbody>\n",
       "    <tr>\n",
       "      <th>d92f23b6-46a8-48d7-823c-8cadb9182193</th>\n",
       "      <td>2019-12-26</td>\n",
       "      <td>木</td>\n",
       "      <td>0.51</td>\n",
       "      <td>7.6</td>\n",
       "      <td>14:07</td>\n",
       "      <td>13:52</td>\n",
       "      <td>401</td>\n",
       "      <td>35.58022689819336-139.66342163085938</td>\n",
       "    </tr>\n",
       "    <tr>\n",
       "      <th>d9401bf2-68ed-42ee-8325-1f2698c1e86f</th>\n",
       "      <td>2019-12-26</td>\n",
       "      <td>木</td>\n",
       "      <td>3.59</td>\n",
       "      <td>27.6</td>\n",
       "      <td>17:42</td>\n",
       "      <td>17:12</td>\n",
       "      <td>584</td>\n",
       "      <td>35.565433502197266-139.65289306640622</td>\n",
       "    </tr>\n",
       "    <tr>\n",
       "      <th>8cd65eff-a081-47ee-a6e1-82ebc00f066a</th>\n",
       "      <td>2019-12-26</td>\n",
       "      <td>木</td>\n",
       "      <td>2.29</td>\n",
       "      <td>26.1</td>\n",
       "      <td>13:34</td>\n",
       "      <td>12:58</td>\n",
       "      <td>666</td>\n",
       "      <td>35.5733528137207-139.65725708007812</td>\n",
       "    </tr>\n",
       "    <tr>\n",
       "      <th>7b26ed4e-ac86-4e0a-b011-c552de346bf1</th>\n",
       "      <td>2019-12-26</td>\n",
       "      <td>木</td>\n",
       "      <td>0.53</td>\n",
       "      <td>10.0</td>\n",
       "      <td>16:44</td>\n",
       "      <td>16:23</td>\n",
       "      <td>362</td>\n",
       "      <td>35.56500625610352-139.654541015625</td>\n",
       "    </tr>\n",
       "    <tr>\n",
       "      <th>9cef32e6-4028-4e0e-8b08-0f65f43173aa</th>\n",
       "      <td>2019-12-26</td>\n",
       "      <td>木</td>\n",
       "      <td>2.53</td>\n",
       "      <td>19.0</td>\n",
       "      <td>18:55</td>\n",
       "      <td>18:22</td>\n",
       "      <td>701</td>\n",
       "      <td>35.58759307861328-139.63053894042972</td>\n",
       "    </tr>\n",
       "    <tr>\n",
       "      <th>a311f2cf-256a-466e-8a68-69da679ed678</th>\n",
       "      <td>2019-12-26</td>\n",
       "      <td>木</td>\n",
       "      <td>4.31</td>\n",
       "      <td>28.0</td>\n",
       "      <td>12:59</td>\n",
       "      <td>12:21</td>\n",
       "      <td>627</td>\n",
       "      <td>35.577117919921875-139.65669250488278</td>\n",
       "    </tr>\n",
       "    <tr>\n",
       "      <th>bdeaef46-5227-4ad0-9db0-296daad13c44</th>\n",
       "      <td>2019-12-26</td>\n",
       "      <td>木</td>\n",
       "      <td>0.82</td>\n",
       "      <td>10.5</td>\n",
       "      <td>16:25</td>\n",
       "      <td>16:04</td>\n",
       "      <td>377</td>\n",
       "      <td>35.56472396850586-139.65451049804688</td>\n",
       "    </tr>\n",
       "    <tr>\n",
       "      <th>90a6c393-b97b-4070-97c6-542f86fb96d9</th>\n",
       "      <td>2019-12-26</td>\n",
       "      <td>木</td>\n",
       "      <td>1.96</td>\n",
       "      <td>16.9</td>\n",
       "      <td>11:05</td>\n",
       "      <td>10:40</td>\n",
       "      <td>438</td>\n",
       "      <td>35.57533645629883-139.65950012207028</td>\n",
       "    </tr>\n",
       "    <tr>\n",
       "      <th>c34761f8-7d9d-4fd4-a2ab-495973ee3146</th>\n",
       "      <td>2019-12-26</td>\n",
       "      <td>木</td>\n",
       "      <td>2.22</td>\n",
       "      <td>23.2</td>\n",
       "      <td>18:14</td>\n",
       "      <td>17:49</td>\n",
       "      <td>622</td>\n",
       "      <td>35.58682632446289-139.62971496582028</td>\n",
       "    </tr>\n",
       "  </tbody>\n",
       "</table>\n",
       "</div>"
      ],
      "text/plain": [
       "                                           date day_of_week  distance  \\\n",
       "id                                                                      \n",
       "d92f23b6-46a8-48d7-823c-8cadb9182193 2019-12-26           木      0.51   \n",
       "d9401bf2-68ed-42ee-8325-1f2698c1e86f 2019-12-26           木      3.59   \n",
       "8cd65eff-a081-47ee-a6e1-82ebc00f066a 2019-12-26           木      2.29   \n",
       "7b26ed4e-ac86-4e0a-b011-c552de346bf1 2019-12-26           木      0.53   \n",
       "9cef32e6-4028-4e0e-8b08-0f65f43173aa 2019-12-26           木      2.53   \n",
       "a311f2cf-256a-466e-8a68-69da679ed678 2019-12-26           木      4.31   \n",
       "bdeaef46-5227-4ad0-9db0-296daad13c44 2019-12-26           木      0.82   \n",
       "90a6c393-b97b-4070-97c6-542f86fb96d9 2019-12-26           木      1.96   \n",
       "c34761f8-7d9d-4fd4-a2ab-495973ee3146 2019-12-26           木      2.22   \n",
       "\n",
       "                                      drive_time drop_time pickup_time  price  \\\n",
       "id                                                                              \n",
       "d92f23b6-46a8-48d7-823c-8cadb9182193         7.6     14:07       13:52    401   \n",
       "d9401bf2-68ed-42ee-8325-1f2698c1e86f        27.6     17:42       17:12    584   \n",
       "8cd65eff-a081-47ee-a6e1-82ebc00f066a        26.1     13:34       12:58    666   \n",
       "7b26ed4e-ac86-4e0a-b011-c552de346bf1        10.0     16:44       16:23    362   \n",
       "9cef32e6-4028-4e0e-8b08-0f65f43173aa        19.0     18:55       18:22    701   \n",
       "a311f2cf-256a-466e-8a68-69da679ed678        28.0     12:59       12:21    627   \n",
       "bdeaef46-5227-4ad0-9db0-296daad13c44        10.5     16:25       16:04    377   \n",
       "90a6c393-b97b-4070-97c6-542f86fb96d9        16.9     11:05       10:40    438   \n",
       "c34761f8-7d9d-4fd4-a2ab-495973ee3146        23.2     18:14       17:49    622   \n",
       "\n",
       "                                                           shop_position_id  \n",
       "id                                                                           \n",
       "d92f23b6-46a8-48d7-823c-8cadb9182193   35.58022689819336-139.66342163085938  \n",
       "d9401bf2-68ed-42ee-8325-1f2698c1e86f  35.565433502197266-139.65289306640622  \n",
       "8cd65eff-a081-47ee-a6e1-82ebc00f066a    35.5733528137207-139.65725708007812  \n",
       "7b26ed4e-ac86-4e0a-b011-c552de346bf1     35.56500625610352-139.654541015625  \n",
       "9cef32e6-4028-4e0e-8b08-0f65f43173aa   35.58759307861328-139.63053894042972  \n",
       "a311f2cf-256a-466e-8a68-69da679ed678  35.577117919921875-139.65669250488278  \n",
       "bdeaef46-5227-4ad0-9db0-296daad13c44   35.56472396850586-139.65451049804688  \n",
       "90a6c393-b97b-4070-97c6-542f86fb96d9   35.57533645629883-139.65950012207028  \n",
       "c34761f8-7d9d-4fd4-a2ab-495973ee3146   35.58682632446289-139.62971496582028  "
      ]
     },
     "execution_count": 150,
     "metadata": {},
     "output_type": "execute_result"
    }
   ],
   "source": [
    "df_day"
   ]
  },
  {
   "cell_type": "code",
   "execution_count": 151,
   "metadata": {},
   "outputs": [],
   "source": [
    "drive_count = len(df_day)\n",
    "drive_hours = round(df_day[\"drive_time\"].sum() / 60, 1)\n",
    "drive_length = round(df_day[\"distance\"].sum() , 2)\n",
    "total_price = df_day[\"price\"].sum()"
   ]
  },
  {
   "cell_type": "code",
   "execution_count": 152,
   "metadata": {},
   "outputs": [
    {
     "name": "stdout",
     "output_type": "stream",
     "text": [
      "2019-12-26  配達件数: 9件, 配達時間: 2.8h, 配達距離: 18.76km, 配達報酬: 4778円\n"
     ]
    }
   ],
   "source": [
    "print(\"{}  配達件数: {}件, 配達時間: {}h, 配達距離: {}km, 配達報酬: {}円\".format(target_day.date(), drive_count, drive_hours, drive_length, total_price))"
   ]
  },
  {
   "cell_type": "markdown",
   "metadata": {},
   "source": [
    "## 日別の集計"
   ]
  },
  {
   "cell_type": "code",
   "execution_count": null,
   "metadata": {},
   "outputs": [],
   "source": []
  },
  {
   "cell_type": "markdown",
   "metadata": {},
   "source": [
    "## 週別の集計"
   ]
  },
  {
   "cell_type": "code",
   "execution_count": null,
   "metadata": {},
   "outputs": [],
   "source": []
  },
  {
   "cell_type": "markdown",
   "metadata": {},
   "source": [
    "## 月別の集計"
   ]
  },
  {
   "cell_type": "code",
   "execution_count": null,
   "metadata": {},
   "outputs": [],
   "source": []
  },
  {
   "cell_type": "markdown",
   "metadata": {},
   "source": [
    "## 全データ分析"
   ]
  },
  {
   "cell_type": "code",
   "execution_count": 194,
   "metadata": {},
   "outputs": [
    {
     "data": {
      "text/plain": [
       "Text(0.5, 1.0, '曜日ごとの配達回数')"
      ]
     },
     "execution_count": 194,
     "metadata": {},
     "output_type": "execute_result"
    },
    {
     "name": "stderr",
     "output_type": "stream",
     "text": [
      "/home/tsu-nera/miniconda3/envs/ubereats/lib/python3.7/site-packages/matplotlib/backends/backend_agg.py:211: RuntimeWarning: Glyph 22238 missing from current font.\n",
      "  font.set_text(s, 0.0, flags=flags)\n",
      "/home/tsu-nera/miniconda3/envs/ubereats/lib/python3.7/site-packages/matplotlib/backends/backend_agg.py:180: RuntimeWarning: Glyph 22238 missing from current font.\n",
      "  font.set_text(s, 0, flags=flags)\n"
     ]
    },
    {
     "data": {
      "image/png": "[encoded data removed]",
      "text/plain": [
       "<Figure size 576x432 with 1 Axes>"
      ]
     },
     "metadata": {
      "needs_background": "light"
     },
     "output_type": "display_data"
    }
   ],
   "source": [
    "uber_weekdays = df.pivot_table(index=['day_of_week_num','day_of_week'],\n",
    "                                  values='pickup_datetime',\n",
    "                                  aggfunc='count')\n",
    "uber_weekdays.plot(kind='bar', figsize=(8,6))\n",
    "plt.ylabel('配達回数')\n",
    "plt.title('曜日ごとの配達回数')"
   ]
  },
  {
   "cell_type": "code",
   "execution_count": 196,
   "metadata": {},
   "outputs": [
    {
     "data": {
      "text/plain": [
       "'/home/tsu-nera/miniconda3/envs/ubereats/lib/python3.7/site-packages/matplotlib/mpl-data/matplotlibrc'"
      ]
     },
     "execution_count": 196,
     "metadata": {},
     "output_type": "execute_result"
    }
   ],
   "source": [
    "import matplotlib\n",
    "matplotlib.matplotlib_fname()"
   ]
  },
  {
   "cell_type": "code",
   "execution_count": 197,
   "metadata": {},
   "outputs": [
    {
     "data": {
      "text/plain": [
       "'/home/tsu-nera/.config/matplotlib'"
      ]
     },
     "execution_count": 197,
     "metadata": {},
     "output_type": "execute_result"
    }
   ],
   "source": [
    "import matplotlib as mpl\n",
    "mpl.get_configdir()"
   ]
  },
  {
   "cell_type": "code",
   "execution_count": null,
   "metadata": {},
   "outputs": [],
   "source": []
  }
 ],
 "metadata": {
  "kernelspec": {
   "display_name": "Environment (conda_ubereats)",
   "language": "python",
   "name": "conda_ubereats"
  },
  "language_info": {
   "codemirror_mode": {
    "name": "ipython",
    "version": 3
   },
   "file_extension": ".py",
   "mimetype": "text/x-python",
   "name": "python",
   "nbconvert_exporter": "python",
   "pygments_lexer": "ipython3",
   "version": "3.7.5"
  }
 },
 "nbformat": 4,
 "nbformat_minor": 2
}
