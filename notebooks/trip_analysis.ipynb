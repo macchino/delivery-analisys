{
 "cells": [
  {
   "cell_type": "markdown",
   "metadata": {},
   "source": [
    "# UberEats配達データ分析"
   ]
  },
  {
   "cell_type": "code",
   "execution_count": 1,
   "metadata": {},
   "outputs": [],
   "source": [
    "import pandas as pd\n",
    "import datetime\n",
    "import seaborn as sns\n",
    "import matplotlib.pyplot as plt\n",
    "import japanize_matplotlib"
   ]
  },
  {
   "cell_type": "code",
   "execution_count": 2,
   "metadata": {},
   "outputs": [],
   "source": [
    "%matplotlib inline\n",
    "plt.rcParams['figure.figsize'] = (8.0, 6.0)"
   ]
  },
  {
   "cell_type": "code",
   "execution_count": 3,
   "metadata": {},
   "outputs": [],
   "source": [
    "FILE_PATH = './../data/trip_master.csv'\n",
    "master = pd.read_csv(FILE_PATH, index_col='id')"
   ]
  },
  {
   "cell_type": "code",
   "execution_count": 4,
   "metadata": {},
   "outputs": [
    {
     "name": "stdout",
     "output_type": "stream",
     "text": [
      "134\n"
     ]
    }
   ],
   "source": [
    "print(len(master))\n",
    "# master.head(5)"
   ]
  },
  {
   "cell_type": "code",
   "execution_count": 5,
   "metadata": {},
   "outputs": [
    {
     "data": {
      "text/plain": [
       "Index(['date', 'day', 'day_of_week', 'distance', 'drive_time', 'drop_address',\n",
       "       'drop_latitude', 'drop_longitude', 'drop_time', 'month',\n",
       "       'pickup_address', 'pickup_latitude', 'pickup_longitude', 'pickup_time',\n",
       "       'price', 'url', 'year'],\n",
       "      dtype='object')"
      ]
     },
     "execution_count": 5,
     "metadata": {},
     "output_type": "execute_result"
    }
   ],
   "source": [
    "master.columns"
   ]
  },
  {
   "cell_type": "code",
   "execution_count": 6,
   "metadata": {},
   "outputs": [],
   "source": [
    "df = master.assign(\n",
    "    pickup_datetime= master.apply(lambda x: datetime.datetime(year=x.year, month=x.month, day=x.day, \n",
    "                                                           hour=int(x.pickup_time.split(':')[0]), minute=int(x.pickup_time.split(':')[1])), axis=1),\n",
    "    drop_datetime= master.apply(lambda x: datetime.datetime(year=x.year, month=x.month, day=x.day, \n",
    "                                                           hour=int(x.drop_time.split(':')[0]), minute=int(x.drop_time.split(':')[1])), axis=1),    \n",
    "    shop_position_id = master.apply(lambda x: str(x.pickup_latitude) + \"-\" + str(x.pickup_longitude), axis=1)\n",
    "                  ) .drop(['date', 'day', 'year', 'url', 'pickup_latitude', 'pickup_time', 'pickup_longitude', 'pickup_address', \n",
    "                           'day_of_week', 'pickup_time', 'drop_time', \"drop_address\", \"drop_latitude\", \"drop_longitude\"], axis=1)"
   ]
  },
  {
   "cell_type": "code",
   "execution_count": 7,
   "metadata": {},
   "outputs": [
    {
     "name": "stdout",
     "output_type": "stream",
     "text": [
      "<class 'pandas.core.frame.DataFrame'>\n",
      "Index: 134 entries, d92f23b6-46a8-48d7-823c-8cadb9182193 to 8465215b-c592-4606-bb90-7a72b585aebe\n",
      "Data columns (total 7 columns):\n",
      "distance            134 non-null float64\n",
      "drive_time          134 non-null float64\n",
      "month               134 non-null int64\n",
      "price               134 non-null int64\n",
      "pickup_datetime     134 non-null datetime64[ns]\n",
      "drop_datetime       134 non-null datetime64[ns]\n",
      "shop_position_id    134 non-null object\n",
      "dtypes: datetime64[ns](2), float64(2), int64(2), object(1)\n",
      "memory usage: 8.4+ KB\n"
     ]
    }
   ],
   "source": [
    "df.info()"
   ]
  },
  {
   "cell_type": "code",
   "execution_count": 8,
   "metadata": {},
   "outputs": [],
   "source": [
    "df['date'] = df['pickup_datetime'].dt.date\n",
    "df['day_of_week_num'] = df['pickup_datetime'].dt.dayofweek\n",
    "df['day_of_week'] = df['pickup_datetime'].dt.weekday_name\n",
    "df['month_day_num'] = df['pickup_datetime'].dt.day\n",
    "df[\"hour_of_day\"] = df['pickup_datetime'].dt.hour\n",
    "df[\"week_of_month\"] = df['pickup_datetime'].dt.week"
   ]
  },
  {
   "cell_type": "code",
   "execution_count": 9,
   "metadata": {
    "scrolled": true
   },
   "outputs": [
    {
     "data": {
      "text/html": [
       "<div>\n",
       "<style scoped>\n",
       "    .dataframe tbody tr th:only-of-type {\n",
       "        vertical-align: middle;\n",
       "    }\n",
       "\n",
       "    .dataframe tbody tr th {\n",
       "        vertical-align: top;\n",
       "    }\n",
       "\n",
       "    .dataframe thead th {\n",
       "        text-align: right;\n",
       "    }\n",
       "</style>\n",
       "<table border=\"1\" class=\"dataframe\">\n",
       "  <thead>\n",
       "    <tr style=\"text-align: right;\">\n",
       "      <th></th>\n",
       "      <th>distance</th>\n",
       "      <th>drive_time</th>\n",
       "      <th>month</th>\n",
       "      <th>price</th>\n",
       "      <th>pickup_datetime</th>\n",
       "      <th>drop_datetime</th>\n",
       "      <th>shop_position_id</th>\n",
       "      <th>date</th>\n",
       "      <th>day_of_week_num</th>\n",
       "      <th>day_of_week</th>\n",
       "      <th>month_day_num</th>\n",
       "      <th>hour_of_day</th>\n",
       "      <th>week_of_month</th>\n",
       "    </tr>\n",
       "    <tr>\n",
       "      <th>id</th>\n",
       "      <th></th>\n",
       "      <th></th>\n",
       "      <th></th>\n",
       "      <th></th>\n",
       "      <th></th>\n",
       "      <th></th>\n",
       "      <th></th>\n",
       "      <th></th>\n",
       "      <th></th>\n",
       "      <th></th>\n",
       "      <th></th>\n",
       "      <th></th>\n",
       "      <th></th>\n",
       "    </tr>\n",
       "  </thead>\n",
       "  <tbody>\n",
       "    <tr>\n",
       "      <th>d92f23b6-46a8-48d7-823c-8cadb9182193</th>\n",
       "      <td>0.51</td>\n",
       "      <td>7.6</td>\n",
       "      <td>12</td>\n",
       "      <td>401</td>\n",
       "      <td>2019-12-26 13:52:00</td>\n",
       "      <td>2019-12-26 14:07:00</td>\n",
       "      <td>35.58022689819336-139.66342163085938</td>\n",
       "      <td>2019-12-26</td>\n",
       "      <td>3</td>\n",
       "      <td>Thursday</td>\n",
       "      <td>26</td>\n",
       "      <td>13</td>\n",
       "      <td>52</td>\n",
       "    </tr>\n",
       "    <tr>\n",
       "      <th>d9401bf2-68ed-42ee-8325-1f2698c1e86f</th>\n",
       "      <td>3.59</td>\n",
       "      <td>27.6</td>\n",
       "      <td>12</td>\n",
       "      <td>584</td>\n",
       "      <td>2019-12-26 17:12:00</td>\n",
       "      <td>2019-12-26 17:42:00</td>\n",
       "      <td>35.565433502197266-139.65289306640622</td>\n",
       "      <td>2019-12-26</td>\n",
       "      <td>3</td>\n",
       "      <td>Thursday</td>\n",
       "      <td>26</td>\n",
       "      <td>17</td>\n",
       "      <td>52</td>\n",
       "    </tr>\n",
       "    <tr>\n",
       "      <th>8cd65eff-a081-47ee-a6e1-82ebc00f066a</th>\n",
       "      <td>2.29</td>\n",
       "      <td>26.1</td>\n",
       "      <td>12</td>\n",
       "      <td>666</td>\n",
       "      <td>2019-12-26 12:58:00</td>\n",
       "      <td>2019-12-26 13:34:00</td>\n",
       "      <td>35.5733528137207-139.65725708007812</td>\n",
       "      <td>2019-12-26</td>\n",
       "      <td>3</td>\n",
       "      <td>Thursday</td>\n",
       "      <td>26</td>\n",
       "      <td>12</td>\n",
       "      <td>52</td>\n",
       "    </tr>\n",
       "  </tbody>\n",
       "</table>\n",
       "</div>"
      ],
      "text/plain": [
       "                                      distance  drive_time  month  price  \\\n",
       "id                                                                         \n",
       "d92f23b6-46a8-48d7-823c-8cadb9182193      0.51         7.6     12    401   \n",
       "d9401bf2-68ed-42ee-8325-1f2698c1e86f      3.59        27.6     12    584   \n",
       "8cd65eff-a081-47ee-a6e1-82ebc00f066a      2.29        26.1     12    666   \n",
       "\n",
       "                                         pickup_datetime       drop_datetime  \\\n",
       "id                                                                             \n",
       "d92f23b6-46a8-48d7-823c-8cadb9182193 2019-12-26 13:52:00 2019-12-26 14:07:00   \n",
       "d9401bf2-68ed-42ee-8325-1f2698c1e86f 2019-12-26 17:12:00 2019-12-26 17:42:00   \n",
       "8cd65eff-a081-47ee-a6e1-82ebc00f066a 2019-12-26 12:58:00 2019-12-26 13:34:00   \n",
       "\n",
       "                                                           shop_position_id  \\\n",
       "id                                                                            \n",
       "d92f23b6-46a8-48d7-823c-8cadb9182193   35.58022689819336-139.66342163085938   \n",
       "d9401bf2-68ed-42ee-8325-1f2698c1e86f  35.565433502197266-139.65289306640622   \n",
       "8cd65eff-a081-47ee-a6e1-82ebc00f066a    35.5733528137207-139.65725708007812   \n",
       "\n",
       "                                            date  day_of_week_num day_of_week  \\\n",
       "id                                                                              \n",
       "d92f23b6-46a8-48d7-823c-8cadb9182193  2019-12-26                3    Thursday   \n",
       "d9401bf2-68ed-42ee-8325-1f2698c1e86f  2019-12-26                3    Thursday   \n",
       "8cd65eff-a081-47ee-a6e1-82ebc00f066a  2019-12-26                3    Thursday   \n",
       "\n",
       "                                      month_day_num  hour_of_day  \\\n",
       "id                                                                 \n",
       "d92f23b6-46a8-48d7-823c-8cadb9182193             26           13   \n",
       "d9401bf2-68ed-42ee-8325-1f2698c1e86f             26           17   \n",
       "8cd65eff-a081-47ee-a6e1-82ebc00f066a             26           12   \n",
       "\n",
       "                                      week_of_month  \n",
       "id                                                   \n",
       "d92f23b6-46a8-48d7-823c-8cadb9182193             52  \n",
       "d9401bf2-68ed-42ee-8325-1f2698c1e86f             52  \n",
       "8cd65eff-a081-47ee-a6e1-82ebc00f066a             52  "
      ]
     },
     "execution_count": 9,
     "metadata": {},
     "output_type": "execute_result"
    }
   ],
   "source": [
    "df.head(3)"
   ]
  },
  {
   "cell_type": "markdown",
   "metadata": {},
   "source": [
    "## 毎日のデータ集計"
   ]
  },
  {
   "cell_type": "code",
   "execution_count": 10,
   "metadata": {},
   "outputs": [],
   "source": [
    "# target_day = datetime.datetime(2020, 1, 6).date()\n",
    "target_day = datetime.datetime.today().date()\n",
    "df_day = df[df[\"date\"] == target_day]"
   ]
  },
  {
   "cell_type": "code",
   "execution_count": 11,
   "metadata": {},
   "outputs": [
    {
     "data": {
      "text/html": [
       "<div>\n",
       "<style scoped>\n",
       "    .dataframe tbody tr th:only-of-type {\n",
       "        vertical-align: middle;\n",
       "    }\n",
       "\n",
       "    .dataframe tbody tr th {\n",
       "        vertical-align: top;\n",
       "    }\n",
       "\n",
       "    .dataframe thead th {\n",
       "        text-align: right;\n",
       "    }\n",
       "</style>\n",
       "<table border=\"1\" class=\"dataframe\">\n",
       "  <thead>\n",
       "    <tr style=\"text-align: right;\">\n",
       "      <th></th>\n",
       "      <th>distance</th>\n",
       "      <th>drive_time</th>\n",
       "      <th>month</th>\n",
       "      <th>price</th>\n",
       "      <th>pickup_datetime</th>\n",
       "      <th>drop_datetime</th>\n",
       "      <th>shop_position_id</th>\n",
       "      <th>date</th>\n",
       "      <th>day_of_week_num</th>\n",
       "      <th>day_of_week</th>\n",
       "      <th>month_day_num</th>\n",
       "      <th>hour_of_day</th>\n",
       "      <th>week_of_month</th>\n",
       "    </tr>\n",
       "    <tr>\n",
       "      <th>id</th>\n",
       "      <th></th>\n",
       "      <th></th>\n",
       "      <th></th>\n",
       "      <th></th>\n",
       "      <th></th>\n",
       "      <th></th>\n",
       "      <th></th>\n",
       "      <th></th>\n",
       "      <th></th>\n",
       "      <th></th>\n",
       "      <th></th>\n",
       "      <th></th>\n",
       "      <th></th>\n",
       "    </tr>\n",
       "  </thead>\n",
       "  <tbody>\n",
       "    <tr>\n",
       "      <th>5e9dec7a-264b-4abe-aa2b-4e7e216120ad</th>\n",
       "      <td>0.90</td>\n",
       "      <td>8.9</td>\n",
       "      <td>1</td>\n",
       "      <td>382</td>\n",
       "      <td>2020-01-07 12:03:00</td>\n",
       "      <td>2020-01-07 12:17:00</td>\n",
       "      <td>35.58697509765625-139.63002014160156</td>\n",
       "      <td>2020-01-07</td>\n",
       "      <td>1</td>\n",
       "      <td>Tuesday</td>\n",
       "      <td>7</td>\n",
       "      <td>12</td>\n",
       "      <td>2</td>\n",
       "    </tr>\n",
       "    <tr>\n",
       "      <th>38ead3f6-f3ca-4dc9-8c8f-6ffd4a8ab26c</th>\n",
       "      <td>1.14</td>\n",
       "      <td>14.2</td>\n",
       "      <td>1</td>\n",
       "      <td>394</td>\n",
       "      <td>2020-01-07 10:57:00</td>\n",
       "      <td>2020-01-07 11:14:00</td>\n",
       "      <td>35.5811767578125-139.64141845703122</td>\n",
       "      <td>2020-01-07</td>\n",
       "      <td>1</td>\n",
       "      <td>Tuesday</td>\n",
       "      <td>7</td>\n",
       "      <td>10</td>\n",
       "      <td>2</td>\n",
       "    </tr>\n",
       "    <tr>\n",
       "      <th>78e061cf-350f-4ff1-b3a3-c6e5c402bf61</th>\n",
       "      <td>1.87</td>\n",
       "      <td>21.0</td>\n",
       "      <td>1</td>\n",
       "      <td>433</td>\n",
       "      <td>2020-01-07 12:37:00</td>\n",
       "      <td>2020-01-07 13:03:00</td>\n",
       "      <td>35.58710861206055-139.63067626953122</td>\n",
       "      <td>2020-01-07</td>\n",
       "      <td>1</td>\n",
       "      <td>Tuesday</td>\n",
       "      <td>7</td>\n",
       "      <td>12</td>\n",
       "      <td>2</td>\n",
       "    </tr>\n",
       "    <tr>\n",
       "      <th>8465215b-c592-4606-bb90-7a72b585aebe</th>\n",
       "      <td>1.17</td>\n",
       "      <td>11.0</td>\n",
       "      <td>1</td>\n",
       "      <td>396</td>\n",
       "      <td>2020-01-07 11:25:00</td>\n",
       "      <td>2020-01-07 11:46:00</td>\n",
       "      <td>35.58167266845703-139.64122009277344</td>\n",
       "      <td>2020-01-07</td>\n",
       "      <td>1</td>\n",
       "      <td>Tuesday</td>\n",
       "      <td>7</td>\n",
       "      <td>11</td>\n",
       "      <td>2</td>\n",
       "    </tr>\n",
       "  </tbody>\n",
       "</table>\n",
       "</div>"
      ],
      "text/plain": [
       "                                      distance  drive_time  month  price  \\\n",
       "id                                                                         \n",
       "5e9dec7a-264b-4abe-aa2b-4e7e216120ad      0.90         8.9      1    382   \n",
       "38ead3f6-f3ca-4dc9-8c8f-6ffd4a8ab26c      1.14        14.2      1    394   \n",
       "78e061cf-350f-4ff1-b3a3-c6e5c402bf61      1.87        21.0      1    433   \n",
       "8465215b-c592-4606-bb90-7a72b585aebe      1.17        11.0      1    396   \n",
       "\n",
       "                                         pickup_datetime       drop_datetime  \\\n",
       "id                                                                             \n",
       "5e9dec7a-264b-4abe-aa2b-4e7e216120ad 2020-01-07 12:03:00 2020-01-07 12:17:00   \n",
       "38ead3f6-f3ca-4dc9-8c8f-6ffd4a8ab26c 2020-01-07 10:57:00 2020-01-07 11:14:00   \n",
       "78e061cf-350f-4ff1-b3a3-c6e5c402bf61 2020-01-07 12:37:00 2020-01-07 13:03:00   \n",
       "8465215b-c592-4606-bb90-7a72b585aebe 2020-01-07 11:25:00 2020-01-07 11:46:00   \n",
       "\n",
       "                                                          shop_position_id  \\\n",
       "id                                                                           \n",
       "5e9dec7a-264b-4abe-aa2b-4e7e216120ad  35.58697509765625-139.63002014160156   \n",
       "38ead3f6-f3ca-4dc9-8c8f-6ffd4a8ab26c   35.5811767578125-139.64141845703122   \n",
       "78e061cf-350f-4ff1-b3a3-c6e5c402bf61  35.58710861206055-139.63067626953122   \n",
       "8465215b-c592-4606-bb90-7a72b585aebe  35.58167266845703-139.64122009277344   \n",
       "\n",
       "                                            date  day_of_week_num day_of_week  \\\n",
       "id                                                                              \n",
       "5e9dec7a-264b-4abe-aa2b-4e7e216120ad  2020-01-07                1     Tuesday   \n",
       "38ead3f6-f3ca-4dc9-8c8f-6ffd4a8ab26c  2020-01-07                1     Tuesday   \n",
       "78e061cf-350f-4ff1-b3a3-c6e5c402bf61  2020-01-07                1     Tuesday   \n",
       "8465215b-c592-4606-bb90-7a72b585aebe  2020-01-07                1     Tuesday   \n",
       "\n",
       "                                      month_day_num  hour_of_day  \\\n",
       "id                                                                 \n",
       "5e9dec7a-264b-4abe-aa2b-4e7e216120ad              7           12   \n",
       "38ead3f6-f3ca-4dc9-8c8f-6ffd4a8ab26c              7           10   \n",
       "78e061cf-350f-4ff1-b3a3-c6e5c402bf61              7           12   \n",
       "8465215b-c592-4606-bb90-7a72b585aebe              7           11   \n",
       "\n",
       "                                      week_of_month  \n",
       "id                                                   \n",
       "5e9dec7a-264b-4abe-aa2b-4e7e216120ad              2  \n",
       "38ead3f6-f3ca-4dc9-8c8f-6ffd4a8ab26c              2  \n",
       "78e061cf-350f-4ff1-b3a3-c6e5c402bf61              2  \n",
       "8465215b-c592-4606-bb90-7a72b585aebe              2  "
      ]
     },
     "execution_count": 11,
     "metadata": {},
     "output_type": "execute_result"
    }
   ],
   "source": [
    "df_day"
   ]
  },
  {
   "cell_type": "code",
   "execution_count": 12,
   "metadata": {},
   "outputs": [],
   "source": [
    "drive_count = len(df_day)\n",
    "drive_hours = round(df_day[\"drive_time\"].sum() / 60, 1)\n",
    "drive_length = round(df_day[\"distance\"].sum() , 2)\n",
    "total_price = df_day[\"price\"].sum()"
   ]
  },
  {
   "cell_type": "code",
   "execution_count": 13,
   "metadata": {},
   "outputs": [
    {
     "name": "stdout",
     "output_type": "stream",
     "text": [
      "2020-01-07  配達件数: 4件, 配達時間: 0.9h, 配達距離: 5.08km, 配達報酬: 1605円\n"
     ]
    }
   ],
   "source": [
    "print(\"{}  配達件数: {}件, 配達時間: {}h, 配達距離: {}km, 配達報酬: {}円\".format(target_day, drive_count, drive_hours, drive_length, total_price))"
   ]
  },
  {
   "cell_type": "markdown",
   "metadata": {},
   "source": [
    "## 日別の集計"
   ]
  },
  {
   "cell_type": "code",
   "execution_count": 14,
   "metadata": {},
   "outputs": [],
   "source": [
    "groupby = df.groupby('date')"
   ]
  },
  {
   "cell_type": "code",
   "execution_count": 15,
   "metadata": {},
   "outputs": [],
   "source": [
    "df_by_day = pd.DataFrame()\n",
    "df_by_day[\"配達件数\"] = groupby[\"pickup_datetime\"].count()\n",
    "df_by_day[\"配達時間(h)\"] = round(groupby[\"drive_time\"].sum() / 60, 1)\n",
    "df_by_day[\"配達距離(km)\"] = groupby[\"distance\"].sum()\n",
    "df_by_day[\"配達報酬(円)\"] = groupby[\"price\"].sum()\n",
    "df_by_day[\"ロングドロップ\"] = groupby.apply(lambda x: x[x.distance >= 2]['distance'].count())"
   ]
  },
  {
   "cell_type": "code",
   "execution_count": 16,
   "metadata": {},
   "outputs": [
    {
     "data": {
      "text/html": [
       "<div>\n",
       "<style scoped>\n",
       "    .dataframe tbody tr th:only-of-type {\n",
       "        vertical-align: middle;\n",
       "    }\n",
       "\n",
       "    .dataframe tbody tr th {\n",
       "        vertical-align: top;\n",
       "    }\n",
       "\n",
       "    .dataframe thead th {\n",
       "        text-align: right;\n",
       "    }\n",
       "</style>\n",
       "<table border=\"1\" class=\"dataframe\">\n",
       "  <thead>\n",
       "    <tr style=\"text-align: right;\">\n",
       "      <th></th>\n",
       "      <th>配達件数</th>\n",
       "      <th>配達時間(h)</th>\n",
       "      <th>配達距離(km)</th>\n",
       "      <th>配達報酬(円)</th>\n",
       "      <th>ロングドロップ</th>\n",
       "    </tr>\n",
       "    <tr>\n",
       "      <th>月日</th>\n",
       "      <th></th>\n",
       "      <th></th>\n",
       "      <th></th>\n",
       "      <th></th>\n",
       "      <th></th>\n",
       "    </tr>\n",
       "  </thead>\n",
       "  <tbody>\n",
       "    <tr>\n",
       "      <th>2019-12-11</th>\n",
       "      <td>2</td>\n",
       "      <td>1.1</td>\n",
       "      <td>4.41</td>\n",
       "      <td>902</td>\n",
       "      <td>1</td>\n",
       "    </tr>\n",
       "    <tr>\n",
       "      <th>2019-12-12</th>\n",
       "      <td>3</td>\n",
       "      <td>1.2</td>\n",
       "      <td>4.75</td>\n",
       "      <td>1254</td>\n",
       "      <td>1</td>\n",
       "    </tr>\n",
       "    <tr>\n",
       "      <th>2019-12-13</th>\n",
       "      <td>7</td>\n",
       "      <td>2.7</td>\n",
       "      <td>14.01</td>\n",
       "      <td>3223</td>\n",
       "      <td>3</td>\n",
       "    </tr>\n",
       "    <tr>\n",
       "      <th>2019-12-15</th>\n",
       "      <td>9</td>\n",
       "      <td>3.6</td>\n",
       "      <td>12.91</td>\n",
       "      <td>4559</td>\n",
       "      <td>2</td>\n",
       "    </tr>\n",
       "    <tr>\n",
       "      <th>2019-12-16</th>\n",
       "      <td>7</td>\n",
       "      <td>2.1</td>\n",
       "      <td>6.48</td>\n",
       "      <td>3119</td>\n",
       "      <td>0</td>\n",
       "    </tr>\n",
       "    <tr>\n",
       "      <th>2019-12-17</th>\n",
       "      <td>3</td>\n",
       "      <td>1.5</td>\n",
       "      <td>5.29</td>\n",
       "      <td>1588</td>\n",
       "      <td>1</td>\n",
       "    </tr>\n",
       "    <tr>\n",
       "      <th>2019-12-18</th>\n",
       "      <td>7</td>\n",
       "      <td>3.4</td>\n",
       "      <td>18.90</td>\n",
       "      <td>3570</td>\n",
       "      <td>4</td>\n",
       "    </tr>\n",
       "    <tr>\n",
       "      <th>2019-12-19</th>\n",
       "      <td>11</td>\n",
       "      <td>4.0</td>\n",
       "      <td>24.32</td>\n",
       "      <td>5492</td>\n",
       "      <td>6</td>\n",
       "    </tr>\n",
       "    <tr>\n",
       "      <th>2019-12-24</th>\n",
       "      <td>11</td>\n",
       "      <td>3.6</td>\n",
       "      <td>15.82</td>\n",
       "      <td>5341</td>\n",
       "      <td>0</td>\n",
       "    </tr>\n",
       "    <tr>\n",
       "      <th>2019-12-25</th>\n",
       "      <td>1</td>\n",
       "      <td>0.3</td>\n",
       "      <td>1.03</td>\n",
       "      <td>388</td>\n",
       "      <td>0</td>\n",
       "    </tr>\n",
       "    <tr>\n",
       "      <th>2019-12-26</th>\n",
       "      <td>9</td>\n",
       "      <td>2.8</td>\n",
       "      <td>18.76</td>\n",
       "      <td>4778</td>\n",
       "      <td>5</td>\n",
       "    </tr>\n",
       "    <tr>\n",
       "      <th>2019-12-29</th>\n",
       "      <td>18</td>\n",
       "      <td>3.9</td>\n",
       "      <td>26.12</td>\n",
       "      <td>9286</td>\n",
       "      <td>2</td>\n",
       "    </tr>\n",
       "    <tr>\n",
       "      <th>2019-12-30</th>\n",
       "      <td>7</td>\n",
       "      <td>1.9</td>\n",
       "      <td>8.78</td>\n",
       "      <td>2912</td>\n",
       "      <td>1</td>\n",
       "    </tr>\n",
       "    <tr>\n",
       "      <th>2019-12-31</th>\n",
       "      <td>5</td>\n",
       "      <td>1.2</td>\n",
       "      <td>8.19</td>\n",
       "      <td>2325</td>\n",
       "      <td>1</td>\n",
       "    </tr>\n",
       "    <tr>\n",
       "      <th>2020-01-05</th>\n",
       "      <td>14</td>\n",
       "      <td>3.5</td>\n",
       "      <td>23.69</td>\n",
       "      <td>7638</td>\n",
       "      <td>5</td>\n",
       "    </tr>\n",
       "    <tr>\n",
       "      <th>2020-01-06</th>\n",
       "      <td>16</td>\n",
       "      <td>3.8</td>\n",
       "      <td>19.45</td>\n",
       "      <td>6631</td>\n",
       "      <td>2</td>\n",
       "    </tr>\n",
       "    <tr>\n",
       "      <th>2020-01-07</th>\n",
       "      <td>4</td>\n",
       "      <td>0.9</td>\n",
       "      <td>5.08</td>\n",
       "      <td>1605</td>\n",
       "      <td>0</td>\n",
       "    </tr>\n",
       "  </tbody>\n",
       "</table>\n",
       "</div>"
      ],
      "text/plain": [
       "            配達件数  配達時間(h)  配達距離(km)  配達報酬(円)  ロングドロップ\n",
       "月日                                                   \n",
       "2019-12-11     2      1.1      4.41      902        1\n",
       "2019-12-12     3      1.2      4.75     1254        1\n",
       "2019-12-13     7      2.7     14.01     3223        3\n",
       "2019-12-15     9      3.6     12.91     4559        2\n",
       "2019-12-16     7      2.1      6.48     3119        0\n",
       "2019-12-17     3      1.5      5.29     1588        1\n",
       "2019-12-18     7      3.4     18.90     3570        4\n",
       "2019-12-19    11      4.0     24.32     5492        6\n",
       "2019-12-24    11      3.6     15.82     5341        0\n",
       "2019-12-25     1      0.3      1.03      388        0\n",
       "2019-12-26     9      2.8     18.76     4778        5\n",
       "2019-12-29    18      3.9     26.12     9286        2\n",
       "2019-12-30     7      1.9      8.78     2912        1\n",
       "2019-12-31     5      1.2      8.19     2325        1\n",
       "2020-01-05    14      3.5     23.69     7638        5\n",
       "2020-01-06    16      3.8     19.45     6631        2\n",
       "2020-01-07     4      0.9      5.08     1605        0"
      ]
     },
     "execution_count": 16,
     "metadata": {},
     "output_type": "execute_result"
    }
   ],
   "source": [
    "df_by_day.index.name = '月日'\n",
    "df_by_day.tail(30)"
   ]
  },
  {
   "cell_type": "markdown",
   "metadata": {},
   "source": [
    "## 週別の集計"
   ]
  },
  {
   "cell_type": "code",
   "execution_count": 17,
   "metadata": {},
   "outputs": [],
   "source": [
    "groupby = df.groupby('week_of_month')"
   ]
  },
  {
   "cell_type": "code",
   "execution_count": 18,
   "metadata": {},
   "outputs": [],
   "source": [
    "df_by_week = pd.DataFrame()\n",
    "df_by_week[\"配達件数\"] = groupby[\"pickup_datetime\"].count()\n",
    "df_by_week[\"配達時間(h)\"] = round(groupby[\"drive_time\"].sum() / 60, 1)\n",
    "df_by_week[\"配達距離(km)\"] = groupby[\"distance\"].sum()\n",
    "df_by_week[\"配達報酬(円)\"] = groupby[\"price\"].sum()\n",
    "df_by_week[\"ロングドロップ\"] = groupby.apply(lambda x: x[x.distance >= 2]['distance'].count())"
   ]
  },
  {
   "cell_type": "code",
   "execution_count": 19,
   "metadata": {},
   "outputs": [
    {
     "data": {
      "text/html": [
       "<div>\n",
       "<style scoped>\n",
       "    .dataframe tbody tr th:only-of-type {\n",
       "        vertical-align: middle;\n",
       "    }\n",
       "\n",
       "    .dataframe tbody tr th {\n",
       "        vertical-align: top;\n",
       "    }\n",
       "\n",
       "    .dataframe thead th {\n",
       "        text-align: right;\n",
       "    }\n",
       "</style>\n",
       "<table border=\"1\" class=\"dataframe\">\n",
       "  <thead>\n",
       "    <tr style=\"text-align: right;\">\n",
       "      <th></th>\n",
       "      <th>配達件数</th>\n",
       "      <th>配達時間(h)</th>\n",
       "      <th>配達距離(km)</th>\n",
       "      <th>配達報酬(円)</th>\n",
       "      <th>ロングドロップ</th>\n",
       "    </tr>\n",
       "    <tr>\n",
       "      <th>週番号</th>\n",
       "      <th></th>\n",
       "      <th></th>\n",
       "      <th></th>\n",
       "      <th></th>\n",
       "      <th></th>\n",
       "    </tr>\n",
       "  </thead>\n",
       "  <tbody>\n",
       "    <tr>\n",
       "      <th>1</th>\n",
       "      <td>26</td>\n",
       "      <td>6.5</td>\n",
       "      <td>40.66</td>\n",
       "      <td>12875</td>\n",
       "      <td>7</td>\n",
       "    </tr>\n",
       "    <tr>\n",
       "      <th>2</th>\n",
       "      <td>20</td>\n",
       "      <td>4.7</td>\n",
       "      <td>24.53</td>\n",
       "      <td>8236</td>\n",
       "      <td>2</td>\n",
       "    </tr>\n",
       "    <tr>\n",
       "      <th>50</th>\n",
       "      <td>21</td>\n",
       "      <td>8.5</td>\n",
       "      <td>36.08</td>\n",
       "      <td>9938</td>\n",
       "      <td>7</td>\n",
       "    </tr>\n",
       "    <tr>\n",
       "      <th>51</th>\n",
       "      <td>28</td>\n",
       "      <td>11.0</td>\n",
       "      <td>54.99</td>\n",
       "      <td>13769</td>\n",
       "      <td>11</td>\n",
       "    </tr>\n",
       "    <tr>\n",
       "      <th>52</th>\n",
       "      <td>39</td>\n",
       "      <td>10.6</td>\n",
       "      <td>61.73</td>\n",
       "      <td>19793</td>\n",
       "      <td>7</td>\n",
       "    </tr>\n",
       "  </tbody>\n",
       "</table>\n",
       "</div>"
      ],
      "text/plain": [
       "     配達件数  配達時間(h)  配達距離(km)  配達報酬(円)  ロングドロップ\n",
       "週番号                                           \n",
       "1      26      6.5     40.66    12875        7\n",
       "2      20      4.7     24.53     8236        2\n",
       "50     21      8.5     36.08     9938        7\n",
       "51     28     11.0     54.99    13769       11\n",
       "52     39     10.6     61.73    19793        7"
      ]
     },
     "execution_count": 19,
     "metadata": {},
     "output_type": "execute_result"
    }
   ],
   "source": [
    "df_by_week.index.name = '週番号'\n",
    "df_by_week.tail(30)"
   ]
  },
  {
   "cell_type": "markdown",
   "metadata": {},
   "source": [
    "## 月別の集計"
   ]
  },
  {
   "cell_type": "code",
   "execution_count": 20,
   "metadata": {},
   "outputs": [],
   "source": [
    "groupby = df.groupby('month')\n",
    "df_by_month = pd.DataFrame()\n",
    "df_by_month[\"配達件数\"] = groupby[\"pickup_datetime\"].count()\n",
    "df_by_month[\"配達時間(h)\"] = round(groupby[\"drive_time\"].sum() / 60, 1)\n",
    "df_by_month[\"配達距離(km)\"] = groupby[\"distance\"].sum()\n",
    "df_by_month[\"配達報酬(円)\"] = groupby[\"price\"].sum()\n",
    "df_by_month[\"ロングドロップ\"] = groupby.apply(lambda x: x[x.distance >= 2]['distance'].count())"
   ]
  },
  {
   "cell_type": "code",
   "execution_count": 21,
   "metadata": {},
   "outputs": [
    {
     "data": {
      "text/html": [
       "<div>\n",
       "<style scoped>\n",
       "    .dataframe tbody tr th:only-of-type {\n",
       "        vertical-align: middle;\n",
       "    }\n",
       "\n",
       "    .dataframe tbody tr th {\n",
       "        vertical-align: top;\n",
       "    }\n",
       "\n",
       "    .dataframe thead th {\n",
       "        text-align: right;\n",
       "    }\n",
       "</style>\n",
       "<table border=\"1\" class=\"dataframe\">\n",
       "  <thead>\n",
       "    <tr style=\"text-align: right;\">\n",
       "      <th></th>\n",
       "      <th>配達件数</th>\n",
       "      <th>配達時間(h)</th>\n",
       "      <th>配達距離(km)</th>\n",
       "      <th>配達報酬(円)</th>\n",
       "      <th>ロングドロップ</th>\n",
       "    </tr>\n",
       "    <tr>\n",
       "      <th>月</th>\n",
       "      <th></th>\n",
       "      <th></th>\n",
       "      <th></th>\n",
       "      <th></th>\n",
       "      <th></th>\n",
       "    </tr>\n",
       "  </thead>\n",
       "  <tbody>\n",
       "    <tr>\n",
       "      <th>1</th>\n",
       "      <td>34</td>\n",
       "      <td>8.2</td>\n",
       "      <td>48.22</td>\n",
       "      <td>15874</td>\n",
       "      <td>7</td>\n",
       "    </tr>\n",
       "    <tr>\n",
       "      <th>12</th>\n",
       "      <td>100</td>\n",
       "      <td>33.1</td>\n",
       "      <td>169.77</td>\n",
       "      <td>48737</td>\n",
       "      <td>27</td>\n",
       "    </tr>\n",
       "  </tbody>\n",
       "</table>\n",
       "</div>"
      ],
      "text/plain": [
       "    配達件数  配達時間(h)  配達距離(km)  配達報酬(円)  ロングドロップ\n",
       "月                                            \n",
       "1     34      8.2     48.22    15874        7\n",
       "12   100     33.1    169.77    48737       27"
      ]
     },
     "execution_count": 21,
     "metadata": {},
     "output_type": "execute_result"
    }
   ],
   "source": [
    "df_by_month.index.name = '月'\n",
    "df_by_month"
   ]
  },
  {
   "cell_type": "markdown",
   "metadata": {},
   "source": [
    "## 全データ分析"
   ]
  },
  {
   "cell_type": "code",
   "execution_count": 22,
   "metadata": {},
   "outputs": [
    {
     "data": {
      "text/plain": [
       "Text(0.5, 1.0, '曜日ごとの配達回数')"
      ]
     },
     "execution_count": 22,
     "metadata": {},
     "output_type": "execute_result"
    },
    {
     "data": {
      "image/png": "[encoded data removed]",
      "text/plain": [
       "<Figure size 576x432 with 1 Axes>"
      ]
     },
     "metadata": {
      "needs_background": "light"
     },
     "output_type": "display_data"
    }
   ],
   "source": [
    "uber_weekdays = df.pivot_table(index=['day_of_week_num','day_of_week'],\n",
    "                                  values='pickup_datetime',\n",
    "                                  aggfunc='count')\n",
    "uber_weekdays.plot(kind='bar')\n",
    "plt.ylabel('配達回数')\n",
    "plt.title('曜日ごとの配達回数')"
   ]
  },
  {
   "cell_type": "code",
   "execution_count": 23,
   "metadata": {},
   "outputs": [
    {
     "data": {
      "text/plain": [
       "Text(0.5, 1.0, '日にちごとの配達回数')"
      ]
     },
     "execution_count": 23,
     "metadata": {},
     "output_type": "execute_result"
    },
    {
     "data": {
      "image/png": "[encoded data removed]",
      "text/plain": [
       "<Figure size 576x432 with 1 Axes>"
      ]
     },
     "metadata": {
      "needs_background": "light"
     },
     "output_type": "display_data"
    }
   ],
   "source": [
    "uber_monthdays = df.pivot_table(index=['month_day_num'],\n",
    "                                  values='price',\n",
    "                                  aggfunc='count')\n",
    "uber_monthdays.plot(kind='bar')\n",
    "plt.ylabel('配達回数')\n",
    "plt.title('日にちごとの配達回数')"
   ]
  },
  {
   "cell_type": "code",
   "execution_count": 24,
   "metadata": {},
   "outputs": [
    {
     "data": {
      "text/plain": [
       "Text(0.5, 1.0, '時間ごとの配達回数')"
      ]
     },
     "execution_count": 24,
     "metadata": {},
     "output_type": "execute_result"
    },
    {
     "data": {
      "image/png": "[encoded data removed]",
      "text/plain": [
       "<Figure size 576x432 with 1 Axes>"
      ]
     },
     "metadata": {
      "needs_background": "light"
     },
     "output_type": "display_data"
    }
   ],
   "source": [
    "uber_hour = df.pivot_table(index=['hour_of_day'],\n",
    "                                  values='price',\n",
    "                                  aggfunc='count')\n",
    "uber_hour.plot(kind='bar')\n",
    "plt.ylabel('配達回数')\n",
    "plt.title('時間ごとの配達回数')"
   ]
  },
  {
   "cell_type": "code",
   "execution_count": 25,
   "metadata": {},
   "outputs": [
    {
     "data": {
      "text/plain": [
       "<matplotlib.axes._subplots.AxesSubplot at 0x7f299cb79890>"
      ]
     },
     "execution_count": 25,
     "metadata": {},
     "output_type": "execute_result"
    },
    {
     "data": {
      "image/png": "[encoded data removed]",
      "text/plain": [
       "<Figure size 576x432 with 2 Axes>"
      ]
     },
     "metadata": {
      "needs_background": "light"
     },
     "output_type": "display_data"
    }
   ],
   "source": [
    "def count_rows(rows):\n",
    "    return len(rows)\n",
    "\n",
    "by_cross = df.groupby('day_of_week hour_of_day'.split()).apply(count_rows).unstack()\n",
    "sns.heatmap(by_cross)"
   ]
  },
  {
   "cell_type": "code",
   "execution_count": null,
   "metadata": {},
   "outputs": [],
   "source": []
  },
  {
   "cell_type": "code",
   "execution_count": null,
   "metadata": {},
   "outputs": [],
   "source": []
  },
  {
   "cell_type": "code",
   "execution_count": null,
   "metadata": {},
   "outputs": [],
   "source": []
  }
 ],
 "metadata": {
  "kernelspec": {
   "display_name": "Environment (conda_ubereats)",
   "language": "python",
   "name": "conda_ubereats"
  },
  "language_info": {
   "codemirror_mode": {
    "name": "ipython",
    "version": 3
   },
   "file_extension": ".py",
   "mimetype": "text/x-python",
   "name": "python",
   "nbconvert_exporter": "python",
   "pygments_lexer": "ipython3",
   "version": "3.7.5"
  }
 },
 "nbformat": 4,
 "nbformat_minor": 2
}
