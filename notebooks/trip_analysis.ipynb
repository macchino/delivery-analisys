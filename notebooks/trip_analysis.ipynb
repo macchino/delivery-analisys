{
 "cells": [
  {
   "cell_type": "markdown",
   "metadata": {},
   "source": [
    "# UberEats配達データ分析"
   ]
  },
  {
   "cell_type": "code",
   "execution_count": 487,
   "metadata": {},
   "outputs": [],
   "source": [
    "import pandas as pd\n",
    "import datetime\n",
    "import seaborn as sns\n",
    "import matplotlib.pyplot as plt\n",
    "import japanize_matplotlib"
   ]
  },
  {
   "cell_type": "code",
   "execution_count": 488,
   "metadata": {},
   "outputs": [],
   "source": [
    "%matplotlib inline\n",
    "plt.rcParams['figure.figsize'] = (8.0, 6.0)"
   ]
  },
  {
   "cell_type": "code",
   "execution_count": 489,
   "metadata": {},
   "outputs": [],
   "source": [
    "FILE_PATH = './../data/trip_master.csv'\n",
    "master = pd.read_csv(FILE_PATH, index_col='id')"
   ]
  },
  {
   "cell_type": "code",
   "execution_count": 490,
   "metadata": {},
   "outputs": [
    {
     "name": "stdout",
     "output_type": "stream",
     "text": [
      "95\n"
     ]
    }
   ],
   "source": [
    "print(len(master))\n",
    "# master.head(5)"
   ]
  },
  {
   "cell_type": "code",
   "execution_count": 491,
   "metadata": {},
   "outputs": [
    {
     "data": {
      "text/plain": [
       "Index(['date', 'day', 'day_of_week', 'distance', 'drive_time', 'drop_address',\n",
       "       'drop_latitude', 'drop_longitude', 'drop_time', 'month',\n",
       "       'pickup_address', 'pickup_latitude', 'pickup_longitude', 'pickup_time',\n",
       "       'price', 'url', 'year'],\n",
       "      dtype='object')"
      ]
     },
     "execution_count": 491,
     "metadata": {},
     "output_type": "execute_result"
    }
   ],
   "source": [
    "master.columns"
   ]
  },
  {
   "cell_type": "code",
   "execution_count": 492,
   "metadata": {},
   "outputs": [],
   "source": [
    "df = master.assign(\n",
    "    pickup_datetime= master.apply(lambda x: datetime.datetime(year=x.year, month=x.month, day=x.day, \n",
    "                                                           hour=int(x.pickup_time.split(':')[0]), minute=int(x.pickup_time.split(':')[1])), axis=1),\n",
    "    drop_datetime= master.apply(lambda x: datetime.datetime(year=x.year, month=x.month, day=x.day, \n",
    "                                                           hour=int(x.drop_time.split(':')[0]), minute=int(x.drop_time.split(':')[1])), axis=1),    \n",
    "    shop_position_id = master.apply(lambda x: str(x.pickup_latitude) + \"-\" + str(x.pickup_longitude), axis=1)\n",
    "                  ) .drop(['date', 'day', 'year', 'url', 'pickup_latitude', 'pickup_time', 'pickup_longitude', 'pickup_address', \n",
    "                           'day_of_week', 'pickup_time', 'drop_time', \"drop_address\", \"drop_latitude\", \"drop_longitude\"], axis=1)"
   ]
  },
  {
   "cell_type": "code",
   "execution_count": 493,
   "metadata": {},
   "outputs": [
    {
     "name": "stdout",
     "output_type": "stream",
     "text": [
      "<class 'pandas.core.frame.DataFrame'>\n",
      "Index: 95 entries, d92f23b6-46a8-48d7-823c-8cadb9182193 to c5c65bca-0bf7-494f-9c3d-2cf7e7aefa2c\n",
      "Data columns (total 7 columns):\n",
      "distance            95 non-null float64\n",
      "drive_time          95 non-null float64\n",
      "month               95 non-null int64\n",
      "price               95 non-null int64\n",
      "pickup_datetime     95 non-null datetime64[ns]\n",
      "drop_datetime       95 non-null datetime64[ns]\n",
      "shop_position_id    95 non-null object\n",
      "dtypes: datetime64[ns](2), float64(2), int64(2), object(1)\n",
      "memory usage: 5.9+ KB\n"
     ]
    }
   ],
   "source": [
    "df.info()"
   ]
  },
  {
   "cell_type": "code",
   "execution_count": 497,
   "metadata": {},
   "outputs": [],
   "source": [
    "df['date'] = df['pickup_datetime'].dt.date\n",
    "df['day_of_week_num'] = df['pickup_datetime'].dt.dayofweek\n",
    "df['day_of_week'] = df['pickup_datetime'].dt.weekday_name\n",
    "df['month_day_num'] = df['pickup_datetime'].dt.day\n",
    "df[\"hour_of_day\"] = df['pickup_datetime'].dt.hour\n",
    "df[\"week_of_month\"] = df['pickup_datetime'].dt.week"
   ]
  },
  {
   "cell_type": "code",
   "execution_count": 498,
   "metadata": {
    "scrolled": true
   },
   "outputs": [
    {
     "data": {
      "text/html": [
       "<div>\n",
       "<style scoped>\n",
       "    .dataframe tbody tr th:only-of-type {\n",
       "        vertical-align: middle;\n",
       "    }\n",
       "\n",
       "    .dataframe tbody tr th {\n",
       "        vertical-align: top;\n",
       "    }\n",
       "\n",
       "    .dataframe thead th {\n",
       "        text-align: right;\n",
       "    }\n",
       "</style>\n",
       "<table border=\"1\" class=\"dataframe\">\n",
       "  <thead>\n",
       "    <tr style=\"text-align: right;\">\n",
       "      <th></th>\n",
       "      <th>distance</th>\n",
       "      <th>drive_time</th>\n",
       "      <th>month</th>\n",
       "      <th>price</th>\n",
       "      <th>pickup_datetime</th>\n",
       "      <th>drop_datetime</th>\n",
       "      <th>shop_position_id</th>\n",
       "      <th>date</th>\n",
       "      <th>day_of_week_num</th>\n",
       "      <th>day_of_week</th>\n",
       "      <th>month_day_num</th>\n",
       "      <th>hour_of_day</th>\n",
       "      <th>week_of_month</th>\n",
       "    </tr>\n",
       "    <tr>\n",
       "      <th>id</th>\n",
       "      <th></th>\n",
       "      <th></th>\n",
       "      <th></th>\n",
       "      <th></th>\n",
       "      <th></th>\n",
       "      <th></th>\n",
       "      <th></th>\n",
       "      <th></th>\n",
       "      <th></th>\n",
       "      <th></th>\n",
       "      <th></th>\n",
       "      <th></th>\n",
       "      <th></th>\n",
       "    </tr>\n",
       "  </thead>\n",
       "  <tbody>\n",
       "    <tr>\n",
       "      <th>d92f23b6-46a8-48d7-823c-8cadb9182193</th>\n",
       "      <td>0.51</td>\n",
       "      <td>7.6</td>\n",
       "      <td>12</td>\n",
       "      <td>401</td>\n",
       "      <td>2019-12-26 13:52:00</td>\n",
       "      <td>2019-12-26 14:07:00</td>\n",
       "      <td>35.58022689819336-139.66342163085938</td>\n",
       "      <td>2019-12-26</td>\n",
       "      <td>3</td>\n",
       "      <td>Thursday</td>\n",
       "      <td>26</td>\n",
       "      <td>13</td>\n",
       "      <td>52</td>\n",
       "    </tr>\n",
       "    <tr>\n",
       "      <th>d9401bf2-68ed-42ee-8325-1f2698c1e86f</th>\n",
       "      <td>3.59</td>\n",
       "      <td>27.6</td>\n",
       "      <td>12</td>\n",
       "      <td>584</td>\n",
       "      <td>2019-12-26 17:12:00</td>\n",
       "      <td>2019-12-26 17:42:00</td>\n",
       "      <td>35.565433502197266-139.65289306640622</td>\n",
       "      <td>2019-12-26</td>\n",
       "      <td>3</td>\n",
       "      <td>Thursday</td>\n",
       "      <td>26</td>\n",
       "      <td>17</td>\n",
       "      <td>52</td>\n",
       "    </tr>\n",
       "    <tr>\n",
       "      <th>8cd65eff-a081-47ee-a6e1-82ebc00f066a</th>\n",
       "      <td>2.29</td>\n",
       "      <td>26.1</td>\n",
       "      <td>12</td>\n",
       "      <td>666</td>\n",
       "      <td>2019-12-26 12:58:00</td>\n",
       "      <td>2019-12-26 13:34:00</td>\n",
       "      <td>35.5733528137207-139.65725708007812</td>\n",
       "      <td>2019-12-26</td>\n",
       "      <td>3</td>\n",
       "      <td>Thursday</td>\n",
       "      <td>26</td>\n",
       "      <td>12</td>\n",
       "      <td>52</td>\n",
       "    </tr>\n",
       "  </tbody>\n",
       "</table>\n",
       "</div>"
      ],
      "text/plain": [
       "                                      distance  drive_time  month  price  \\\n",
       "id                                                                         \n",
       "d92f23b6-46a8-48d7-823c-8cadb9182193      0.51         7.6     12    401   \n",
       "d9401bf2-68ed-42ee-8325-1f2698c1e86f      3.59        27.6     12    584   \n",
       "8cd65eff-a081-47ee-a6e1-82ebc00f066a      2.29        26.1     12    666   \n",
       "\n",
       "                                         pickup_datetime       drop_datetime  \\\n",
       "id                                                                             \n",
       "d92f23b6-46a8-48d7-823c-8cadb9182193 2019-12-26 13:52:00 2019-12-26 14:07:00   \n",
       "d9401bf2-68ed-42ee-8325-1f2698c1e86f 2019-12-26 17:12:00 2019-12-26 17:42:00   \n",
       "8cd65eff-a081-47ee-a6e1-82ebc00f066a 2019-12-26 12:58:00 2019-12-26 13:34:00   \n",
       "\n",
       "                                                           shop_position_id  \\\n",
       "id                                                                            \n",
       "d92f23b6-46a8-48d7-823c-8cadb9182193   35.58022689819336-139.66342163085938   \n",
       "d9401bf2-68ed-42ee-8325-1f2698c1e86f  35.565433502197266-139.65289306640622   \n",
       "8cd65eff-a081-47ee-a6e1-82ebc00f066a    35.5733528137207-139.65725708007812   \n",
       "\n",
       "                                            date  day_of_week_num day_of_week  \\\n",
       "id                                                                              \n",
       "d92f23b6-46a8-48d7-823c-8cadb9182193  2019-12-26                3    Thursday   \n",
       "d9401bf2-68ed-42ee-8325-1f2698c1e86f  2019-12-26                3    Thursday   \n",
       "8cd65eff-a081-47ee-a6e1-82ebc00f066a  2019-12-26                3    Thursday   \n",
       "\n",
       "                                      month_day_num  hour_of_day  \\\n",
       "id                                                                 \n",
       "d92f23b6-46a8-48d7-823c-8cadb9182193             26           13   \n",
       "d9401bf2-68ed-42ee-8325-1f2698c1e86f             26           17   \n",
       "8cd65eff-a081-47ee-a6e1-82ebc00f066a             26           12   \n",
       "\n",
       "                                      week_of_month  \n",
       "id                                                   \n",
       "d92f23b6-46a8-48d7-823c-8cadb9182193             52  \n",
       "d9401bf2-68ed-42ee-8325-1f2698c1e86f             52  \n",
       "8cd65eff-a081-47ee-a6e1-82ebc00f066a             52  "
      ]
     },
     "execution_count": 498,
     "metadata": {},
     "output_type": "execute_result"
    }
   ],
   "source": [
    "df.head(3)"
   ]
  },
  {
   "cell_type": "markdown",
   "metadata": {},
   "source": [
    "## 毎日のデータ集計"
   ]
  },
  {
   "cell_type": "code",
   "execution_count": 511,
   "metadata": {},
   "outputs": [],
   "source": [
    "# target_day = datetime.datetime(2019, 12, 29).date()\n",
    "target_day = datetime.datetime.today().date()\n",
    "df_day = df[df[\"date\"] == target_day]"
   ]
  },
  {
   "cell_type": "code",
   "execution_count": 512,
   "metadata": {},
   "outputs": [
    {
     "data": {
      "text/html": [
       "<div>\n",
       "<style scoped>\n",
       "    .dataframe tbody tr th:only-of-type {\n",
       "        vertical-align: middle;\n",
       "    }\n",
       "\n",
       "    .dataframe tbody tr th {\n",
       "        vertical-align: top;\n",
       "    }\n",
       "\n",
       "    .dataframe thead th {\n",
       "        text-align: right;\n",
       "    }\n",
       "</style>\n",
       "<table border=\"1\" class=\"dataframe\">\n",
       "  <thead>\n",
       "    <tr style=\"text-align: right;\">\n",
       "      <th></th>\n",
       "      <th>distance</th>\n",
       "      <th>drive_time</th>\n",
       "      <th>month</th>\n",
       "      <th>price</th>\n",
       "      <th>pickup_datetime</th>\n",
       "      <th>drop_datetime</th>\n",
       "      <th>shop_position_id</th>\n",
       "      <th>date</th>\n",
       "      <th>day_of_week_num</th>\n",
       "      <th>day_of_week</th>\n",
       "      <th>month_day_num</th>\n",
       "      <th>hour_of_day</th>\n",
       "      <th>week_of_month</th>\n",
       "    </tr>\n",
       "    <tr>\n",
       "      <th>id</th>\n",
       "      <th></th>\n",
       "      <th></th>\n",
       "      <th></th>\n",
       "      <th></th>\n",
       "      <th></th>\n",
       "      <th></th>\n",
       "      <th></th>\n",
       "      <th></th>\n",
       "      <th></th>\n",
       "      <th></th>\n",
       "      <th></th>\n",
       "      <th></th>\n",
       "      <th></th>\n",
       "    </tr>\n",
       "  </thead>\n",
       "  <tbody>\n",
       "    <tr>\n",
       "      <th>2131607a-1bfd-4229-8d38-3711bfbcd0ed</th>\n",
       "      <td>1.01</td>\n",
       "      <td>10.2</td>\n",
       "      <td>12</td>\n",
       "      <td>497</td>\n",
       "      <td>2019-12-30 19:23:00</td>\n",
       "      <td>2019-12-30 19:37:00</td>\n",
       "      <td>nan-nan</td>\n",
       "      <td>2019-12-30</td>\n",
       "      <td>0</td>\n",
       "      <td>Monday</td>\n",
       "      <td>30</td>\n",
       "      <td>19</td>\n",
       "      <td>1</td>\n",
       "    </tr>\n",
       "    <tr>\n",
       "      <th>e6b6d8cb-24e8-4651-bc7a-0abc32687fad</th>\n",
       "      <td>1.21</td>\n",
       "      <td>16.8</td>\n",
       "      <td>12</td>\n",
       "      <td>398</td>\n",
       "      <td>2019-12-30 18:06:00</td>\n",
       "      <td>2019-12-30 18:23:00</td>\n",
       "      <td>35.5811767578125-139.64138793945312</td>\n",
       "      <td>2019-12-30</td>\n",
       "      <td>0</td>\n",
       "      <td>Monday</td>\n",
       "      <td>30</td>\n",
       "      <td>18</td>\n",
       "      <td>1</td>\n",
       "    </tr>\n",
       "    <tr>\n",
       "      <th>1822f867-b243-4833-a212-4e07aa5f9ad4</th>\n",
       "      <td>1.46</td>\n",
       "      <td>17.5</td>\n",
       "      <td>12</td>\n",
       "      <td>411</td>\n",
       "      <td>2019-12-30 14:58:00</td>\n",
       "      <td>2019-12-30 15:18:00</td>\n",
       "      <td>35.58122634887695-139.64138793945312</td>\n",
       "      <td>2019-12-30</td>\n",
       "      <td>0</td>\n",
       "      <td>Monday</td>\n",
       "      <td>30</td>\n",
       "      <td>14</td>\n",
       "      <td>1</td>\n",
       "    </tr>\n",
       "    <tr>\n",
       "      <th>065768b0-adfd-47bd-95f7-9159907fbb42</th>\n",
       "      <td>2.24</td>\n",
       "      <td>28.8</td>\n",
       "      <td>12</td>\n",
       "      <td>453</td>\n",
       "      <td>2019-12-30 18:27:00</td>\n",
       "      <td>2019-12-30 18:59:00</td>\n",
       "      <td>35.57698440551758-139.65109252929688</td>\n",
       "      <td>2019-12-30</td>\n",
       "      <td>0</td>\n",
       "      <td>Monday</td>\n",
       "      <td>30</td>\n",
       "      <td>18</td>\n",
       "      <td>1</td>\n",
       "    </tr>\n",
       "    <tr>\n",
       "      <th>5c50fa0d-de58-4414-86ad-8ee44cb1b6b2</th>\n",
       "      <td>0.51</td>\n",
       "      <td>8.2</td>\n",
       "      <td>12</td>\n",
       "      <td>361</td>\n",
       "      <td>2019-12-30 17:51:00</td>\n",
       "      <td>2019-12-30 18:01:00</td>\n",
       "      <td>35.58118057250977-139.64132690429688</td>\n",
       "      <td>2019-12-30</td>\n",
       "      <td>0</td>\n",
       "      <td>Monday</td>\n",
       "      <td>30</td>\n",
       "      <td>17</td>\n",
       "      <td>1</td>\n",
       "    </tr>\n",
       "    <tr>\n",
       "      <th>4b01426d-2c2a-4d68-a411-461c2f0991b5</th>\n",
       "      <td>1.34</td>\n",
       "      <td>18.1</td>\n",
       "      <td>12</td>\n",
       "      <td>405</td>\n",
       "      <td>2019-12-30 17:12:00</td>\n",
       "      <td>2019-12-30 17:32:00</td>\n",
       "      <td>nan-nan</td>\n",
       "      <td>2019-12-30</td>\n",
       "      <td>0</td>\n",
       "      <td>Monday</td>\n",
       "      <td>30</td>\n",
       "      <td>17</td>\n",
       "      <td>1</td>\n",
       "    </tr>\n",
       "    <tr>\n",
       "      <th>c5c65bca-0bf7-494f-9c3d-2cf7e7aefa2c</th>\n",
       "      <td>1.01</td>\n",
       "      <td>11.7</td>\n",
       "      <td>12</td>\n",
       "      <td>387</td>\n",
       "      <td>2019-12-30 20:01:00</td>\n",
       "      <td>2019-12-30 20:16:00</td>\n",
       "      <td>35.58169937133789-139.64125061035156</td>\n",
       "      <td>2019-12-30</td>\n",
       "      <td>0</td>\n",
       "      <td>Monday</td>\n",
       "      <td>30</td>\n",
       "      <td>20</td>\n",
       "      <td>1</td>\n",
       "    </tr>\n",
       "  </tbody>\n",
       "</table>\n",
       "</div>"
      ],
      "text/plain": [
       "                                      distance  drive_time  month  price  \\\n",
       "id                                                                         \n",
       "2131607a-1bfd-4229-8d38-3711bfbcd0ed      1.01        10.2     12    497   \n",
       "e6b6d8cb-24e8-4651-bc7a-0abc32687fad      1.21        16.8     12    398   \n",
       "1822f867-b243-4833-a212-4e07aa5f9ad4      1.46        17.5     12    411   \n",
       "065768b0-adfd-47bd-95f7-9159907fbb42      2.24        28.8     12    453   \n",
       "5c50fa0d-de58-4414-86ad-8ee44cb1b6b2      0.51         8.2     12    361   \n",
       "4b01426d-2c2a-4d68-a411-461c2f0991b5      1.34        18.1     12    405   \n",
       "c5c65bca-0bf7-494f-9c3d-2cf7e7aefa2c      1.01        11.7     12    387   \n",
       "\n",
       "                                         pickup_datetime       drop_datetime  \\\n",
       "id                                                                             \n",
       "2131607a-1bfd-4229-8d38-3711bfbcd0ed 2019-12-30 19:23:00 2019-12-30 19:37:00   \n",
       "e6b6d8cb-24e8-4651-bc7a-0abc32687fad 2019-12-30 18:06:00 2019-12-30 18:23:00   \n",
       "1822f867-b243-4833-a212-4e07aa5f9ad4 2019-12-30 14:58:00 2019-12-30 15:18:00   \n",
       "065768b0-adfd-47bd-95f7-9159907fbb42 2019-12-30 18:27:00 2019-12-30 18:59:00   \n",
       "5c50fa0d-de58-4414-86ad-8ee44cb1b6b2 2019-12-30 17:51:00 2019-12-30 18:01:00   \n",
       "4b01426d-2c2a-4d68-a411-461c2f0991b5 2019-12-30 17:12:00 2019-12-30 17:32:00   \n",
       "c5c65bca-0bf7-494f-9c3d-2cf7e7aefa2c 2019-12-30 20:01:00 2019-12-30 20:16:00   \n",
       "\n",
       "                                                          shop_position_id  \\\n",
       "id                                                                           \n",
       "2131607a-1bfd-4229-8d38-3711bfbcd0ed                               nan-nan   \n",
       "e6b6d8cb-24e8-4651-bc7a-0abc32687fad   35.5811767578125-139.64138793945312   \n",
       "1822f867-b243-4833-a212-4e07aa5f9ad4  35.58122634887695-139.64138793945312   \n",
       "065768b0-adfd-47bd-95f7-9159907fbb42  35.57698440551758-139.65109252929688   \n",
       "5c50fa0d-de58-4414-86ad-8ee44cb1b6b2  35.58118057250977-139.64132690429688   \n",
       "4b01426d-2c2a-4d68-a411-461c2f0991b5                               nan-nan   \n",
       "c5c65bca-0bf7-494f-9c3d-2cf7e7aefa2c  35.58169937133789-139.64125061035156   \n",
       "\n",
       "                                            date  day_of_week_num day_of_week  \\\n",
       "id                                                                              \n",
       "2131607a-1bfd-4229-8d38-3711bfbcd0ed  2019-12-30                0      Monday   \n",
       "e6b6d8cb-24e8-4651-bc7a-0abc32687fad  2019-12-30                0      Monday   \n",
       "1822f867-b243-4833-a212-4e07aa5f9ad4  2019-12-30                0      Monday   \n",
       "065768b0-adfd-47bd-95f7-9159907fbb42  2019-12-30                0      Monday   \n",
       "5c50fa0d-de58-4414-86ad-8ee44cb1b6b2  2019-12-30                0      Monday   \n",
       "4b01426d-2c2a-4d68-a411-461c2f0991b5  2019-12-30                0      Monday   \n",
       "c5c65bca-0bf7-494f-9c3d-2cf7e7aefa2c  2019-12-30                0      Monday   \n",
       "\n",
       "                                      month_day_num  hour_of_day  \\\n",
       "id                                                                 \n",
       "2131607a-1bfd-4229-8d38-3711bfbcd0ed             30           19   \n",
       "e6b6d8cb-24e8-4651-bc7a-0abc32687fad             30           18   \n",
       "1822f867-b243-4833-a212-4e07aa5f9ad4             30           14   \n",
       "065768b0-adfd-47bd-95f7-9159907fbb42             30           18   \n",
       "5c50fa0d-de58-4414-86ad-8ee44cb1b6b2             30           17   \n",
       "4b01426d-2c2a-4d68-a411-461c2f0991b5             30           17   \n",
       "c5c65bca-0bf7-494f-9c3d-2cf7e7aefa2c             30           20   \n",
       "\n",
       "                                      week_of_month  \n",
       "id                                                   \n",
       "2131607a-1bfd-4229-8d38-3711bfbcd0ed              1  \n",
       "e6b6d8cb-24e8-4651-bc7a-0abc32687fad              1  \n",
       "1822f867-b243-4833-a212-4e07aa5f9ad4              1  \n",
       "065768b0-adfd-47bd-95f7-9159907fbb42              1  \n",
       "5c50fa0d-de58-4414-86ad-8ee44cb1b6b2              1  \n",
       "4b01426d-2c2a-4d68-a411-461c2f0991b5              1  \n",
       "c5c65bca-0bf7-494f-9c3d-2cf7e7aefa2c              1  "
      ]
     },
     "execution_count": 512,
     "metadata": {},
     "output_type": "execute_result"
    }
   ],
   "source": [
    "df_day"
   ]
  },
  {
   "cell_type": "code",
   "execution_count": 513,
   "metadata": {},
   "outputs": [],
   "source": [
    "drive_count = len(df_day)\n",
    "drive_hours = round(df_day[\"drive_time\"].sum() / 60, 1)\n",
    "drive_length = round(df_day[\"distance\"].sum() , 2)\n",
    "total_price = df_day[\"price\"].sum()"
   ]
  },
  {
   "cell_type": "code",
   "execution_count": 515,
   "metadata": {},
   "outputs": [
    {
     "name": "stdout",
     "output_type": "stream",
     "text": [
      "2019-12-30  配達件数: 7件, 配達時間: 1.9h, 配達距離: 8.78km, 配達報酬: 2912円\n"
     ]
    }
   ],
   "source": [
    "print(\"{}  配達件数: {}件, 配達時間: {}h, 配達距離: {}km, 配達報酬: {}円\".format(target_day, drive_count, drive_hours, drive_length, total_price))"
   ]
  },
  {
   "cell_type": "markdown",
   "metadata": {},
   "source": [
    "## 日別の集計"
   ]
  },
  {
   "cell_type": "code",
   "execution_count": 516,
   "metadata": {},
   "outputs": [],
   "source": [
    "groupby = df.groupby('date')"
   ]
  },
  {
   "cell_type": "code",
   "execution_count": 517,
   "metadata": {},
   "outputs": [],
   "source": [
    "df_by_day = pd.DataFrame()\n",
    "df_by_day[\"配達件数\"] = groupby[\"pickup_datetime\"].count()\n",
    "df_by_day[\"配達時間(h)\"] = round(groupby[\"drive_time\"].sum() / 60, 1)\n",
    "df_by_day[\"配達距離(km)\"] = groupby[\"distance\"].sum()\n",
    "df_by_day[\"配達報酬(円)\"] = groupby[\"price\"].sum()\n",
    "df_by_day[\"ロングドロップ\"] = groupby.apply(lambda x: x[x.distance >= 2]['distance'].count())"
   ]
  },
  {
   "cell_type": "code",
   "execution_count": 518,
   "metadata": {},
   "outputs": [
    {
     "data": {
      "text/html": [
       "<div>\n",
       "<style scoped>\n",
       "    .dataframe tbody tr th:only-of-type {\n",
       "        vertical-align: middle;\n",
       "    }\n",
       "\n",
       "    .dataframe tbody tr th {\n",
       "        vertical-align: top;\n",
       "    }\n",
       "\n",
       "    .dataframe thead th {\n",
       "        text-align: right;\n",
       "    }\n",
       "</style>\n",
       "<table border=\"1\" class=\"dataframe\">\n",
       "  <thead>\n",
       "    <tr style=\"text-align: right;\">\n",
       "      <th></th>\n",
       "      <th>配達件数</th>\n",
       "      <th>配達時間(h)</th>\n",
       "      <th>配達距離(km)</th>\n",
       "      <th>配達報酬(円)</th>\n",
       "      <th>ロングドロップ</th>\n",
       "    </tr>\n",
       "    <tr>\n",
       "      <th>月日</th>\n",
       "      <th></th>\n",
       "      <th></th>\n",
       "      <th></th>\n",
       "      <th></th>\n",
       "      <th></th>\n",
       "    </tr>\n",
       "  </thead>\n",
       "  <tbody>\n",
       "    <tr>\n",
       "      <th>2019-12-11</th>\n",
       "      <td>2</td>\n",
       "      <td>1.1</td>\n",
       "      <td>4.41</td>\n",
       "      <td>902</td>\n",
       "      <td>1</td>\n",
       "    </tr>\n",
       "    <tr>\n",
       "      <th>2019-12-12</th>\n",
       "      <td>3</td>\n",
       "      <td>1.2</td>\n",
       "      <td>4.75</td>\n",
       "      <td>1254</td>\n",
       "      <td>1</td>\n",
       "    </tr>\n",
       "    <tr>\n",
       "      <th>2019-12-13</th>\n",
       "      <td>7</td>\n",
       "      <td>2.7</td>\n",
       "      <td>14.01</td>\n",
       "      <td>3223</td>\n",
       "      <td>3</td>\n",
       "    </tr>\n",
       "    <tr>\n",
       "      <th>2019-12-15</th>\n",
       "      <td>9</td>\n",
       "      <td>3.6</td>\n",
       "      <td>12.91</td>\n",
       "      <td>4559</td>\n",
       "      <td>2</td>\n",
       "    </tr>\n",
       "    <tr>\n",
       "      <th>2019-12-16</th>\n",
       "      <td>7</td>\n",
       "      <td>2.1</td>\n",
       "      <td>6.48</td>\n",
       "      <td>3119</td>\n",
       "      <td>0</td>\n",
       "    </tr>\n",
       "    <tr>\n",
       "      <th>2019-12-17</th>\n",
       "      <td>3</td>\n",
       "      <td>1.5</td>\n",
       "      <td>5.29</td>\n",
       "      <td>1588</td>\n",
       "      <td>1</td>\n",
       "    </tr>\n",
       "    <tr>\n",
       "      <th>2019-12-18</th>\n",
       "      <td>7</td>\n",
       "      <td>3.4</td>\n",
       "      <td>18.90</td>\n",
       "      <td>3570</td>\n",
       "      <td>4</td>\n",
       "    </tr>\n",
       "    <tr>\n",
       "      <th>2019-12-19</th>\n",
       "      <td>11</td>\n",
       "      <td>4.0</td>\n",
       "      <td>24.32</td>\n",
       "      <td>5492</td>\n",
       "      <td>6</td>\n",
       "    </tr>\n",
       "    <tr>\n",
       "      <th>2019-12-24</th>\n",
       "      <td>11</td>\n",
       "      <td>3.6</td>\n",
       "      <td>15.82</td>\n",
       "      <td>5341</td>\n",
       "      <td>0</td>\n",
       "    </tr>\n",
       "    <tr>\n",
       "      <th>2019-12-25</th>\n",
       "      <td>1</td>\n",
       "      <td>0.3</td>\n",
       "      <td>1.03</td>\n",
       "      <td>388</td>\n",
       "      <td>0</td>\n",
       "    </tr>\n",
       "    <tr>\n",
       "      <th>2019-12-26</th>\n",
       "      <td>9</td>\n",
       "      <td>2.8</td>\n",
       "      <td>18.76</td>\n",
       "      <td>4778</td>\n",
       "      <td>5</td>\n",
       "    </tr>\n",
       "    <tr>\n",
       "      <th>2019-12-29</th>\n",
       "      <td>18</td>\n",
       "      <td>3.9</td>\n",
       "      <td>26.12</td>\n",
       "      <td>9286</td>\n",
       "      <td>2</td>\n",
       "    </tr>\n",
       "    <tr>\n",
       "      <th>2019-12-30</th>\n",
       "      <td>7</td>\n",
       "      <td>1.9</td>\n",
       "      <td>8.78</td>\n",
       "      <td>2912</td>\n",
       "      <td>1</td>\n",
       "    </tr>\n",
       "  </tbody>\n",
       "</table>\n",
       "</div>"
      ],
      "text/plain": [
       "            配達件数  配達時間(h)  配達距離(km)  配達報酬(円)  ロングドロップ\n",
       "月日                                                   \n",
       "2019-12-11     2      1.1      4.41      902        1\n",
       "2019-12-12     3      1.2      4.75     1254        1\n",
       "2019-12-13     7      2.7     14.01     3223        3\n",
       "2019-12-15     9      3.6     12.91     4559        2\n",
       "2019-12-16     7      2.1      6.48     3119        0\n",
       "2019-12-17     3      1.5      5.29     1588        1\n",
       "2019-12-18     7      3.4     18.90     3570        4\n",
       "2019-12-19    11      4.0     24.32     5492        6\n",
       "2019-12-24    11      3.6     15.82     5341        0\n",
       "2019-12-25     1      0.3      1.03      388        0\n",
       "2019-12-26     9      2.8     18.76     4778        5\n",
       "2019-12-29    18      3.9     26.12     9286        2\n",
       "2019-12-30     7      1.9      8.78     2912        1"
      ]
     },
     "execution_count": 518,
     "metadata": {},
     "output_type": "execute_result"
    }
   ],
   "source": [
    "df_by_day.index.name = '月日'\n",
    "df_by_day.tail(30)"
   ]
  },
  {
   "cell_type": "markdown",
   "metadata": {},
   "source": [
    "## 週別の集計"
   ]
  },
  {
   "cell_type": "code",
   "execution_count": 519,
   "metadata": {},
   "outputs": [],
   "source": [
    "groupby = df.groupby('week_of_month')"
   ]
  },
  {
   "cell_type": "code",
   "execution_count": 520,
   "metadata": {},
   "outputs": [],
   "source": [
    "df_by_week = pd.DataFrame()\n",
    "df_by_week[\"配達件数\"] = groupby[\"pickup_datetime\"].count()\n",
    "df_by_week[\"配達時間(h)\"] = round(groupby[\"drive_time\"].sum() / 60, 1)\n",
    "df_by_week[\"配達距離(km)\"] = groupby[\"distance\"].sum()\n",
    "df_by_week[\"配達報酬(円)\"] = groupby[\"price\"].sum()\n",
    "df_by_week[\"ロングドロップ\"] = groupby.apply(lambda x: x[x.distance >= 2]['distance'].count())"
   ]
  },
  {
   "cell_type": "code",
   "execution_count": 521,
   "metadata": {},
   "outputs": [
    {
     "data": {
      "text/html": [
       "<div>\n",
       "<style scoped>\n",
       "    .dataframe tbody tr th:only-of-type {\n",
       "        vertical-align: middle;\n",
       "    }\n",
       "\n",
       "    .dataframe tbody tr th {\n",
       "        vertical-align: top;\n",
       "    }\n",
       "\n",
       "    .dataframe thead th {\n",
       "        text-align: right;\n",
       "    }\n",
       "</style>\n",
       "<table border=\"1\" class=\"dataframe\">\n",
       "  <thead>\n",
       "    <tr style=\"text-align: right;\">\n",
       "      <th></th>\n",
       "      <th>配達件数</th>\n",
       "      <th>配達時間(h)</th>\n",
       "      <th>配達距離(km)</th>\n",
       "      <th>配達報酬(円)</th>\n",
       "      <th>ロングドロップ</th>\n",
       "    </tr>\n",
       "    <tr>\n",
       "      <th>週番号</th>\n",
       "      <th></th>\n",
       "      <th></th>\n",
       "      <th></th>\n",
       "      <th></th>\n",
       "      <th></th>\n",
       "    </tr>\n",
       "  </thead>\n",
       "  <tbody>\n",
       "    <tr>\n",
       "      <th>1</th>\n",
       "      <td>7</td>\n",
       "      <td>1.9</td>\n",
       "      <td>8.78</td>\n",
       "      <td>2912</td>\n",
       "      <td>1</td>\n",
       "    </tr>\n",
       "    <tr>\n",
       "      <th>50</th>\n",
       "      <td>21</td>\n",
       "      <td>8.5</td>\n",
       "      <td>36.08</td>\n",
       "      <td>9938</td>\n",
       "      <td>7</td>\n",
       "    </tr>\n",
       "    <tr>\n",
       "      <th>51</th>\n",
       "      <td>28</td>\n",
       "      <td>11.0</td>\n",
       "      <td>54.99</td>\n",
       "      <td>13769</td>\n",
       "      <td>11</td>\n",
       "    </tr>\n",
       "    <tr>\n",
       "      <th>52</th>\n",
       "      <td>39</td>\n",
       "      <td>10.6</td>\n",
       "      <td>61.73</td>\n",
       "      <td>19793</td>\n",
       "      <td>7</td>\n",
       "    </tr>\n",
       "  </tbody>\n",
       "</table>\n",
       "</div>"
      ],
      "text/plain": [
       "     配達件数  配達時間(h)  配達距離(km)  配達報酬(円)  ロングドロップ\n",
       "週番号                                           \n",
       "1       7      1.9      8.78     2912        1\n",
       "50     21      8.5     36.08     9938        7\n",
       "51     28     11.0     54.99    13769       11\n",
       "52     39     10.6     61.73    19793        7"
      ]
     },
     "execution_count": 521,
     "metadata": {},
     "output_type": "execute_result"
    }
   ],
   "source": [
    "df_by_week.index.name = '週番号'\n",
    "df_by_week.tail(30)"
   ]
  },
  {
   "cell_type": "markdown",
   "metadata": {},
   "source": [
    "## 月別の集計"
   ]
  },
  {
   "cell_type": "code",
   "execution_count": 522,
   "metadata": {},
   "outputs": [],
   "source": [
    "groupby = df.groupby('month')\n",
    "df_by_month = pd.DataFrame()\n",
    "df_by_month[\"配達件数\"] = groupby[\"pickup_datetime\"].count()\n",
    "df_by_month[\"配達時間(h)\"] = round(groupby[\"drive_time\"].sum() / 60, 1)\n",
    "df_by_month[\"配達距離(km)\"] = groupby[\"distance\"].sum()\n",
    "df_by_month[\"配達報酬(円)\"] = groupby[\"price\"].sum()\n",
    "df_by_month[\"ロングドロップ\"] = groupby.apply(lambda x: x[x.distance >= 2]['distance'].count())"
   ]
  },
  {
   "cell_type": "code",
   "execution_count": 523,
   "metadata": {},
   "outputs": [
    {
     "data": {
      "text/html": [
       "<div>\n",
       "<style scoped>\n",
       "    .dataframe tbody tr th:only-of-type {\n",
       "        vertical-align: middle;\n",
       "    }\n",
       "\n",
       "    .dataframe tbody tr th {\n",
       "        vertical-align: top;\n",
       "    }\n",
       "\n",
       "    .dataframe thead th {\n",
       "        text-align: right;\n",
       "    }\n",
       "</style>\n",
       "<table border=\"1\" class=\"dataframe\">\n",
       "  <thead>\n",
       "    <tr style=\"text-align: right;\">\n",
       "      <th></th>\n",
       "      <th>配達件数</th>\n",
       "      <th>配達時間(h)</th>\n",
       "      <th>配達距離(km)</th>\n",
       "      <th>配達報酬(円)</th>\n",
       "      <th>ロングドロップ</th>\n",
       "    </tr>\n",
       "    <tr>\n",
       "      <th>月</th>\n",
       "      <th></th>\n",
       "      <th></th>\n",
       "      <th></th>\n",
       "      <th></th>\n",
       "      <th></th>\n",
       "    </tr>\n",
       "  </thead>\n",
       "  <tbody>\n",
       "    <tr>\n",
       "      <th>12</th>\n",
       "      <td>95</td>\n",
       "      <td>31.9</td>\n",
       "      <td>161.58</td>\n",
       "      <td>46412</td>\n",
       "      <td>26</td>\n",
       "    </tr>\n",
       "  </tbody>\n",
       "</table>\n",
       "</div>"
      ],
      "text/plain": [
       "    配達件数  配達時間(h)  配達距離(km)  配達報酬(円)  ロングドロップ\n",
       "月                                            \n",
       "12    95     31.9    161.58    46412       26"
      ]
     },
     "execution_count": 523,
     "metadata": {},
     "output_type": "execute_result"
    }
   ],
   "source": [
    "df_by_month.index.name = '月'\n",
    "df_by_month"
   ]
  },
  {
   "cell_type": "markdown",
   "metadata": {},
   "source": [
    "## 全データ分析"
   ]
  },
  {
   "cell_type": "code",
   "execution_count": 524,
   "metadata": {},
   "outputs": [
    {
     "data": {
      "text/plain": [
       "Text(0.5, 1.0, '曜日ごとの配達回数')"
      ]
     },
     "execution_count": 524,
     "metadata": {},
     "output_type": "execute_result"
    },
    {
     "data": {
      "image/png": "[encoded data removed]",
      "text/plain": [
       "<Figure size 576x432 with 1 Axes>"
      ]
     },
     "metadata": {
      "needs_background": "light"
     },
     "output_type": "display_data"
    }
   ],
   "source": [
    "uber_weekdays = df.pivot_table(index=['day_of_week_num','day_of_week'],\n",
    "                                  values='pickup_datetime',\n",
    "                                  aggfunc='count')\n",
    "uber_weekdays.plot(kind='bar')\n",
    "plt.ylabel('配達回数')\n",
    "plt.title('曜日ごとの配達回数')"
   ]
  },
  {
   "cell_type": "code",
   "execution_count": 525,
   "metadata": {},
   "outputs": [
    {
     "data": {
      "text/plain": [
       "Text(0.5, 1.0, '日にちごとの配達回数')"
      ]
     },
     "execution_count": 525,
     "metadata": {},
     "output_type": "execute_result"
    },
    {
     "data": {
      "image/png": "[encoded data removed]",
      "text/plain": [
       "<Figure size 576x432 with 1 Axes>"
      ]
     },
     "metadata": {
      "needs_background": "light"
     },
     "output_type": "display_data"
    }
   ],
   "source": [
    "uber_monthdays = df.pivot_table(index=['month_day_num'],\n",
    "                                  values='price',\n",
    "                                  aggfunc='count')\n",
    "uber_monthdays.plot(kind='bar')\n",
    "plt.ylabel('配達回数')\n",
    "plt.title('日にちごとの配達回数')"
   ]
  },
  {
   "cell_type": "code",
   "execution_count": 526,
   "metadata": {},
   "outputs": [
    {
     "data": {
      "text/plain": [
       "Text(0.5, 1.0, '時間ごとの配達回数')"
      ]
     },
     "execution_count": 526,
     "metadata": {},
     "output_type": "execute_result"
    },
    {
     "data": {
      "image/png": "[encoded data removed]",
      "text/plain": [
       "<Figure size 576x432 with 1 Axes>"
      ]
     },
     "metadata": {
      "needs_background": "light"
     },
     "output_type": "display_data"
    }
   ],
   "source": [
    "uber_hour = df.pivot_table(index=['hour_of_day'],\n",
    "                                  values='price',\n",
    "                                  aggfunc='count')\n",
    "uber_hour.plot(kind='bar')\n",
    "plt.ylabel('配達回数')\n",
    "plt.title('時間ごとの配達回数')"
   ]
  },
  {
   "cell_type": "code",
   "execution_count": 527,
   "metadata": {},
   "outputs": [
    {
     "data": {
      "text/plain": [
       "<matplotlib.axes._subplots.AxesSubplot at 0x7f1b021c8850>"
      ]
     },
     "execution_count": 527,
     "metadata": {},
     "output_type": "execute_result"
    },
    {
     "data": {
      "image/png": "[encoded data removed]",
      "text/plain": [
       "<Figure size 576x432 with 2 Axes>"
      ]
     },
     "metadata": {
      "needs_background": "light"
     },
     "output_type": "display_data"
    }
   ],
   "source": [
    "def count_rows(rows):\n",
    "    return len(rows)\n",
    "\n",
    "by_cross = df.groupby('day_of_week hour_of_day'.split()).apply(count_rows).unstack()\n",
    "sns.heatmap(by_cross)"
   ]
  },
  {
   "cell_type": "code",
   "execution_count": null,
   "metadata": {},
   "outputs": [],
   "source": []
  }
 ],
 "metadata": {
  "kernelspec": {
   "display_name": "Environment (conda_ubereats)",
   "language": "python",
   "name": "conda_ubereats"
  },
  "language_info": {
   "codemirror_mode": {
    "name": "ipython",
    "version": 3
   },
   "file_extension": ".py",
   "mimetype": "text/x-python",
   "name": "python",
   "nbconvert_exporter": "python",
   "pygments_lexer": "ipython3",
   "version": "3.7.5"
  }
 },
 "nbformat": 4,
 "nbformat_minor": 2
}
