{
 "cells": [
  {
   "cell_type": "markdown",
   "metadata": {},
   "source": [
    "# UberEats店舗データ分析(武蔵中原近辺)"
   ]
  },
  {
   "cell_type": "code",
   "execution_count": 153,
   "metadata": {},
   "outputs": [],
   "source": [
    "import pandas as pd\n",
    "import datetime\n",
    "import seaborn as sns\n",
    "from pyproj import Geod\n",
    "import japanize_matplotlib"
   ]
  },
  {
   "cell_type": "code",
   "execution_count": 24,
   "metadata": {},
   "outputs": [],
   "source": [
    "FILE_PATH = './../data/shop_master.csv'\n",
    "master = pd.read_csv(FILE_PATH, index_col='id')"
   ]
  },
  {
   "cell_type": "code",
   "execution_count": 25,
   "metadata": {},
   "outputs": [
    {
     "data": {
      "text/plain": [
       "238"
      ]
     },
     "execution_count": 25,
     "metadata": {},
     "output_type": "execute_result"
    }
   ],
   "source": [
    "len(master)"
   ]
  },
  {
   "cell_type": "code",
   "execution_count": 26,
   "metadata": {},
   "outputs": [
    {
     "data": {
      "text/html": [
       "<div>\n",
       "<style scoped>\n",
       "    .dataframe tbody tr th:only-of-type {\n",
       "        vertical-align: middle;\n",
       "    }\n",
       "\n",
       "    .dataframe tbody tr th {\n",
       "        vertical-align: top;\n",
       "    }\n",
       "\n",
       "    .dataframe thead th {\n",
       "        text-align: right;\n",
       "    }\n",
       "</style>\n",
       "<table border=\"1\" class=\"dataframe\">\n",
       "  <thead>\n",
       "    <tr style=\"text-align: right;\">\n",
       "      <th></th>\n",
       "      <th>address</th>\n",
       "      <th>close_hour</th>\n",
       "      <th>latitude</th>\n",
       "      <th>longitude</th>\n",
       "      <th>name</th>\n",
       "      <th>open_hour</th>\n",
       "      <th>point</th>\n",
       "      <th>postal_code</th>\n",
       "      <th>reviews</th>\n",
       "      <th>url</th>\n",
       "    </tr>\n",
       "    <tr>\n",
       "      <th>id</th>\n",
       "      <th></th>\n",
       "      <th></th>\n",
       "      <th></th>\n",
       "      <th></th>\n",
       "      <th></th>\n",
       "      <th></th>\n",
       "      <th></th>\n",
       "      <th></th>\n",
       "      <th></th>\n",
       "      <th></th>\n",
       "    </tr>\n",
       "  </thead>\n",
       "  <tbody>\n",
       "    <tr>\n",
       "      <th>HZ38aBt6Q7i40am1CYt1sw</th>\n",
       "      <td>神奈川県川崎市中原区新丸子東２－８８５</td>\n",
       "      <td>22:00</td>\n",
       "      <td>35.579021</td>\n",
       "      <td>139.663525</td>\n",
       "      <td>デニーズ 武蔵小杉店 Denny's MUSASHI-KOSUGI</td>\n",
       "      <td>11:00</td>\n",
       "      <td>4.3</td>\n",
       "      <td>211-0004</td>\n",
       "      <td>211.0</td>\n",
       "      <td>https://www.ubereats.com/ja-JP/yokohama/food-d...</td>\n",
       "    </tr>\n",
       "    <tr>\n",
       "      <th>pTRkmFZ4RfSbf2aud8VA4w</th>\n",
       "      <td>神奈川県川崎市中原区新丸子東３丁目１１５６－２</td>\n",
       "      <td>21:00</td>\n",
       "      <td>35.573672</td>\n",
       "      <td>139.661720</td>\n",
       "      <td>藍屋 武蔵小杉店  Aiya Musashi Kosugi</td>\n",
       "      <td>11:00</td>\n",
       "      <td>4.2</td>\n",
       "      <td>211-0004</td>\n",
       "      <td>32.0</td>\n",
       "      <td>https://www.ubereats.com/ja-JP/yokohama/food-d...</td>\n",
       "    </tr>\n",
       "    <tr>\n",
       "      <th>nS3WLvBuTky3az1JNtP3Pw</th>\n",
       "      <td>Nakahara-Ku Kizuki 1 Chome−29 1F Kawasaki-Shi ...</td>\n",
       "      <td>22:00</td>\n",
       "      <td>35.565742</td>\n",
       "      <td>139.651417</td>\n",
       "      <td>ジャイプール Jaipur</td>\n",
       "      <td>17:00</td>\n",
       "      <td>4.3</td>\n",
       "      <td>211-0025</td>\n",
       "      <td>11.0</td>\n",
       "      <td>https://www.ubereats.com/ja-JP/yokohama/food-d...</td>\n",
       "    </tr>\n",
       "  </tbody>\n",
       "</table>\n",
       "</div>"
      ],
      "text/plain": [
       "                                                                  address  \\\n",
       "id                                                                          \n",
       "HZ38aBt6Q7i40am1CYt1sw                                神奈川県川崎市中原区新丸子東２－８８５   \n",
       "pTRkmFZ4RfSbf2aud8VA4w                            神奈川県川崎市中原区新丸子東３丁目１１５６－２   \n",
       "nS3WLvBuTky3az1JNtP3Pw  Nakahara-Ku Kizuki 1 Chome−29 1F Kawasaki-Shi ...   \n",
       "\n",
       "                       close_hour   latitude   longitude  \\\n",
       "id                                                         \n",
       "HZ38aBt6Q7i40am1CYt1sw      22:00  35.579021  139.663525   \n",
       "pTRkmFZ4RfSbf2aud8VA4w      21:00  35.573672  139.661720   \n",
       "nS3WLvBuTky3az1JNtP3Pw      22:00  35.565742  139.651417   \n",
       "\n",
       "                                                     name open_hour  point  \\\n",
       "id                                                                           \n",
       "HZ38aBt6Q7i40am1CYt1sw  デニーズ 武蔵小杉店 Denny's MUSASHI-KOSUGI     11:00    4.3   \n",
       "pTRkmFZ4RfSbf2aud8VA4w      藍屋 武蔵小杉店  Aiya Musashi Kosugi     11:00    4.2   \n",
       "nS3WLvBuTky3az1JNtP3Pw                      ジャイプール Jaipur     17:00    4.3   \n",
       "\n",
       "                       postal_code  reviews  \\\n",
       "id                                            \n",
       "HZ38aBt6Q7i40am1CYt1sw    211-0004    211.0   \n",
       "pTRkmFZ4RfSbf2aud8VA4w    211-0004     32.0   \n",
       "nS3WLvBuTky3az1JNtP3Pw    211-0025     11.0   \n",
       "\n",
       "                                                                      url  \n",
       "id                                                                         \n",
       "HZ38aBt6Q7i40am1CYt1sw  https://www.ubereats.com/ja-JP/yokohama/food-d...  \n",
       "pTRkmFZ4RfSbf2aud8VA4w  https://www.ubereats.com/ja-JP/yokohama/food-d...  \n",
       "nS3WLvBuTky3az1JNtP3Pw  https://www.ubereats.com/ja-JP/yokohama/food-d...  "
      ]
     },
     "execution_count": 26,
     "metadata": {},
     "output_type": "execute_result"
    }
   ],
   "source": [
    "master.head(3)"
   ]
  },
  {
   "cell_type": "code",
   "execution_count": 27,
   "metadata": {},
   "outputs": [],
   "source": [
    "df = master.assign(\n",
    "    shop_position_id = master.apply(lambda x: str(x.latitude) + \"-\" + str(x.longitude), axis=1)).drop([\"address\", \"url\"], axis=1)"
   ]
  },
  {
   "cell_type": "code",
   "execution_count": 28,
   "metadata": {},
   "outputs": [
    {
     "data": {
      "text/html": [
       "<div>\n",
       "<style scoped>\n",
       "    .dataframe tbody tr th:only-of-type {\n",
       "        vertical-align: middle;\n",
       "    }\n",
       "\n",
       "    .dataframe tbody tr th {\n",
       "        vertical-align: top;\n",
       "    }\n",
       "\n",
       "    .dataframe thead th {\n",
       "        text-align: right;\n",
       "    }\n",
       "</style>\n",
       "<table border=\"1\" class=\"dataframe\">\n",
       "  <thead>\n",
       "    <tr style=\"text-align: right;\">\n",
       "      <th></th>\n",
       "      <th>close_hour</th>\n",
       "      <th>latitude</th>\n",
       "      <th>longitude</th>\n",
       "      <th>name</th>\n",
       "      <th>open_hour</th>\n",
       "      <th>point</th>\n",
       "      <th>postal_code</th>\n",
       "      <th>reviews</th>\n",
       "      <th>shop_position_id</th>\n",
       "    </tr>\n",
       "    <tr>\n",
       "      <th>id</th>\n",
       "      <th></th>\n",
       "      <th></th>\n",
       "      <th></th>\n",
       "      <th></th>\n",
       "      <th></th>\n",
       "      <th></th>\n",
       "      <th></th>\n",
       "      <th></th>\n",
       "      <th></th>\n",
       "    </tr>\n",
       "  </thead>\n",
       "  <tbody>\n",
       "    <tr>\n",
       "      <th>HZ38aBt6Q7i40am1CYt1sw</th>\n",
       "      <td>22:00</td>\n",
       "      <td>35.579021</td>\n",
       "      <td>139.663525</td>\n",
       "      <td>デニーズ 武蔵小杉店 Denny's MUSASHI-KOSUGI</td>\n",
       "      <td>11:00</td>\n",
       "      <td>4.3</td>\n",
       "      <td>211-0004</td>\n",
       "      <td>211.0</td>\n",
       "      <td>35.5790206-139.6635248</td>\n",
       "    </tr>\n",
       "    <tr>\n",
       "      <th>pTRkmFZ4RfSbf2aud8VA4w</th>\n",
       "      <td>21:00</td>\n",
       "      <td>35.573672</td>\n",
       "      <td>139.661720</td>\n",
       "      <td>藍屋 武蔵小杉店  Aiya Musashi Kosugi</td>\n",
       "      <td>11:00</td>\n",
       "      <td>4.2</td>\n",
       "      <td>211-0004</td>\n",
       "      <td>32.0</td>\n",
       "      <td>35.5736715-139.6617199</td>\n",
       "    </tr>\n",
       "    <tr>\n",
       "      <th>nS3WLvBuTky3az1JNtP3Pw</th>\n",
       "      <td>22:00</td>\n",
       "      <td>35.565742</td>\n",
       "      <td>139.651417</td>\n",
       "      <td>ジャイプール Jaipur</td>\n",
       "      <td>17:00</td>\n",
       "      <td>4.3</td>\n",
       "      <td>211-0025</td>\n",
       "      <td>11.0</td>\n",
       "      <td>35.565742-139.65141699999998</td>\n",
       "    </tr>\n",
       "  </tbody>\n",
       "</table>\n",
       "</div>"
      ],
      "text/plain": [
       "                       close_hour   latitude   longitude  \\\n",
       "id                                                         \n",
       "HZ38aBt6Q7i40am1CYt1sw      22:00  35.579021  139.663525   \n",
       "pTRkmFZ4RfSbf2aud8VA4w      21:00  35.573672  139.661720   \n",
       "nS3WLvBuTky3az1JNtP3Pw      22:00  35.565742  139.651417   \n",
       "\n",
       "                                                     name open_hour  point  \\\n",
       "id                                                                           \n",
       "HZ38aBt6Q7i40am1CYt1sw  デニーズ 武蔵小杉店 Denny's MUSASHI-KOSUGI     11:00    4.3   \n",
       "pTRkmFZ4RfSbf2aud8VA4w      藍屋 武蔵小杉店  Aiya Musashi Kosugi     11:00    4.2   \n",
       "nS3WLvBuTky3az1JNtP3Pw                      ジャイプール Jaipur     17:00    4.3   \n",
       "\n",
       "                       postal_code  reviews              shop_position_id  \n",
       "id                                                                         \n",
       "HZ38aBt6Q7i40am1CYt1sw    211-0004    211.0        35.5790206-139.6635248  \n",
       "pTRkmFZ4RfSbf2aud8VA4w    211-0004     32.0        35.5736715-139.6617199  \n",
       "nS3WLvBuTky3az1JNtP3Pw    211-0025     11.0  35.565742-139.65141699999998  "
      ]
     },
     "execution_count": 28,
     "metadata": {},
     "output_type": "execute_result"
    }
   ],
   "source": [
    "df.head(3)"
   ]
  },
  {
   "cell_type": "markdown",
   "metadata": {},
   "source": [
    "## 最寄り駅ごとにお店を分類する"
   ]
  },
  {
   "cell_type": "markdown",
   "metadata": {},
   "source": [
    "武蔵中原、武蔵新城、武蔵小杉、武蔵溝ノ口、その他の分類でお店を分類する。半径1km県内を最寄りと定義する。"
   ]
  },
  {
   "cell_type": "code",
   "execution_count": 132,
   "metadata": {},
   "outputs": [],
   "source": [
    "kosugi_lat, kosugi_lng = 35.5766335,139.6572773 # 武蔵小杉駅\n",
    "nakahara_lat, nakahara_lng = 35.5807143,139.6399183 # 武蔵中原駅\n",
    "shinjo_lat, shinjo_lng = 35.58718,139.6276537 # 武蔵新城\n",
    "mizonokuchi_lat, mizonokuchi_lng = 35.5991055,139.6087969 # 武蔵溝ノ口駅\n",
    "\n",
    "stations = [\n",
    "    [\"武蔵小杉\", [kosugi_lat, kosugi_lng]],\n",
    "    [\"武蔵中原\", [nakahara_lat, nakahara_lng]],\n",
    "    [\"武蔵新城\", [shinjo_lat, shinjo_lng]],\n",
    "    [\"武蔵溝ノ口\", [mizonokuchi_lat, mizonokuchi_lng]]\n",
    "]"
   ]
  },
  {
   "cell_type": "code",
   "execution_count": 146,
   "metadata": {},
   "outputs": [],
   "source": [
    "def is_near_station(station_lat, station_lng, shop_lat, shop_lng):\n",
    "    grs80 = Geod(ellps='GRS80')  # GRS80楕円体\n",
    " \n",
    "    _, _, distance = grs80.inv(station_lng, station_lat, shop_lng, shop_lat)\n",
    "\n",
    "    return distance <= 1000\n",
    "\n",
    "def get_near_station_name(station, shop_lat, shop_lng, v):\n",
    "    station_name = station[0]\n",
    "    station_position = station[1]\n",
    "    \n",
    "    if is_near_station(station_position[0], station_position[1], shop_lat, shop_lng):\n",
    "        return station_name\n",
    "    else:\n",
    "        if v != \"その他\":\n",
    "            return v\n",
    "        else:\n",
    "            return \"その他\""
   ]
  },
  {
   "cell_type": "code",
   "execution_count": 147,
   "metadata": {},
   "outputs": [],
   "source": [
    "df[\"near_station\"] = \"その他\"\n",
    "\n",
    "for station in stations:\n",
    "    df[\"near_station\"] = df.apply(lambda x: get_near_station_name(station, x.latitude, x.longitude, x.near_station), axis=1)"
   ]
  },
  {
   "cell_type": "code",
   "execution_count": 182,
   "metadata": {},
   "outputs": [],
   "source": [
    "output = pd.DataFrame(df.groupby(\"near_station\").count()[\"name\"])\n",
    "output.index.name = \"最寄り駅\"\n",
    "output = output.rename(columns = {\"name\": \"店舗数\"})"
   ]
  },
  {
   "cell_type": "code",
   "execution_count": 189,
   "metadata": {},
   "outputs": [
    {
     "data": {
      "text/plain": [
       "<matplotlib.axes._subplots.AxesSubplot at 0x7f06f1d4c450>"
      ]
     },
     "execution_count": 189,
     "metadata": {},
     "output_type": "execute_result"
    },
    {
     "data": {
      "image/png": "[encoded data removed]",
      "text/plain": [
       "<Figure size 432x288 with 1 Axes>"
      ]
     },
     "metadata": {
      "needs_background": "light"
     },
     "output_type": "display_data"
    }
   ],
   "source": [
    "sns.barplot(x=\"最寄り駅\", y=\"店舗数\", data=output.reset_index())"
   ]
  },
  {
   "cell_type": "code",
   "execution_count": 190,
   "metadata": {},
   "outputs": [
    {
     "data": {
      "text/html": [
       "<div>\n",
       "<style scoped>\n",
       "    .dataframe tbody tr th:only-of-type {\n",
       "        vertical-align: middle;\n",
       "    }\n",
       "\n",
       "    .dataframe tbody tr th {\n",
       "        vertical-align: top;\n",
       "    }\n",
       "\n",
       "    .dataframe thead th {\n",
       "        text-align: right;\n",
       "    }\n",
       "</style>\n",
       "<table border=\"1\" class=\"dataframe\">\n",
       "  <thead>\n",
       "    <tr style=\"text-align: right;\">\n",
       "      <th></th>\n",
       "      <th>店舗数</th>\n",
       "    </tr>\n",
       "    <tr>\n",
       "      <th>最寄り駅</th>\n",
       "      <th></th>\n",
       "    </tr>\n",
       "  </thead>\n",
       "  <tbody>\n",
       "    <tr>\n",
       "      <th>その他</th>\n",
       "      <td>96</td>\n",
       "    </tr>\n",
       "    <tr>\n",
       "      <th>武蔵中原</th>\n",
       "      <td>20</td>\n",
       "    </tr>\n",
       "    <tr>\n",
       "      <th>武蔵小杉</th>\n",
       "      <td>48</td>\n",
       "    </tr>\n",
       "    <tr>\n",
       "      <th>武蔵新城</th>\n",
       "      <td>27</td>\n",
       "    </tr>\n",
       "    <tr>\n",
       "      <th>武蔵溝ノ口</th>\n",
       "      <td>47</td>\n",
       "    </tr>\n",
       "  </tbody>\n",
       "</table>\n",
       "</div>"
      ],
      "text/plain": [
       "       店舗数\n",
       "最寄り駅      \n",
       "その他     96\n",
       "武蔵中原    20\n",
       "武蔵小杉    48\n",
       "武蔵新城    27\n",
       "武蔵溝ノ口   47"
      ]
     },
     "execution_count": 190,
     "metadata": {},
     "output_type": "execute_result"
    }
   ],
   "source": [
    "output"
   ]
  },
  {
   "cell_type": "code",
   "execution_count": null,
   "metadata": {},
   "outputs": [],
   "source": []
  }
 ],
 "metadata": {
  "kernelspec": {
   "display_name": "Environment (conda_ubereats)",
   "language": "python",
   "name": "conda_ubereats"
  },
  "language_info": {
   "codemirror_mode": {
    "name": "ipython",
    "version": 3
   },
   "file_extension": ".py",
   "mimetype": "text/x-python",
   "name": "python",
   "nbconvert_exporter": "python",
   "pygments_lexer": "ipython3",
   "version": "3.7.5"
  }
 },
 "nbformat": 4,
 "nbformat_minor": 2
}
