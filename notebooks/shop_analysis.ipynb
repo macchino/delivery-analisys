{
 "cells": [
  {
   "cell_type": "markdown",
   "metadata": {},
   "source": [
    "# UberEats店舗データ分析(武蔵中原近辺)"
   ]
  },
  {
   "cell_type": "code",
   "execution_count": 1,
   "metadata": {},
   "outputs": [],
   "source": [
    "import pandas as pd\n",
    "import datetime\n",
    "import seaborn as sns\n",
    "from pyproj import Geod\n",
    "import japanize_matplotlib"
   ]
  },
  {
   "cell_type": "code",
   "execution_count": 2,
   "metadata": {},
   "outputs": [],
   "source": [
    "FILE_PATH = './../data/shop_master.csv'\n",
    "master = pd.read_csv(FILE_PATH, index_col='id')"
   ]
  },
  {
   "cell_type": "code",
   "execution_count": 3,
   "metadata": {},
   "outputs": [
    {
     "data": {
      "text/plain": [
       "308"
      ]
     },
     "execution_count": 3,
     "metadata": {},
     "output_type": "execute_result"
    }
   ],
   "source": [
    "len(master)"
   ]
  },
  {
   "cell_type": "code",
   "execution_count": 4,
   "metadata": {},
   "outputs": [
    {
     "data": {
      "text/html": [
       "<div>\n",
       "<style scoped>\n",
       "    .dataframe tbody tr th:only-of-type {\n",
       "        vertical-align: middle;\n",
       "    }\n",
       "\n",
       "    .dataframe tbody tr th {\n",
       "        vertical-align: top;\n",
       "    }\n",
       "\n",
       "    .dataframe thead th {\n",
       "        text-align: right;\n",
       "    }\n",
       "</style>\n",
       "<table border=\"1\" class=\"dataframe\">\n",
       "  <thead>\n",
       "    <tr style=\"text-align: right;\">\n",
       "      <th></th>\n",
       "      <th>address</th>\n",
       "      <th>close_hour</th>\n",
       "      <th>latitude</th>\n",
       "      <th>longitude</th>\n",
       "      <th>name</th>\n",
       "      <th>open_hour</th>\n",
       "      <th>point</th>\n",
       "      <th>postal_code</th>\n",
       "      <th>reviews</th>\n",
       "      <th>url</th>\n",
       "    </tr>\n",
       "    <tr>\n",
       "      <th>id</th>\n",
       "      <th></th>\n",
       "      <th></th>\n",
       "      <th></th>\n",
       "      <th></th>\n",
       "      <th></th>\n",
       "      <th></th>\n",
       "      <th></th>\n",
       "      <th></th>\n",
       "      <th></th>\n",
       "      <th></th>\n",
       "    </tr>\n",
       "  </thead>\n",
       "  <tbody>\n",
       "    <tr>\n",
       "      <th>nWVRj3lxR-GgHArpgXaG-A</th>\n",
       "      <td>神奈川県横浜市港北区日吉本町1-16-20 Kanagawa</td>\n",
       "      <td>21:00</td>\n",
       "      <td>35.553888</td>\n",
       "      <td>139.644080</td>\n",
       "      <td>キッチン オリジン 日吉中央通り Kitchen Origin Hiyoshichuodori</td>\n",
       "      <td>10:00</td>\n",
       "      <td>4.2</td>\n",
       "      <td>223-0062</td>\n",
       "      <td>26.0</td>\n",
       "      <td>https://www.ubereats.com/ja-JP/yokohama/food-d...</td>\n",
       "    </tr>\n",
       "    <tr>\n",
       "      <th>NwDRwsDqS7-xf7e3844hsA</th>\n",
       "      <td>神奈川県川崎市高津区溝口２丁目３－１３</td>\n",
       "      <td>22:00</td>\n",
       "      <td>35.599877</td>\n",
       "      <td>139.609638</td>\n",
       "      <td>バーミヤン 溝の口店 Bamiyan Mizonokuchi</td>\n",
       "      <td>10:30</td>\n",
       "      <td>4.5</td>\n",
       "      <td>213-0001</td>\n",
       "      <td>102.0</td>\n",
       "      <td>https://www.ubereats.com/ja-JP/yokohama/food-d...</td>\n",
       "    </tr>\n",
       "    <tr>\n",
       "      <th>kRn0KFEVR5CKiFlocLwC_g</th>\n",
       "      <td>神奈川県 川崎市 高津区 千年 665 Kawasaki</td>\n",
       "      <td>21:00</td>\n",
       "      <td>35.577274</td>\n",
       "      <td>139.628568</td>\n",
       "      <td>とんかつ後藤 Tonkatsu Goto</td>\n",
       "      <td>17:00</td>\n",
       "      <td>NaN</td>\n",
       "      <td>213-0022</td>\n",
       "      <td>NaN</td>\n",
       "      <td>https://www.ubereats.com/ja-JP/yokohama/food-d...</td>\n",
       "    </tr>\n",
       "  </tbody>\n",
       "</table>\n",
       "</div>"
      ],
      "text/plain": [
       "                                               address close_hour   latitude  \\\n",
       "id                                                                             \n",
       "nWVRj3lxR-GgHArpgXaG-A  神奈川県横浜市港北区日吉本町1-16-20 Kanagawa      21:00  35.553888   \n",
       "NwDRwsDqS7-xf7e3844hsA             神奈川県川崎市高津区溝口２丁目３－１３      22:00  35.599877   \n",
       "kRn0KFEVR5CKiFlocLwC_g    神奈川県 川崎市 高津区 千年 665 Kawasaki      21:00  35.577274   \n",
       "\n",
       "                         longitude  \\\n",
       "id                                   \n",
       "nWVRj3lxR-GgHArpgXaG-A  139.644080   \n",
       "NwDRwsDqS7-xf7e3844hsA  139.609638   \n",
       "kRn0KFEVR5CKiFlocLwC_g  139.628568   \n",
       "\n",
       "                                                                   name  \\\n",
       "id                                                                        \n",
       "nWVRj3lxR-GgHArpgXaG-A  キッチン オリジン 日吉中央通り Kitchen Origin Hiyoshichuodori   \n",
       "NwDRwsDqS7-xf7e3844hsA                   バーミヤン 溝の口店 Bamiyan Mizonokuchi   \n",
       "kRn0KFEVR5CKiFlocLwC_g                             とんかつ後藤 Tonkatsu Goto   \n",
       "\n",
       "                       open_hour  point postal_code  reviews  \\\n",
       "id                                                             \n",
       "nWVRj3lxR-GgHArpgXaG-A     10:00    4.2    223-0062     26.0   \n",
       "NwDRwsDqS7-xf7e3844hsA     10:30    4.5    213-0001    102.0   \n",
       "kRn0KFEVR5CKiFlocLwC_g     17:00    NaN    213-0022      NaN   \n",
       "\n",
       "                                                                      url  \n",
       "id                                                                         \n",
       "nWVRj3lxR-GgHArpgXaG-A  https://www.ubereats.com/ja-JP/yokohama/food-d...  \n",
       "NwDRwsDqS7-xf7e3844hsA  https://www.ubereats.com/ja-JP/yokohama/food-d...  \n",
       "kRn0KFEVR5CKiFlocLwC_g  https://www.ubereats.com/ja-JP/yokohama/food-d...  "
      ]
     },
     "execution_count": 4,
     "metadata": {},
     "output_type": "execute_result"
    }
   ],
   "source": [
    "master.head(3)"
   ]
  },
  {
   "cell_type": "code",
   "execution_count": 5,
   "metadata": {},
   "outputs": [],
   "source": [
    "df = master.assign(\n",
    "    shop_position_id = master.apply(lambda x: str(x.latitude) + \"-\" + str(x.longitude), axis=1)).drop([\"address\", \"url\"], axis=1)"
   ]
  },
  {
   "cell_type": "code",
   "execution_count": 6,
   "metadata": {},
   "outputs": [
    {
     "data": {
      "text/html": [
       "<div>\n",
       "<style scoped>\n",
       "    .dataframe tbody tr th:only-of-type {\n",
       "        vertical-align: middle;\n",
       "    }\n",
       "\n",
       "    .dataframe tbody tr th {\n",
       "        vertical-align: top;\n",
       "    }\n",
       "\n",
       "    .dataframe thead th {\n",
       "        text-align: right;\n",
       "    }\n",
       "</style>\n",
       "<table border=\"1\" class=\"dataframe\">\n",
       "  <thead>\n",
       "    <tr style=\"text-align: right;\">\n",
       "      <th></th>\n",
       "      <th>close_hour</th>\n",
       "      <th>latitude</th>\n",
       "      <th>longitude</th>\n",
       "      <th>name</th>\n",
       "      <th>open_hour</th>\n",
       "      <th>point</th>\n",
       "      <th>postal_code</th>\n",
       "      <th>reviews</th>\n",
       "      <th>shop_position_id</th>\n",
       "    </tr>\n",
       "    <tr>\n",
       "      <th>id</th>\n",
       "      <th></th>\n",
       "      <th></th>\n",
       "      <th></th>\n",
       "      <th></th>\n",
       "      <th></th>\n",
       "      <th></th>\n",
       "      <th></th>\n",
       "      <th></th>\n",
       "      <th></th>\n",
       "    </tr>\n",
       "  </thead>\n",
       "  <tbody>\n",
       "    <tr>\n",
       "      <th>nWVRj3lxR-GgHArpgXaG-A</th>\n",
       "      <td>21:00</td>\n",
       "      <td>35.553888</td>\n",
       "      <td>139.644080</td>\n",
       "      <td>キッチン オリジン 日吉中央通り Kitchen Origin Hiyoshichuodori</td>\n",
       "      <td>10:00</td>\n",
       "      <td>4.2</td>\n",
       "      <td>223-0062</td>\n",
       "      <td>26.0</td>\n",
       "      <td>35.55388770000001-139.6440797</td>\n",
       "    </tr>\n",
       "    <tr>\n",
       "      <th>NwDRwsDqS7-xf7e3844hsA</th>\n",
       "      <td>22:00</td>\n",
       "      <td>35.599877</td>\n",
       "      <td>139.609638</td>\n",
       "      <td>バーミヤン 溝の口店 Bamiyan Mizonokuchi</td>\n",
       "      <td>10:30</td>\n",
       "      <td>4.5</td>\n",
       "      <td>213-0001</td>\n",
       "      <td>102.0</td>\n",
       "      <td>35.5998771-139.6096381</td>\n",
       "    </tr>\n",
       "    <tr>\n",
       "      <th>kRn0KFEVR5CKiFlocLwC_g</th>\n",
       "      <td>21:00</td>\n",
       "      <td>35.577274</td>\n",
       "      <td>139.628568</td>\n",
       "      <td>とんかつ後藤 Tonkatsu Goto</td>\n",
       "      <td>17:00</td>\n",
       "      <td>NaN</td>\n",
       "      <td>213-0022</td>\n",
       "      <td>NaN</td>\n",
       "      <td>35.5772743-139.6285682</td>\n",
       "    </tr>\n",
       "  </tbody>\n",
       "</table>\n",
       "</div>"
      ],
      "text/plain": [
       "                       close_hour   latitude   longitude  \\\n",
       "id                                                         \n",
       "nWVRj3lxR-GgHArpgXaG-A      21:00  35.553888  139.644080   \n",
       "NwDRwsDqS7-xf7e3844hsA      22:00  35.599877  139.609638   \n",
       "kRn0KFEVR5CKiFlocLwC_g      21:00  35.577274  139.628568   \n",
       "\n",
       "                                                                   name  \\\n",
       "id                                                                        \n",
       "nWVRj3lxR-GgHArpgXaG-A  キッチン オリジン 日吉中央通り Kitchen Origin Hiyoshichuodori   \n",
       "NwDRwsDqS7-xf7e3844hsA                   バーミヤン 溝の口店 Bamiyan Mizonokuchi   \n",
       "kRn0KFEVR5CKiFlocLwC_g                             とんかつ後藤 Tonkatsu Goto   \n",
       "\n",
       "                       open_hour  point postal_code  reviews  \\\n",
       "id                                                             \n",
       "nWVRj3lxR-GgHArpgXaG-A     10:00    4.2    223-0062     26.0   \n",
       "NwDRwsDqS7-xf7e3844hsA     10:30    4.5    213-0001    102.0   \n",
       "kRn0KFEVR5CKiFlocLwC_g     17:00    NaN    213-0022      NaN   \n",
       "\n",
       "                                     shop_position_id  \n",
       "id                                                     \n",
       "nWVRj3lxR-GgHArpgXaG-A  35.55388770000001-139.6440797  \n",
       "NwDRwsDqS7-xf7e3844hsA         35.5998771-139.6096381  \n",
       "kRn0KFEVR5CKiFlocLwC_g         35.5772743-139.6285682  "
      ]
     },
     "execution_count": 6,
     "metadata": {},
     "output_type": "execute_result"
    }
   ],
   "source": [
    "df.head(3)"
   ]
  },
  {
   "cell_type": "markdown",
   "metadata": {},
   "source": [
    "## 最寄り駅ごとにお店を分類する"
   ]
  },
  {
   "cell_type": "markdown",
   "metadata": {},
   "source": [
    "武蔵中原、武蔵新城、武蔵小杉、武蔵溝ノ口、その他の分類でお店を分類する。半径1km県内を最寄りと定義する。"
   ]
  },
  {
   "cell_type": "code",
   "execution_count": 7,
   "metadata": {},
   "outputs": [],
   "source": [
    "kosugi_lat, kosugi_lng = 35.5766335,139.6572773 # 武蔵小杉駅\n",
    "nakahara_lat, nakahara_lng = 35.5807143,139.6399183 # 武蔵中原駅\n",
    "shinjo_lat, shinjo_lng = 35.58718,139.6276537 # 武蔵新城\n",
    "mizonokuchi_lat, mizonokuchi_lng = 35.5991055,139.6087969 # 武蔵溝ノ口駅\n",
    "\n",
    "stations = [\n",
    "    [\"武蔵小杉\", [kosugi_lat, kosugi_lng]],\n",
    "    [\"武蔵中原\", [nakahara_lat, nakahara_lng]],\n",
    "    [\"武蔵新城\", [shinjo_lat, shinjo_lng]],\n",
    "    [\"武蔵溝ノ口\", [mizonokuchi_lat, mizonokuchi_lng]]\n",
    "]"
   ]
  },
  {
   "cell_type": "code",
   "execution_count": 8,
   "metadata": {},
   "outputs": [],
   "source": [
    "def is_near_station(station_lat, station_lng, shop_lat, shop_lng):\n",
    "    grs80 = Geod(ellps='GRS80')  # GRS80楕円体\n",
    " \n",
    "    _, _, distance = grs80.inv(station_lng, station_lat, shop_lng, shop_lat)\n",
    "\n",
    "    return distance <= 1000\n",
    "\n",
    "def get_near_station_name(station, shop_lat, shop_lng, v):\n",
    "    station_name = station[0]\n",
    "    station_position = station[1]\n",
    "    \n",
    "    if is_near_station(station_position[0], station_position[1], shop_lat, shop_lng):\n",
    "        return station_name\n",
    "    else:\n",
    "        if v != \"その他\":\n",
    "            return v\n",
    "        else:\n",
    "            return \"その他\""
   ]
  },
  {
   "cell_type": "code",
   "execution_count": 9,
   "metadata": {},
   "outputs": [],
   "source": [
    "df[\"near_station\"] = \"その他\"\n",
    "\n",
    "for station in stations:\n",
    "    df[\"near_station\"] = df.apply(lambda x: get_near_station_name(station, x.latitude, x.longitude, x.near_station), axis=1)"
   ]
  },
  {
   "cell_type": "code",
   "execution_count": 10,
   "metadata": {},
   "outputs": [],
   "source": [
    "output = pd.DataFrame(df.groupby(\"near_station\").count()[\"name\"])\n",
    "output.index.name = \"最寄り駅\"\n",
    "output = output.rename(columns = {\"name\": \"店舗数\"})"
   ]
  },
  {
   "cell_type": "code",
   "execution_count": 11,
   "metadata": {},
   "outputs": [
    {
     "data": {
      "text/plain": [
       "<matplotlib.axes._subplots.AxesSubplot at 0x7eff1b41fa10>"
      ]
     },
     "execution_count": 11,
     "metadata": {},
     "output_type": "execute_result"
    },
    {
     "data": {
      "image/png": "[encoded data removed]",
      "text/plain": [
       "<Figure size 432x288 with 1 Axes>"
      ]
     },
     "metadata": {
      "needs_background": "light"
     },
     "output_type": "display_data"
    }
   ],
   "source": [
    "sns.barplot(x=\"最寄り駅\", y=\"店舗数\", data=output.reset_index())"
   ]
  },
  {
   "cell_type": "markdown",
   "metadata": {},
   "source": [
    "## 店舗数の集計"
   ]
  },
  {
   "cell_type": "code",
   "execution_count": 12,
   "metadata": {},
   "outputs": [
    {
     "data": {
      "text/html": [
       "<div>\n",
       "<style scoped>\n",
       "    .dataframe tbody tr th:only-of-type {\n",
       "        vertical-align: middle;\n",
       "    }\n",
       "\n",
       "    .dataframe tbody tr th {\n",
       "        vertical-align: top;\n",
       "    }\n",
       "\n",
       "    .dataframe thead th {\n",
       "        text-align: right;\n",
       "    }\n",
       "</style>\n",
       "<table border=\"1\" class=\"dataframe\">\n",
       "  <thead>\n",
       "    <tr style=\"text-align: right;\">\n",
       "      <th></th>\n",
       "      <th>店舗数</th>\n",
       "    </tr>\n",
       "    <tr>\n",
       "      <th>最寄り駅</th>\n",
       "      <th></th>\n",
       "    </tr>\n",
       "  </thead>\n",
       "  <tbody>\n",
       "    <tr>\n",
       "      <th>その他</th>\n",
       "      <td>149</td>\n",
       "    </tr>\n",
       "    <tr>\n",
       "      <th>武蔵中原</th>\n",
       "      <td>21</td>\n",
       "    </tr>\n",
       "    <tr>\n",
       "      <th>武蔵小杉</th>\n",
       "      <td>55</td>\n",
       "    </tr>\n",
       "    <tr>\n",
       "      <th>武蔵新城</th>\n",
       "      <td>29</td>\n",
       "    </tr>\n",
       "    <tr>\n",
       "      <th>武蔵溝ノ口</th>\n",
       "      <td>54</td>\n",
       "    </tr>\n",
       "  </tbody>\n",
       "</table>\n",
       "</div>"
      ],
      "text/plain": [
       "       店舗数\n",
       "最寄り駅      \n",
       "その他    149\n",
       "武蔵中原    21\n",
       "武蔵小杉    55\n",
       "武蔵新城    29\n",
       "武蔵溝ノ口   54"
      ]
     },
     "execution_count": 12,
     "metadata": {},
     "output_type": "execute_result"
    }
   ],
   "source": [
    "output"
   ]
  },
  {
   "cell_type": "markdown",
   "metadata": {},
   "source": [
    "## レビュー数と評価の集計"
   ]
  },
  {
   "cell_type": "code",
   "execution_count": 13,
   "metadata": {},
   "outputs": [],
   "source": [
    "output2 = pd.DataFrame(df.groupby(\"near_station\").sum()[[\"reviews\", \"point\"]])"
   ]
  },
  {
   "cell_type": "code",
   "execution_count": 14,
   "metadata": {},
   "outputs": [
    {
     "data": {
      "text/html": [
       "<div>\n",
       "<style scoped>\n",
       "    .dataframe tbody tr th:only-of-type {\n",
       "        vertical-align: middle;\n",
       "    }\n",
       "\n",
       "    .dataframe tbody tr th {\n",
       "        vertical-align: top;\n",
       "    }\n",
       "\n",
       "    .dataframe thead th {\n",
       "        text-align: right;\n",
       "    }\n",
       "</style>\n",
       "<table border=\"1\" class=\"dataframe\">\n",
       "  <thead>\n",
       "    <tr style=\"text-align: right;\">\n",
       "      <th></th>\n",
       "      <th>reviews</th>\n",
       "      <th>point</th>\n",
       "    </tr>\n",
       "    <tr>\n",
       "      <th>near_station</th>\n",
       "      <th></th>\n",
       "      <th></th>\n",
       "    </tr>\n",
       "  </thead>\n",
       "  <tbody>\n",
       "    <tr>\n",
       "      <th>その他</th>\n",
       "      <td>14065.0</td>\n",
       "      <td>523.2</td>\n",
       "    </tr>\n",
       "    <tr>\n",
       "      <th>武蔵中原</th>\n",
       "      <td>1931.0</td>\n",
       "      <td>76.2</td>\n",
       "    </tr>\n",
       "    <tr>\n",
       "      <th>武蔵小杉</th>\n",
       "      <td>5977.0</td>\n",
       "      <td>201.4</td>\n",
       "    </tr>\n",
       "    <tr>\n",
       "      <th>武蔵新城</th>\n",
       "      <td>3351.0</td>\n",
       "      <td>76.3</td>\n",
       "    </tr>\n",
       "    <tr>\n",
       "      <th>武蔵溝ノ口</th>\n",
       "      <td>6281.0</td>\n",
       "      <td>182.4</td>\n",
       "    </tr>\n",
       "  </tbody>\n",
       "</table>\n",
       "</div>"
      ],
      "text/plain": [
       "              reviews  point\n",
       "near_station                \n",
       "その他           14065.0  523.2\n",
       "武蔵中原           1931.0   76.2\n",
       "武蔵小杉           5977.0  201.4\n",
       "武蔵新城           3351.0   76.3\n",
       "武蔵溝ノ口          6281.0  182.4"
      ]
     },
     "execution_count": 14,
     "metadata": {},
     "output_type": "execute_result"
    }
   ],
   "source": [
    "output2"
   ]
  },
  {
   "cell_type": "markdown",
   "metadata": {},
   "source": [
    "小杉の方が溝の口よりも、レビュー数が少ないにも関わらず評価ポイントの合計が高いということは、溝の口よりも小杉のほうがよい店が多いということ？"
   ]
  },
  {
   "cell_type": "markdown",
   "metadata": {},
   "source": [
    "## チェーン店の調査"
   ]
  },
  {
   "cell_type": "code",
   "execution_count": 15,
   "metadata": {},
   "outputs": [],
   "source": [
    "def is_chain(x):\n",
    "    if \"店\" in x:\n",
    "        return True\n",
    "    else:\n",
    "        return False\n",
    "\n",
    "df[\"is_chain\"] = df[\"name\"].apply(is_chain)"
   ]
  },
  {
   "cell_type": "code",
   "execution_count": 16,
   "metadata": {
    "scrolled": true
   },
   "outputs": [
    {
     "data": {
      "text/html": [
       "<div>\n",
       "<style scoped>\n",
       "    .dataframe tbody tr th:only-of-type {\n",
       "        vertical-align: middle;\n",
       "    }\n",
       "\n",
       "    .dataframe tbody tr th {\n",
       "        vertical-align: top;\n",
       "    }\n",
       "\n",
       "    .dataframe thead th {\n",
       "        text-align: right;\n",
       "    }\n",
       "</style>\n",
       "<table border=\"1\" class=\"dataframe\">\n",
       "  <thead>\n",
       "    <tr style=\"text-align: right;\">\n",
       "      <th>is_chain</th>\n",
       "      <th>False</th>\n",
       "      <th>True</th>\n",
       "    </tr>\n",
       "    <tr>\n",
       "      <th>near_station</th>\n",
       "      <th></th>\n",
       "      <th></th>\n",
       "    </tr>\n",
       "  </thead>\n",
       "  <tbody>\n",
       "    <tr>\n",
       "      <th>その他</th>\n",
       "      <td>69</td>\n",
       "      <td>80</td>\n",
       "    </tr>\n",
       "    <tr>\n",
       "      <th>武蔵中原</th>\n",
       "      <td>12</td>\n",
       "      <td>9</td>\n",
       "    </tr>\n",
       "    <tr>\n",
       "      <th>武蔵小杉</th>\n",
       "      <td>27</td>\n",
       "      <td>28</td>\n",
       "    </tr>\n",
       "    <tr>\n",
       "      <th>武蔵新城</th>\n",
       "      <td>15</td>\n",
       "      <td>14</td>\n",
       "    </tr>\n",
       "    <tr>\n",
       "      <th>武蔵溝ノ口</th>\n",
       "      <td>22</td>\n",
       "      <td>32</td>\n",
       "    </tr>\n",
       "  </tbody>\n",
       "</table>\n",
       "</div>"
      ],
      "text/plain": [
       "is_chain      False  True \n",
       "near_station              \n",
       "その他              69     80\n",
       "武蔵中原             12      9\n",
       "武蔵小杉             27     28\n",
       "武蔵新城             15     14\n",
       "武蔵溝ノ口            22     32"
      ]
     },
     "execution_count": 16,
     "metadata": {},
     "output_type": "execute_result"
    }
   ],
   "source": [
    "pd.crosstab(df['near_station'], df['is_chain'])"
   ]
  },
  {
   "cell_type": "code",
   "execution_count": 17,
   "metadata": {},
   "outputs": [
    {
     "name": "stdout",
     "output_type": "stream",
     "text": [
      "武蔵小杉: 52%\n",
      "武蔵溝ノ口: 60%\n"
     ]
    }
   ],
   "source": [
    "print(\"武蔵小杉: {}%\".format(round((25/48)*100)))\n",
    "print(\"武蔵溝ノ口: {}%\".format(round((32/53)*100)))"
   ]
  },
  {
   "cell_type": "code",
   "execution_count": null,
   "metadata": {},
   "outputs": [],
   "source": []
  }
 ],
 "metadata": {
  "kernelspec": {
   "display_name": "Environment (conda_ubereats)",
   "language": "python",
   "name": "conda_ubereats"
  },
  "language_info": {
   "codemirror_mode": {
    "name": "ipython",
    "version": 3
   },
   "file_extension": ".py",
   "mimetype": "text/x-python",
   "name": "python",
   "nbconvert_exporter": "python",
   "pygments_lexer": "ipython3",
   "version": "3.7.5"
  }
 },
 "nbformat": 4,
 "nbformat_minor": 2
}
