{
 "cells": [
  {
   "cell_type": "markdown",
   "metadata": {},
   "source": [
    "## 地域のデータ分析"
   ]
  },
  {
   "cell_type": "code",
   "execution_count": 64,
   "metadata": {},
   "outputs": [],
   "source": [
    "import pandas as pd"
   ]
  },
  {
   "cell_type": "code",
   "execution_count": 70,
   "metadata": {},
   "outputs": [],
   "source": [
    "FILE_PATH = \"./../data/area_20191201.csv\""
   ]
  },
  {
   "cell_type": "code",
   "execution_count": 72,
   "metadata": {},
   "outputs": [],
   "source": [
    "df = pd.read_csv(FILE_PATH, index_col=\"地区\")"
   ]
  },
  {
   "cell_type": "code",
   "execution_count": 74,
   "metadata": {},
   "outputs": [
    {
     "data": {
      "text/html": [
       "<div>\n",
       "<style scoped>\n",
       "    .dataframe tbody tr th:only-of-type {\n",
       "        vertical-align: middle;\n",
       "    }\n",
       "\n",
       "    .dataframe tbody tr th {\n",
       "        vertical-align: top;\n",
       "    }\n",
       "\n",
       "    .dataframe thead th {\n",
       "        text-align: right;\n",
       "    }\n",
       "</style>\n",
       "<table border=\"1\" class=\"dataframe\">\n",
       "  <thead>\n",
       "    <tr style=\"text-align: right;\">\n",
       "      <th></th>\n",
       "      <th>世帯数</th>\n",
       "      <th>総人口</th>\n",
       "      <th>人口男</th>\n",
       "      <th>人口女</th>\n",
       "      <th>人口密度</th>\n",
       "    </tr>\n",
       "    <tr>\n",
       "      <th>地区</th>\n",
       "      <th></th>\n",
       "      <th></th>\n",
       "      <th></th>\n",
       "      <th></th>\n",
       "      <th></th>\n",
       "    </tr>\n",
       "  </thead>\n",
       "  <tbody>\n",
       "    <tr>\n",
       "      <th>川崎区</th>\n",
       "      <td>120359</td>\n",
       "      <td>233198</td>\n",
       "      <td>125392</td>\n",
       "      <td>107806</td>\n",
       "      <td>5794</td>\n",
       "    </tr>\n",
       "    <tr>\n",
       "      <th>幸区</th>\n",
       "      <td>81593</td>\n",
       "      <td>170677</td>\n",
       "      <td>86220</td>\n",
       "      <td>84457</td>\n",
       "      <td>16915</td>\n",
       "    </tr>\n",
       "    <tr>\n",
       "      <th>中原区</th>\n",
       "      <td>133068</td>\n",
       "      <td>262072</td>\n",
       "      <td>133366</td>\n",
       "      <td>128706</td>\n",
       "      <td>17696</td>\n",
       "    </tr>\n",
       "    <tr>\n",
       "      <th>高津区</th>\n",
       "      <td>113245</td>\n",
       "      <td>233389</td>\n",
       "      <td>117025</td>\n",
       "      <td>116364</td>\n",
       "      <td>13648</td>\n",
       "    </tr>\n",
       "    <tr>\n",
       "      <th>宮前区</th>\n",
       "      <td>100843</td>\n",
       "      <td>232474</td>\n",
       "      <td>113518</td>\n",
       "      <td>118956</td>\n",
       "      <td>12499</td>\n",
       "    </tr>\n",
       "    <tr>\n",
       "      <th>多摩区</th>\n",
       "      <td>113445</td>\n",
       "      <td>220111</td>\n",
       "      <td>112220</td>\n",
       "      <td>107891</td>\n",
       "      <td>10795</td>\n",
       "    </tr>\n",
       "    <tr>\n",
       "      <th>麻生区</th>\n",
       "      <td>78701</td>\n",
       "      <td>179961</td>\n",
       "      <td>87171</td>\n",
       "      <td>92790</td>\n",
       "      <td>7787</td>\n",
       "    </tr>\n",
       "  </tbody>\n",
       "</table>\n",
       "</div>"
      ],
      "text/plain": [
       "        世帯数     総人口     人口男     人口女   人口密度\n",
       "地区                                        \n",
       "川崎区  120359  233198  125392  107806   5794\n",
       "幸区    81593  170677   86220   84457  16915\n",
       "中原区  133068  262072  133366  128706  17696\n",
       "高津区  113245  233389  117025  116364  13648\n",
       "宮前区  100843  232474  113518  118956  12499\n",
       "多摩区  113445  220111  112220  107891  10795\n",
       "麻生区   78701  179961   87171   92790   7787"
      ]
     },
     "execution_count": 74,
     "metadata": {},
     "output_type": "execute_result"
    }
   ],
   "source": [
    "df"
   ]
  },
  {
   "cell_type": "code",
   "execution_count": null,
   "metadata": {},
   "outputs": [],
   "source": []
  }
 ],
 "metadata": {
  "kernelspec": {
   "display_name": "Environment (conda_ubereats)",
   "language": "python",
   "name": "conda_ubereats"
  },
  "language_info": {
   "codemirror_mode": {
    "name": "ipython",
    "version": 3
   },
   "file_extension": ".py",
   "mimetype": "text/x-python",
   "name": "python",
   "nbconvert_exporter": "python",
   "pygments_lexer": "ipython3",
   "version": "3.7.5"
  }
 },
 "nbformat": 4,
 "nbformat_minor": 2
}
