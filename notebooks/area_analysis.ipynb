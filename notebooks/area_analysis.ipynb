{
 "cells": [
  {
   "cell_type": "markdown",
   "metadata": {},
   "source": [
    "# ウーバーイーツ地域別データ分析"
   ]
  },
  {
   "cell_type": "code",
   "execution_count": 286,
   "metadata": {},
   "outputs": [],
   "source": [
    "import pandas as pd"
   ]
  },
  {
   "cell_type": "code",
   "execution_count": 287,
   "metadata": {},
   "outputs": [],
   "source": [
    "AREA_FILE_PATH = \"./../data/area_20191201.csv\""
   ]
  },
  {
   "cell_type": "code",
   "execution_count": 288,
   "metadata": {},
   "outputs": [],
   "source": [
    "area_data = pd.read_csv(AREA_FILE_PATH, index_col=\"地区\")"
   ]
  },
  {
   "cell_type": "code",
   "execution_count": 289,
   "metadata": {},
   "outputs": [
    {
     "data": {
      "text/html": [
       "<div>\n",
       "<style scoped>\n",
       "    .dataframe tbody tr th:only-of-type {\n",
       "        vertical-align: middle;\n",
       "    }\n",
       "\n",
       "    .dataframe tbody tr th {\n",
       "        vertical-align: top;\n",
       "    }\n",
       "\n",
       "    .dataframe thead th {\n",
       "        text-align: right;\n",
       "    }\n",
       "</style>\n",
       "<table border=\"1\" class=\"dataframe\">\n",
       "  <thead>\n",
       "    <tr style=\"text-align: right;\">\n",
       "      <th></th>\n",
       "      <th>世帯数</th>\n",
       "      <th>総人口</th>\n",
       "      <th>人口男</th>\n",
       "      <th>人口女</th>\n",
       "      <th>人口密度</th>\n",
       "      <th>面積</th>\n",
       "    </tr>\n",
       "    <tr>\n",
       "      <th>地区</th>\n",
       "      <th></th>\n",
       "      <th></th>\n",
       "      <th></th>\n",
       "      <th></th>\n",
       "      <th></th>\n",
       "      <th></th>\n",
       "    </tr>\n",
       "  </thead>\n",
       "  <tbody>\n",
       "    <tr>\n",
       "      <th>川崎区</th>\n",
       "      <td>120359</td>\n",
       "      <td>233198</td>\n",
       "      <td>125392</td>\n",
       "      <td>107806</td>\n",
       "      <td>5794</td>\n",
       "      <td>40.25</td>\n",
       "    </tr>\n",
       "    <tr>\n",
       "      <th>幸区</th>\n",
       "      <td>81593</td>\n",
       "      <td>170677</td>\n",
       "      <td>86220</td>\n",
       "      <td>84457</td>\n",
       "      <td>16915</td>\n",
       "      <td>10.09</td>\n",
       "    </tr>\n",
       "    <tr>\n",
       "      <th>中原区</th>\n",
       "      <td>133068</td>\n",
       "      <td>262072</td>\n",
       "      <td>133366</td>\n",
       "      <td>128706</td>\n",
       "      <td>17696</td>\n",
       "      <td>14.81</td>\n",
       "    </tr>\n",
       "    <tr>\n",
       "      <th>高津区</th>\n",
       "      <td>113245</td>\n",
       "      <td>233389</td>\n",
       "      <td>117025</td>\n",
       "      <td>116364</td>\n",
       "      <td>13648</td>\n",
       "      <td>17.10</td>\n",
       "    </tr>\n",
       "    <tr>\n",
       "      <th>宮前区</th>\n",
       "      <td>100843</td>\n",
       "      <td>232474</td>\n",
       "      <td>113518</td>\n",
       "      <td>118956</td>\n",
       "      <td>12499</td>\n",
       "      <td>18.60</td>\n",
       "    </tr>\n",
       "    <tr>\n",
       "      <th>多摩区</th>\n",
       "      <td>113445</td>\n",
       "      <td>220111</td>\n",
       "      <td>112220</td>\n",
       "      <td>107891</td>\n",
       "      <td>10795</td>\n",
       "      <td>20.39</td>\n",
       "    </tr>\n",
       "    <tr>\n",
       "      <th>麻生区</th>\n",
       "      <td>78701</td>\n",
       "      <td>179961</td>\n",
       "      <td>87171</td>\n",
       "      <td>92790</td>\n",
       "      <td>7787</td>\n",
       "      <td>23.11</td>\n",
       "    </tr>\n",
       "  </tbody>\n",
       "</table>\n",
       "</div>"
      ],
      "text/plain": [
       "        世帯数     総人口     人口男     人口女   人口密度   面積  \n",
       "地区                                               \n",
       "川崎区  120359  233198  125392  107806   5794  40.25\n",
       "幸区    81593  170677   86220   84457  16915  10.09\n",
       "中原区  133068  262072  133366  128706  17696  14.81\n",
       "高津区  113245  233389  117025  116364  13648  17.10\n",
       "宮前区  100843  232474  113518  118956  12499  18.60\n",
       "多摩区  113445  220111  112220  107891  10795  20.39\n",
       "麻生区   78701  179961   87171   92790   7787  23.11"
      ]
     },
     "execution_count": 289,
     "metadata": {},
     "output_type": "execute_result"
    }
   ],
   "source": [
    "area_data"
   ]
  },
  {
   "cell_type": "code",
   "execution_count": 290,
   "metadata": {},
   "outputs": [],
   "source": [
    "SHOP_FILE_PATH = './../data/shop_master.csv'\n",
    "shop_data = pd.read_csv(SHOP_FILE_PATH, index_col='id')"
   ]
  },
  {
   "cell_type": "code",
   "execution_count": 291,
   "metadata": {},
   "outputs": [],
   "source": [
    "nakaharaku_shop_count = 0\n",
    "takatsuku_shop_count = 0\n",
    "kohokuku_shop_count = 0\n",
    "saiwaiku_shop_count = 0\n",
    "other_shop_count = 0"
   ]
  },
  {
   "cell_type": "code",
   "execution_count": 292,
   "metadata": {},
   "outputs": [],
   "source": [
    "for _, address in shop_data[\"address\"].iteritems():\n",
    "    if \"中原区\" in address or \"Nakahara-Ku\" in address:\n",
    "        nakaharaku_shop_count+=1\n",
    "    elif \"高津区\" in address or \"溝口\" in address or \"Takatsu-Ku\" in address:\n",
    "        takatsuku_shop_count+=1\n",
    "    elif \"港北区\" in address or \"Kōhoku-Ku\" in address:\n",
    "        kohokuku_shop_count+=1\n",
    "    elif \"幸区\" in address or \"Saiwai-Ku\" in address:\n",
    "        saiwaiku_shop_count+=1\n",
    "    else:\n",
    "        other_shop_count+=1"
   ]
  },
  {
   "cell_type": "code",
   "execution_count": 293,
   "metadata": {},
   "outputs": [
    {
     "data": {
      "text/plain": [
       "(133, 75, 24, 14, 5)"
      ]
     },
     "execution_count": 293,
     "metadata": {},
     "output_type": "execute_result"
    }
   ],
   "source": [
    "(nakaharaku_shop_count, takatsuku_shop_count, kohokuku_shop_count, saiwaiku_shop_count, other_shop_count)"
   ]
  },
  {
   "cell_type": "code",
   "execution_count": 294,
   "metadata": {},
   "outputs": [],
   "source": [
    "nakahara_takatsu = area_data"
   ]
  },
  {
   "cell_type": "code",
   "execution_count": 295,
   "metadata": {},
   "outputs": [],
   "source": [
    "nakahara_takatsu = area_data.drop([\"川崎区\", \"幸区\", \"宮前区\", \"多摩区\", \"麻生区\"])"
   ]
  },
  {
   "cell_type": "code",
   "execution_count": 296,
   "metadata": {},
   "outputs": [],
   "source": [
    "nakahara_takatsu.loc[\"中原区\", \"店舗数\"] = nakaharaku_shop_count\n",
    "nakahara_takatsu.loc[\"高津区\", \"店舗数\"] = takatsuku_shop_count"
   ]
  },
  {
   "cell_type": "code",
   "execution_count": 297,
   "metadata": {},
   "outputs": [],
   "source": [
    "nakahara_takatsu = nakahara_takatsu.drop([\"総人口\", \"人口男\", \"人口女\"], axis=1)"
   ]
  },
  {
   "cell_type": "code",
   "execution_count": 298,
   "metadata": {},
   "outputs": [
    {
     "name": "stdout",
     "output_type": "stream",
     "text": [
      "中原区: 1000.5112781954887\n",
      "高津区: 1509.9333333333334\n"
     ]
    }
   ],
   "source": [
    "print(\"中原区: {}\".format(nakahara_takatsu.loc[\"中原区\", \"世帯数\"]/nakahara_takatsu.loc[\"中原区\", \"店舗数\"]))\n",
    "print(\"高津区: {}\".format(nakahara_takatsu.loc[\"高津区\", \"世帯数\"]/nakahara_takatsu.loc[\"高津区\", \"店舗数\"]))"
   ]
  },
  {
   "cell_type": "code",
   "execution_count": 299,
   "metadata": {},
   "outputs": [
    {
     "data": {
      "text/html": [
       "<div>\n",
       "<style scoped>\n",
       "    .dataframe tbody tr th:only-of-type {\n",
       "        vertical-align: middle;\n",
       "    }\n",
       "\n",
       "    .dataframe tbody tr th {\n",
       "        vertical-align: top;\n",
       "    }\n",
       "\n",
       "    .dataframe thead th {\n",
       "        text-align: right;\n",
       "    }\n",
       "</style>\n",
       "<table border=\"1\" class=\"dataframe\">\n",
       "  <thead>\n",
       "    <tr style=\"text-align: right;\">\n",
       "      <th></th>\n",
       "      <th>世帯数</th>\n",
       "      <th>人口密度</th>\n",
       "      <th>面積</th>\n",
       "      <th>店舗数</th>\n",
       "    </tr>\n",
       "    <tr>\n",
       "      <th>地区</th>\n",
       "      <th></th>\n",
       "      <th></th>\n",
       "      <th></th>\n",
       "      <th></th>\n",
       "    </tr>\n",
       "  </thead>\n",
       "  <tbody>\n",
       "    <tr>\n",
       "      <th>中原区</th>\n",
       "      <td>133068</td>\n",
       "      <td>17696</td>\n",
       "      <td>14.81</td>\n",
       "      <td>133.0</td>\n",
       "    </tr>\n",
       "    <tr>\n",
       "      <th>高津区</th>\n",
       "      <td>113245</td>\n",
       "      <td>13648</td>\n",
       "      <td>17.10</td>\n",
       "      <td>75.0</td>\n",
       "    </tr>\n",
       "  </tbody>\n",
       "</table>\n",
       "</div>"
      ],
      "text/plain": [
       "        世帯数   人口密度   面積      店舗数\n",
       "地区                              \n",
       "中原区  133068  17696  14.81  133.0\n",
       "高津区  113245  13648  17.10   75.0"
      ]
     },
     "execution_count": 299,
     "metadata": {},
     "output_type": "execute_result"
    }
   ],
   "source": [
    "nakahara_takatsu"
   ]
  },
  {
   "cell_type": "code",
   "execution_count": 313,
   "metadata": {
    "scrolled": true
   },
   "outputs": [
    {
     "data": {
      "text/html": [
       "<div>\n",
       "<style scoped>\n",
       "    .dataframe tbody tr th:only-of-type {\n",
       "        vertical-align: middle;\n",
       "    }\n",
       "\n",
       "    .dataframe tbody tr th {\n",
       "        vertical-align: top;\n",
       "    }\n",
       "\n",
       "    .dataframe thead th {\n",
       "        text-align: right;\n",
       "    }\n",
       "</style>\n",
       "<table border=\"1\" class=\"dataframe\">\n",
       "  <thead>\n",
       "    <tr style=\"text-align: right;\">\n",
       "      <th></th>\n",
       "      <th>世帯数</th>\n",
       "      <th>人口密度</th>\n",
       "      <th>面積</th>\n",
       "      <th>店舗数</th>\n",
       "      <th>店舗数密度</th>\n",
       "      <th>世帯数密度</th>\n",
       "    </tr>\n",
       "    <tr>\n",
       "      <th>地区</th>\n",
       "      <th></th>\n",
       "      <th></th>\n",
       "      <th></th>\n",
       "      <th></th>\n",
       "      <th></th>\n",
       "      <th></th>\n",
       "    </tr>\n",
       "  </thead>\n",
       "  <tbody>\n",
       "    <tr>\n",
       "      <th>中原区</th>\n",
       "      <td>133068</td>\n",
       "      <td>17696</td>\n",
       "      <td>14.81</td>\n",
       "      <td>133.0</td>\n",
       "      <td>9.0</td>\n",
       "      <td>8985.0</td>\n",
       "    </tr>\n",
       "    <tr>\n",
       "      <th>高津区</th>\n",
       "      <td>113245</td>\n",
       "      <td>13648</td>\n",
       "      <td>17.10</td>\n",
       "      <td>75.0</td>\n",
       "      <td>4.4</td>\n",
       "      <td>6622.5</td>\n",
       "    </tr>\n",
       "  </tbody>\n",
       "</table>\n",
       "</div>"
      ],
      "text/plain": [
       "        世帯数   人口密度   面積      店舗数  店舗数密度   世帯数密度\n",
       "地区                                             \n",
       "中原区  133068  17696  14.81  133.0    9.0  8985.0\n",
       "高津区  113245  13648  17.10   75.0    4.4  6622.5"
      ]
     },
     "execution_count": 313,
     "metadata": {},
     "output_type": "execute_result"
    }
   ],
   "source": [
    "nakahara_takatsu.assign(\n",
    "    店舗数密度=nakahara_takatsu.apply(lambda x: round(x[\"店舗数\"]/x[2], 1), axis=1),\n",
    "    世帯数密度=nakahara_takatsu.apply(lambda x: round(x[\"世帯数\"]/x[2], 1), axis=1),\n",
    ")"
   ]
  },
  {
   "cell_type": "markdown",
   "metadata": {},
   "source": [
    "人口密度も店舗密度も高津区よりも中原区の方が上"
   ]
  },
  {
   "cell_type": "code",
   "execution_count": null,
   "metadata": {},
   "outputs": [],
   "source": []
  }
 ],
 "metadata": {
  "kernelspec": {
   "display_name": "Environment (conda_ubereats)",
   "language": "python",
   "name": "conda_ubereats"
  },
  "language_info": {
   "codemirror_mode": {
    "name": "ipython",
    "version": 3
   },
   "file_extension": ".py",
   "mimetype": "text/x-python",
   "name": "python",
   "nbconvert_exporter": "python",
   "pygments_lexer": "ipython3",
   "version": "3.7.5"
  }
 },
 "nbformat": 4,
 "nbformat_minor": 2
}
