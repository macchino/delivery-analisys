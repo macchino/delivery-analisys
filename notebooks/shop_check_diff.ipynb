{
 "cells": [
  {
   "cell_type": "markdown",
   "metadata": {},
   "source": [
    "# 店舗の差分確認"
   ]
  },
  {
   "cell_type": "code",
   "execution_count": 64,
   "metadata": {},
   "outputs": [],
   "source": [
    "import pandas as pd"
   ]
  },
  {
   "cell_type": "code",
   "execution_count": 65,
   "metadata": {},
   "outputs": [],
   "source": [
    "master = pd.read_csv(\"./../data/shop_master.csv\", index_col=\"id\")"
   ]
  },
  {
   "cell_type": "code",
   "execution_count": 66,
   "metadata": {},
   "outputs": [
    {
     "data": {
      "text/html": [
       "<div>\n",
       "<style scoped>\n",
       "    .dataframe tbody tr th:only-of-type {\n",
       "        vertical-align: middle;\n",
       "    }\n",
       "\n",
       "    .dataframe tbody tr th {\n",
       "        vertical-align: top;\n",
       "    }\n",
       "\n",
       "    .dataframe thead th {\n",
       "        text-align: right;\n",
       "    }\n",
       "</style>\n",
       "<table border=\"1\" class=\"dataframe\">\n",
       "  <thead>\n",
       "    <tr style=\"text-align: right;\">\n",
       "      <th></th>\n",
       "      <th>address</th>\n",
       "      <th>latitude</th>\n",
       "      <th>longitude</th>\n",
       "      <th>name</th>\n",
       "      <th>point</th>\n",
       "      <th>postal_code</th>\n",
       "      <th>reviews</th>\n",
       "      <th>url</th>\n",
       "    </tr>\n",
       "    <tr>\n",
       "      <th>id</th>\n",
       "      <th></th>\n",
       "      <th></th>\n",
       "      <th></th>\n",
       "      <th></th>\n",
       "      <th></th>\n",
       "      <th></th>\n",
       "      <th></th>\n",
       "      <th></th>\n",
       "    </tr>\n",
       "  </thead>\n",
       "  <tbody>\n",
       "    <tr>\n",
       "      <th>nWVRj3lxR-GgHArpgXaG-A</th>\n",
       "      <td>神奈川県横浜市港北区日吉本町1-16-20 Kanagawa</td>\n",
       "      <td>35.553888</td>\n",
       "      <td>139.644080</td>\n",
       "      <td>キッチン オリジン 日吉中央通り Kitchen Origin Hiyoshichuodori</td>\n",
       "      <td>4.2</td>\n",
       "      <td>223-0062</td>\n",
       "      <td>26.0</td>\n",
       "      <td>https://www.ubereats.com/jp/yokohama/food-deli...</td>\n",
       "    </tr>\n",
       "    <tr>\n",
       "      <th>kRn0KFEVR5CKiFlocLwC_g</th>\n",
       "      <td>神奈川県 川崎市 高津区 千年 665 Kawasaki</td>\n",
       "      <td>35.577274</td>\n",
       "      <td>139.628568</td>\n",
       "      <td>とんかつ後藤 Tonkatsu Goto</td>\n",
       "      <td>NaN</td>\n",
       "      <td>213-0022</td>\n",
       "      <td>NaN</td>\n",
       "      <td>https://www.ubereats.com/jp/yokohama/food-deli...</td>\n",
       "    </tr>\n",
       "    <tr>\n",
       "      <th>tpjELe1oTbCMLur0jjNhyw</th>\n",
       "      <td>神奈川県川崎市高津区二子4-1-5 Kanagawa</td>\n",
       "      <td>35.602926</td>\n",
       "      <td>139.617100</td>\n",
       "      <td>キッチン オリジン 高津 Kitchen Origin Takatsu</td>\n",
       "      <td>4.3</td>\n",
       "      <td>213-0002</td>\n",
       "      <td>49.0</td>\n",
       "      <td>https://www.ubereats.com/jp/yokohama/food-deli...</td>\n",
       "    </tr>\n",
       "  </tbody>\n",
       "</table>\n",
       "</div>"
      ],
      "text/plain": [
       "                                               address   latitude   longitude  \\\n",
       "id                                                                              \n",
       "nWVRj3lxR-GgHArpgXaG-A  神奈川県横浜市港北区日吉本町1-16-20 Kanagawa  35.553888  139.644080   \n",
       "kRn0KFEVR5CKiFlocLwC_g    神奈川県 川崎市 高津区 千年 665 Kawasaki  35.577274  139.628568   \n",
       "tpjELe1oTbCMLur0jjNhyw      神奈川県川崎市高津区二子4-1-5 Kanagawa  35.602926  139.617100   \n",
       "\n",
       "                                                                   name  \\\n",
       "id                                                                        \n",
       "nWVRj3lxR-GgHArpgXaG-A  キッチン オリジン 日吉中央通り Kitchen Origin Hiyoshichuodori   \n",
       "kRn0KFEVR5CKiFlocLwC_g                             とんかつ後藤 Tonkatsu Goto   \n",
       "tpjELe1oTbCMLur0jjNhyw              キッチン オリジン 高津 Kitchen Origin Takatsu   \n",
       "\n",
       "                        point postal_code  reviews  \\\n",
       "id                                                   \n",
       "nWVRj3lxR-GgHArpgXaG-A    4.2    223-0062     26.0   \n",
       "kRn0KFEVR5CKiFlocLwC_g    NaN    213-0022      NaN   \n",
       "tpjELe1oTbCMLur0jjNhyw    4.3    213-0002     49.0   \n",
       "\n",
       "                                                                      url  \n",
       "id                                                                         \n",
       "nWVRj3lxR-GgHArpgXaG-A  https://www.ubereats.com/jp/yokohama/food-deli...  \n",
       "kRn0KFEVR5CKiFlocLwC_g  https://www.ubereats.com/jp/yokohama/food-deli...  \n",
       "tpjELe1oTbCMLur0jjNhyw  https://www.ubereats.com/jp/yokohama/food-deli...  "
      ]
     },
     "execution_count": 66,
     "metadata": {},
     "output_type": "execute_result"
    }
   ],
   "source": [
    "master.head(3)"
   ]
  },
  {
   "cell_type": "code",
   "execution_count": 67,
   "metadata": {
    "scrolled": true
   },
   "outputs": [
    {
     "data": {
      "text/plain": [
       "573"
      ]
     },
     "execution_count": 67,
     "metadata": {},
     "output_type": "execute_result"
    }
   ],
   "source": [
    "len(master)"
   ]
  },
  {
   "cell_type": "code",
   "execution_count": 68,
   "metadata": {},
   "outputs": [],
   "source": [
    "# df = pd.read_csv(\"./../rawdata/shops/200322_all_stations.csv\", index_col=\"id\")\n",
    "\n",
    "date = \"200412\"\n",
    "nakahara_df = pd.read_csv(\"./../rawdata/shops/{}_musashinakahara.csv\".format(date), index_col=\"id\")\n",
    "shinjo_df = pd.read_csv(\"./../rawdata/shops/{}_musashishinjo.csv\".format(date), index_col=\"id\")\n",
    "kosugi_df = pd.read_csv(\"./../rawdata/shops/{}_musashikosugi.csv\".format(date), index_col=\"id\")\n",
    "mizonokuchi_df = pd.read_csv(\"./../rawdata/shops/{}_musashimizonokuchi.csv\".format(date), index_col=\"id\")\n",
    "miyazakidai_df = pd.read_csv(\"./../rawdata/shops/{}_miyazakidai.csv\".format(date), index_col=\"id\")"
   ]
  },
  {
   "cell_type": "code",
   "execution_count": 69,
   "metadata": {},
   "outputs": [
    {
     "data": {
      "text/plain": [
       "(98, 98, 98, 80, 80)"
      ]
     },
     "execution_count": 69,
     "metadata": {},
     "output_type": "execute_result"
    }
   ],
   "source": [
    "len(nakahara_df), len(shinjo_df), len(mizonokuchi_df), len(kosugi_df), len(miyazakidai_df)"
   ]
  },
  {
   "cell_type": "code",
   "execution_count": 70,
   "metadata": {},
   "outputs": [],
   "source": [
    "data = master\n",
    "data = pd.concat([data, nakahara_df], sort=False).drop_duplicates(subset=\"url\", keep=\"last\")\n",
    "data = pd.concat([data, shinjo_df], sort=False).drop_duplicates(subset=\"url\", keep=\"last\")\n",
    "data = pd.concat([data, kosugi_df], sort=False).drop_duplicates(subset=\"url\", keep=\"last\")\n",
    "data = pd.concat([data, mizonokuchi_df], sort=False).drop_duplicates(subset=\"url\", keep=\"last\")\n",
    "data = pd.concat([data, miyazakidai_df], sort=False).drop_duplicates(subset=\"url\", keep=\"last\")"
   ]
  },
  {
   "cell_type": "code",
   "execution_count": 71,
   "metadata": {},
   "outputs": [
    {
     "data": {
      "text/plain": [
       "576"
      ]
     },
     "execution_count": 71,
     "metadata": {},
     "output_type": "execute_result"
    }
   ],
   "source": [
    "len(data)"
   ]
  },
  {
   "cell_type": "code",
   "execution_count": 73,
   "metadata": {},
   "outputs": [],
   "source": [
    "# 新しく加盟した店\n",
    "new_shops = data[~data['url'].isin(master['url'])]\n",
    "for_show = new_shops.drop([\"latitude\", \"longitude\", \"point\", \"postal_code\", \"reviews\"], axis=1)"
   ]
  },
  {
   "cell_type": "code",
   "execution_count": 74,
   "metadata": {},
   "outputs": [],
   "source": [
    "for_show.to_csv(\"./../tmp/new_shops.csv\")"
   ]
  },
  {
   "cell_type": "code",
   "execution_count": null,
   "metadata": {},
   "outputs": [],
   "source": []
  }
 ],
 "metadata": {
  "kernelspec": {
   "display_name": "Environment (conda_ubereats)",
   "language": "python",
   "name": "conda_ubereats"
  },
  "language_info": {
   "codemirror_mode": {
    "name": "ipython",
    "version": 3
   },
   "file_extension": ".py",
   "mimetype": "text/x-python",
   "name": "python",
   "nbconvert_exporter": "python",
   "pygments_lexer": "ipython3",
   "version": "3.7.5"
  }
 },
 "nbformat": 4,
 "nbformat_minor": 2
}
