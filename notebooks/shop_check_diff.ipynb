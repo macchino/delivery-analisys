{
 "cells": [
  {
   "cell_type": "markdown",
   "metadata": {},
   "source": [
    "# 店舗の差分確認"
   ]
  },
  {
   "cell_type": "code",
   "execution_count": 43,
   "metadata": {},
   "outputs": [],
   "source": [
    "import pandas as pd"
   ]
  },
  {
   "cell_type": "code",
   "execution_count": 44,
   "metadata": {},
   "outputs": [],
   "source": [
    "master = pd.read_csv(\"./../data/shop_master.csv\", index_col=\"id\")"
   ]
  },
  {
   "cell_type": "code",
   "execution_count": 45,
   "metadata": {},
   "outputs": [
    {
     "data": {
      "text/html": [
       "<div>\n",
       "<style scoped>\n",
       "    .dataframe tbody tr th:only-of-type {\n",
       "        vertical-align: middle;\n",
       "    }\n",
       "\n",
       "    .dataframe tbody tr th {\n",
       "        vertical-align: top;\n",
       "    }\n",
       "\n",
       "    .dataframe thead th {\n",
       "        text-align: right;\n",
       "    }\n",
       "</style>\n",
       "<table border=\"1\" class=\"dataframe\">\n",
       "  <thead>\n",
       "    <tr style=\"text-align: right;\">\n",
       "      <th></th>\n",
       "      <th>address</th>\n",
       "      <th>close_hour</th>\n",
       "      <th>latitude</th>\n",
       "      <th>longitude</th>\n",
       "      <th>name</th>\n",
       "      <th>open_hour</th>\n",
       "      <th>point</th>\n",
       "      <th>postal_code</th>\n",
       "      <th>reviews</th>\n",
       "      <th>url</th>\n",
       "    </tr>\n",
       "    <tr>\n",
       "      <th>id</th>\n",
       "      <th></th>\n",
       "      <th></th>\n",
       "      <th></th>\n",
       "      <th></th>\n",
       "      <th></th>\n",
       "      <th></th>\n",
       "      <th></th>\n",
       "      <th></th>\n",
       "      <th></th>\n",
       "      <th></th>\n",
       "    </tr>\n",
       "  </thead>\n",
       "  <tbody>\n",
       "    <tr>\n",
       "      <th>nWVRj3lxR-GgHArpgXaG-A</th>\n",
       "      <td>神奈川県横浜市港北区日吉本町1-16-20 Kanagawa</td>\n",
       "      <td>21:00</td>\n",
       "      <td>35.553888</td>\n",
       "      <td>139.644080</td>\n",
       "      <td>キッチン オリジン 日吉中央通り Kitchen Origin Hiyoshichuodori</td>\n",
       "      <td>10:00</td>\n",
       "      <td>4.2</td>\n",
       "      <td>223-0062</td>\n",
       "      <td>26.0</td>\n",
       "      <td>https://www.ubereats.com/jp/yokohama/food-deli...</td>\n",
       "    </tr>\n",
       "    <tr>\n",
       "      <th>NwDRwsDqS7-xf7e3844hsA</th>\n",
       "      <td>神奈川県川崎市高津区溝口２丁目３－１３</td>\n",
       "      <td>22:00</td>\n",
       "      <td>35.599877</td>\n",
       "      <td>139.609638</td>\n",
       "      <td>バーミヤン 溝の口店 Bamiyan Mizonokuchi</td>\n",
       "      <td>10:30</td>\n",
       "      <td>4.5</td>\n",
       "      <td>213-0001</td>\n",
       "      <td>102.0</td>\n",
       "      <td>https://www.ubereats.com/jp/yokohama/food-deli...</td>\n",
       "    </tr>\n",
       "    <tr>\n",
       "      <th>kRn0KFEVR5CKiFlocLwC_g</th>\n",
       "      <td>神奈川県 川崎市 高津区 千年 665 Kawasaki</td>\n",
       "      <td>21:00</td>\n",
       "      <td>35.577274</td>\n",
       "      <td>139.628568</td>\n",
       "      <td>とんかつ後藤 Tonkatsu Goto</td>\n",
       "      <td>17:00</td>\n",
       "      <td>NaN</td>\n",
       "      <td>213-0022</td>\n",
       "      <td>NaN</td>\n",
       "      <td>https://www.ubereats.com/jp/yokohama/food-deli...</td>\n",
       "    </tr>\n",
       "  </tbody>\n",
       "</table>\n",
       "</div>"
      ],
      "text/plain": [
       "                                               address close_hour   latitude  \\\n",
       "id                                                                             \n",
       "nWVRj3lxR-GgHArpgXaG-A  神奈川県横浜市港北区日吉本町1-16-20 Kanagawa      21:00  35.553888   \n",
       "NwDRwsDqS7-xf7e3844hsA             神奈川県川崎市高津区溝口２丁目３－１３      22:00  35.599877   \n",
       "kRn0KFEVR5CKiFlocLwC_g    神奈川県 川崎市 高津区 千年 665 Kawasaki      21:00  35.577274   \n",
       "\n",
       "                         longitude  \\\n",
       "id                                   \n",
       "nWVRj3lxR-GgHArpgXaG-A  139.644080   \n",
       "NwDRwsDqS7-xf7e3844hsA  139.609638   \n",
       "kRn0KFEVR5CKiFlocLwC_g  139.628568   \n",
       "\n",
       "                                                                   name  \\\n",
       "id                                                                        \n",
       "nWVRj3lxR-GgHArpgXaG-A  キッチン オリジン 日吉中央通り Kitchen Origin Hiyoshichuodori   \n",
       "NwDRwsDqS7-xf7e3844hsA                   バーミヤン 溝の口店 Bamiyan Mizonokuchi   \n",
       "kRn0KFEVR5CKiFlocLwC_g                             とんかつ後藤 Tonkatsu Goto   \n",
       "\n",
       "                       open_hour  point postal_code  reviews  \\\n",
       "id                                                             \n",
       "nWVRj3lxR-GgHArpgXaG-A     10:00    4.2    223-0062     26.0   \n",
       "NwDRwsDqS7-xf7e3844hsA     10:30    4.5    213-0001    102.0   \n",
       "kRn0KFEVR5CKiFlocLwC_g     17:00    NaN    213-0022      NaN   \n",
       "\n",
       "                                                                      url  \n",
       "id                                                                         \n",
       "nWVRj3lxR-GgHArpgXaG-A  https://www.ubereats.com/jp/yokohama/food-deli...  \n",
       "NwDRwsDqS7-xf7e3844hsA  https://www.ubereats.com/jp/yokohama/food-deli...  \n",
       "kRn0KFEVR5CKiFlocLwC_g  https://www.ubereats.com/jp/yokohama/food-deli...  "
      ]
     },
     "execution_count": 45,
     "metadata": {},
     "output_type": "execute_result"
    }
   ],
   "source": [
    "master.head(3)"
   ]
  },
  {
   "cell_type": "code",
   "execution_count": 46,
   "metadata": {
    "scrolled": true
   },
   "outputs": [
    {
     "data": {
      "text/plain": [
       "531"
      ]
     },
     "execution_count": 46,
     "metadata": {},
     "output_type": "execute_result"
    }
   ],
   "source": [
    "len(master)"
   ]
  },
  {
   "cell_type": "code",
   "execution_count": 47,
   "metadata": {},
   "outputs": [],
   "source": [
    "# df = pd.read_csv(\"./../rawdata/shops/200322_all_stations.csv\", index_col=\"id\")\n",
    "\n",
    "date = \"200322\"\n",
    "nakahara_df = pd.read_csv(\"./../rawdata/shops/{}_musashinakahara.csv\".format(date), index_col=\"id\")\n",
    "shinjo_df = pd.read_csv(\"./../rawdata/shops/{}_musashishinjo.csv\".format(date), index_col=\"id\")\n",
    "kosugi_df = pd.read_csv(\"./../rawdata/shops/{}_musashikosugi.csv\".format(date), index_col=\"id\")\n",
    "mizonokuchi_df = pd.read_csv(\"./../rawdata/shops/{}_musashimizonokuchi.csv\".format(date), index_col=\"id\")"
   ]
  },
  {
   "cell_type": "code",
   "execution_count": 48,
   "metadata": {},
   "outputs": [
    {
     "data": {
      "text/plain": [
       "(98, 103, 61, 56)"
      ]
     },
     "execution_count": 48,
     "metadata": {},
     "output_type": "execute_result"
    }
   ],
   "source": [
    "len(nakahara_df), len(shinjo_df), len(mizonokuchi_df), len(kosugi_df)"
   ]
  },
  {
   "cell_type": "code",
   "execution_count": 49,
   "metadata": {},
   "outputs": [],
   "source": [
    "data = master\n",
    "data = pd.concat([data, nakahara_df], sort=False).drop_duplicates(subset=\"url\", keep=\"last\")\n",
    "data = pd.concat([data, shinjo_df], sort=False).drop_duplicates(subset=\"url\", keep=\"last\")\n",
    "data = pd.concat([data, kosugi_df], sort=False).drop_duplicates(subset=\"url\", keep=\"last\")\n",
    "data = pd.concat([data, mizonokuchi_df], sort=False).drop_duplicates(subset=\"url\", keep=\"last\")"
   ]
  },
  {
   "cell_type": "code",
   "execution_count": 50,
   "metadata": {},
   "outputs": [
    {
     "data": {
      "text/plain": [
       "551"
      ]
     },
     "execution_count": 50,
     "metadata": {},
     "output_type": "execute_result"
    }
   ],
   "source": [
    "len(data)"
   ]
  },
  {
   "cell_type": "code",
   "execution_count": 51,
   "metadata": {},
   "outputs": [],
   "source": [
    "# 新しく加盟した店\n",
    "new_shops = data[~data['url'].isin(master['url'])]\n",
    "for_show = new_shops.drop([\"close_hour\", \"latitude\", \"longitude\", \"open_hour\", \"point\", \"postal_code\", \"reviews\"], axis=1)"
   ]
  },
  {
   "cell_type": "code",
   "execution_count": 52,
   "metadata": {},
   "outputs": [],
   "source": [
    "for_show.to_csv(\"./../tmp/new_shops.csv\")"
   ]
  },
  {
   "cell_type": "code",
   "execution_count": null,
   "metadata": {},
   "outputs": [],
   "source": []
  }
 ],
 "metadata": {
  "kernelspec": {
   "display_name": "Environment (conda_ubereats)",
   "language": "python",
   "name": "conda_ubereats"
  },
  "language_info": {
   "codemirror_mode": {
    "name": "ipython",
    "version": 3
   },
   "file_extension": ".py",
   "mimetype": "text/x-python",
   "name": "python",
   "nbconvert_exporter": "python",
   "pygments_lexer": "ipython3",
   "version": "3.7.5"
  }
 },
 "nbformat": 4,
 "nbformat_minor": 2
}
