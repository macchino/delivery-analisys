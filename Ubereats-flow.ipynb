{
 "cells": [
  {
   "cell_type": "markdown",
   "metadata": {},
   "source": [
    "# ◎あなたへのお勧め (既定)\n",
    "\n",
    "## お近くの人気店\n",
    "\n",
    "\n",
    "\n",
    "## 全国的に有名な人気店\n",
    "\n",
    "\n",
    "## Uber Eatsの新着\n",
    "\n",
    "\n",
    "## 本日のオファー\n",
    "\n",
    "\n",
    "## 地元の人々に愛されている飲食店\n",
    "\n",
    "\n",
    "## 1つ頼むと1つ無料"
   ]
  },
  {
   "cell_type": "markdown",
   "metadata": {},
   "source": [
    "# ◎最も人気の料理\n",
    "\n",
    "\n",
    "## "
   ]
  },
  {
   "cell_type": "code",
   "execution_count": null,
   "metadata": {},
   "outputs": [],
   "source": []
  }
 ],
 "metadata": {
  "kernelspec": {
   "display_name": "Python 3",
   "language": "python",
   "name": "python3"
  },
  "language_info": {
   "codemirror_mode": {
    "name": "ipython",
    "version": 3
   },
   "file_extension": ".py",
   "mimetype": "text/x-python",
   "name": "python",
   "nbconvert_exporter": "python",
   "pygments_lexer": "ipython3",
   "version": "3.8.5"
  }
 },
 "nbformat": 4,
 "nbformat_minor": 4
}
